{
 "cells": [
  {
   "cell_type": "markdown",
   "id": "e7af596f",
   "metadata": {},
   "source": [
    "### Source: [Python collections course in Pluralsight](https://app.pluralsight.com/library/courses/python-collections/table-of-contents) by [Mateo Prigl](https://app.pluralsight.com/profile/author/mateo-prigl)"
   ]
  },
  {
   "cell_type": "markdown",
   "id": "da68a72f-4c2b-45b8-ba6c-78c8ce24205b",
   "metadata": {
    "slideshow": {
     "slide_type": "slide"
    },
    "tags": []
   },
   "source": [
    "# Tuples - Use Cases"
   ]
  },
  {
   "cell_type": "markdown",
   "id": "458b64d8-c22e-4977-bd70-7da554a19c13",
   "metadata": {
    "slideshow": {
     "slide_type": "slide"
    }
   },
   "source": [
    "## Immutable Collection of Related Items\n"
   ]
  },
  {
   "cell_type": "code",
   "execution_count": 1,
   "id": "6cf162a7-1277-4326-9638-a5ac540c1545",
   "metadata": {
    "slideshow": {
     "slide_type": "fragment"
    }
   },
   "outputs": [
    {
     "name": "stdout",
     "output_type": "stream",
     "text": [
      "Distance: 44.736312919707636 units\n"
     ]
    }
   ],
   "source": [
    "def calculate_distance(coord1, coord2):\n",
    "    # A simple Euclidean distance calculation for demonstration\n",
    "    return ((coord1[0] - coord2[0]) ** 2 + (coord1[1] - coord2[1]) ** 2) ** 0.5\n",
    "\n",
    "# Coordinates as tuples\n",
    "point_a = (40.7128, -74.0060)  # New York\n",
    "point_b = (34.0522, -118.2437)  # Los Angeles\n",
    "\n",
    "distance = calculate_distance(point_a, point_b)\n",
    "print(f\"Distance: {distance} units\")"
   ]
  },
  {
   "cell_type": "markdown",
   "id": "2746b65f-4340-4d35-ba85-5fe561bfbbdc",
   "metadata": {
    "slideshow": {
     "slide_type": "slide"
    }
   },
   "source": [
    "## Using Tuples in Functions\n",
    "\n",
    "Tuples can be used to return multiple values from a function. They can also be used to create variadic functions."
   ]
  },
  {
   "cell_type": "code",
   "execution_count": 2,
   "id": "584de28f-ca7c-4e96-bc67-2ccbe1cd57ce",
   "metadata": {
    "slideshow": {
     "slide_type": "fragment"
    }
   },
   "outputs": [
    {
     "name": "stdout",
     "output_type": "stream",
     "text": [
      "Min is 1 and max is 401\n"
     ]
    }
   ],
   "source": [
    "def min_max(numbers):\n",
    "    return min(numbers), max(numbers)\n",
    "\n",
    "min_result, max_result = min_max([1, 20, 33, 401, 5])\n",
    "print(f\"Min is {min_result} and max is {max_result}\")"
   ]
  },
  {
   "cell_type": "code",
   "execution_count": 3,
   "id": "88b9dd69-2fef-42b2-ab67-3206a150316e",
   "metadata": {
    "slideshow": {
     "slide_type": "slide"
    }
   },
   "outputs": [
    {
     "name": "stdout",
     "output_type": "stream",
     "text": [
      "(1, 2, 3)\n",
      "6\n",
      "(1, 2, 3, 4, 5)\n",
      "15\n"
     ]
    }
   ],
   "source": [
    "def sum_numbers(*args):\n",
    "    print(args)\n",
    "    return sum(args)\n",
    "\n",
    "print(sum_numbers(1, 2, 3))\n",
    "print(sum_numbers(1, 2, 3, 4, 5)) "
   ]
  },
  {
   "cell_type": "markdown",
   "id": "b9956379-2e12-4ab6-9fdb-9260d96e1710",
   "metadata": {
    "slideshow": {
     "slide_type": "slide"
    }
   },
   "source": [
    "## Storing Configuration Constants\n",
    "\n"
   ]
  },
  {
   "cell_type": "code",
   "execution_count": 4,
   "id": "0a53e44e-29f6-4e03-b225-61ccaaf13c22",
   "metadata": {
    "slideshow": {
     "slide_type": "fragment"
    }
   },
   "outputs": [],
   "source": [
    "# Defining constants for environment variable names\n",
    "ENV_VARIABLES = ('DB_HOST', 'DB_USER', 'DB_PASS', 'API_KEY')\n",
    "\n",
    "# Using these constants ensures that the variable names are not misspelled or modified\n",
    "import os\n",
    "\n",
    "db_host = os.getenv(ENV_VARIABLES[0])"
   ]
  },
  {
   "cell_type": "markdown",
   "id": "57de4a52-2446-49c1-8350-66bc82072b5a",
   "metadata": {
    "slideshow": {
     "slide_type": "slide"
    }
   },
   "source": [
    "## Working with Database Records\n",
    "\n"
   ]
  },
  {
   "cell_type": "code",
   "execution_count": 5,
   "id": "f324a732-6283-4945-a1e1-2c54b81b43e1",
   "metadata": {
    "slideshow": {
     "slide_type": "fragment"
    }
   },
   "outputs": [
    {
     "name": "stdout",
     "output_type": "stream",
     "text": [
      "Employee Record: ID=123, Name=John Doe, Role=Software Engineer, Salary=75000\n"
     ]
    }
   ],
   "source": [
    "def get_employee_record(employee_id):\n",
    "    # Simulated database record retrieval\n",
    "    return (123, \"John Doe\", \"Software Engineer\", 75000)\n",
    "\n",
    "employee_record = get_employee_record(123)\n",
    "print(f\"Employee Record: ID={employee_record[0]}, Name={employee_record[1]}, Role={employee_record[2]}, Salary={employee_record[3]}\")"
   ]
  }
 ],
 "metadata": {
  "celltoolbar": "Slideshow",
  "kernelspec": {
   "display_name": "Python 3 (ipykernel)",
   "language": "python",
   "name": "python3"
  },
  "language_info": {
   "codemirror_mode": {
    "name": "ipython",
    "version": 3
   },
   "file_extension": ".py",
   "mimetype": "text/x-python",
   "name": "python",
   "nbconvert_exporter": "python",
   "pygments_lexer": "ipython3",
   "version": "3.11.7"
  }
 },
 "nbformat": 4,
 "nbformat_minor": 5
}
