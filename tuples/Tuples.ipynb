{
 "cells": [
  {
   "cell_type": "markdown",
   "id": "39e003ba",
   "metadata": {},
   "source": [
    "### Source: [Python collections course in Pluralsight](https://app.pluralsight.com/library/courses/python-collections/table-of-contents) by [Mateo Prigl](https://app.pluralsight.com/profile/author/mateo-prigl)"
   ]
  },
  {
   "cell_type": "markdown",
   "id": "91e04e5b-88ea-4d29-b523-4193c3a75d2c",
   "metadata": {
    "slideshow": {
     "slide_type": "slide"
    },
    "tags": []
   },
   "source": [
    "# Tuples\n",
    "\n",
    "- Used for storing objects in a sequence. Can store objects of different data types.\n",
    "- Fixed number of elements\n",
    "- Immutable\n",
    "- Random access by an index\n",
    "- Ordered\n",
    "- Memory efficient\n",
    "- Also supports slicing like lists\n",
    "- Can be passed to the len() function for number of elements in tuple\n",
    "- Iteration with for loop\n",
    "- Concatenation with '+' operator, repetition with '*' operator - just like Lists"
   ]
  },
  {
   "cell_type": "markdown",
   "id": "3d2210d3-0daf-4956-8e3e-7bd30cb882bb",
   "metadata": {
    "slideshow": {
     "slide_type": "slide"
    }
   },
   "source": [
    "## Creating Tuples\n",
    "\n",
    "Tuples are versatile and can be created in multiple ways."
   ]
  },
  {
   "cell_type": "code",
   "execution_count": 1,
   "id": "8bbf7b2a-7ab8-4929-a874-a12f6082118d",
   "metadata": {
    "slideshow": {
     "slide_type": "slide"
    },
    "tags": []
   },
   "outputs": [
    {
     "name": "stdout",
     "output_type": "stream",
     "text": [
      "()\n",
      "('String', 2, 3.5)\n",
      "('String',)\n",
      "('String', 2, 3.5)\n",
      "(1, 2, 3, 5)\n",
      "('C', 'a', 'r', 'm', 'i', 'c', 'h', 'a', 'e', 'l')\n"
     ]
    }
   ],
   "source": [
    "# Creating an empty tuple\n",
    "my_tuple = ()\n",
    "print(my_tuple)\n",
    "\n",
    "# Creating a tuple\n",
    "my_tuple = (\"String\", 2, 3.5)\n",
    "print(my_tuple) \n",
    "\n",
    "# Creating a single element tuple (if you don't add trailing comma, it will just return string. Won't be a tuple)\n",
    "my_tuple = (\"String\",)\n",
    "print(my_tuple)\n",
    "\n",
    "# Creating a tuple without parantheses (not a good practice in this case, but it is allowed)\n",
    "my_tuple = \"String\", 2, 3.5\n",
    "print(my_tuple) \n",
    "\n",
    "# Creating tuple with from other iterable series of objects\n",
    "my_tuple = tuple([1, 2, 3, 5])\n",
    "print(my_tuple)\n",
    "\n",
    "my_tuple = tuple(\"Carmichael\")\n",
    "print(my_tuple)"
   ]
  },
  {
   "cell_type": "markdown",
   "id": "c54d70c9-0212-4a16-918a-951b008b1489",
   "metadata": {
    "slideshow": {
     "slide_type": "slide"
    }
   },
   "source": [
    "## Accessing Tuple Elements\n",
    "\n",
    "Tuple elements can be accessed by their index, with indexes starting at 0 for the first element."
   ]
  },
  {
   "cell_type": "code",
   "execution_count": 2,
   "id": "270d9a9a-bb5f-4cb5-820d-de03cdcb9f18",
   "metadata": {
    "slideshow": {
     "slide_type": "fragment"
    }
   },
   "outputs": [
    {
     "name": "stdout",
     "output_type": "stream",
     "text": [
      "p\n",
      "t\n",
      "t\n",
      "p\n"
     ]
    }
   ],
   "source": [
    "my_tuple = ('p','e','r','m','i','t')\n",
    "print(my_tuple[0]) \n",
    "print(my_tuple[5])\n",
    "print(my_tuple[-1])\n",
    "print(my_tuple[-6]) "
   ]
  },
  {
   "cell_type": "markdown",
   "id": "a30999b0-03e6-4f3c-8edb-c07f1ce0cc63",
   "metadata": {
    "slideshow": {
     "slide_type": "slide"
    }
   },
   "source": [
    "## Tuple Immutability\n",
    "\n",
    "Once a tuple is created, you cannot add, delete or update its values. Attempting to do so will result in an error."
   ]
  },
  {
   "cell_type": "code",
   "execution_count": 3,
   "id": "b9b1e8fa-da51-4ea8-af3e-41a6107f80b6",
   "metadata": {
    "slideshow": {
     "slide_type": "fragment"
    }
   },
   "outputs": [
    {
     "name": "stdout",
     "output_type": "stream",
     "text": [
      "Error: Cannot modify a tuple. Tuples are immutable.\n"
     ]
    }
   ],
   "source": [
    "my_tuple = ('p','e','r','m','i','t')\n",
    "\n",
    "try:\n",
    "    my_tuple[3] = 'a'\n",
    "except TypeError as e:\n",
    "    print(\"Error: Cannot modify a tuple. Tuples are immutable.\")"
   ]
  },
  {
   "cell_type": "markdown",
   "id": "bbb4614d-65dc-4f17-a421-9364dbc09e5c",
   "metadata": {
    "slideshow": {
     "slide_type": "slide"
    }
   },
   "source": [
    "## Tuple Methods\n",
    "\n",
    "The `count()` method will return the number of elements that have the provided value.\n",
    "\n",
    "The `index()` method will return the index of the first element which is a match to the provided value."
   ]
  },
  {
   "cell_type": "code",
   "execution_count": 4,
   "id": "3f51f975-bdac-47b9-859b-f7f879865af3",
   "metadata": {
    "slideshow": {
     "slide_type": "fragment"
    }
   },
   "outputs": [
    {
     "name": "stdout",
     "output_type": "stream",
     "text": [
      "4\n",
      "2\n"
     ]
    }
   ],
   "source": [
    "my_tuple = (1, 2, 3, 1, 2, 1, 2, 3, 1)\n",
    "print(my_tuple.count(1))\n",
    "\n",
    "print(my_tuple.index(3))"
   ]
  },
  {
   "cell_type": "markdown",
   "id": "27c970c2-09c4-4931-904a-e2a036f7b7dd",
   "metadata": {
    "slideshow": {
     "slide_type": "slide"
    }
   },
   "source": [
    "## Tuple Packing and Unpacking\n",
    "\n",
    "Tuple packing is when multiple values are combined into a single tuple. Tuple unpacking is the inverse operation, extracting those values back into variables."
   ]
  },
  {
   "cell_type": "code",
   "execution_count": 5,
   "id": "097f8dd3-07a0-4eda-922b-6b7d39f2f6a1",
   "metadata": {
    "slideshow": {
     "slide_type": "fragment"
    }
   },
   "outputs": [
    {
     "name": "stdout",
     "output_type": "stream",
     "text": [
      "3.14\n",
      "Python\n",
      "Tuples\n"
     ]
    }
   ],
   "source": [
    "# Packing\n",
    "my_tuple = 3.14, \"Python\", \"Tuples\"\n",
    "\n",
    "# Unpacking\n",
    "pi, language, concept = my_tuple\n",
    "\n",
    "print(pi)\n",
    "print(language)\n",
    "print(concept)"
   ]
  }
 ],
 "metadata": {
  "celltoolbar": "Slideshow",
  "kernelspec": {
   "display_name": "Python 3 (ipykernel)",
   "language": "python",
   "name": "python3"
  },
  "language_info": {
   "codemirror_mode": {
    "name": "ipython",
    "version": 3
   },
   "file_extension": ".py",
   "mimetype": "text/x-python",
   "name": "python",
   "nbconvert_exporter": "python",
   "pygments_lexer": "ipython3",
   "version": "3.10.9"
  }
 },
 "nbformat": 4,
 "nbformat_minor": 5
}
