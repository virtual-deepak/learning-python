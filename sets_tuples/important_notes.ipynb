{
 "cells": [
  {
   "cell_type": "markdown",
   "metadata": {},
   "source": [
    "# Tuples vs. Sets in Python"
   ]
  },
  {
   "cell_type": "markdown",
   "metadata": {},
   "source": [
    "# Tuples vs. Sets in Python\n",
    "\n",
    "| Feature                  | Tuples                                     | Sets                                       | Examples                                    |\n",
    "|--------------------------|--------------------------------------------|--------------------------------------------|---------------------------------------------|\n",
    "| **Definition**           | An ordered, immutable collection of items. |  An unordered, mutable collection of unique items.  | `my_tuple = (1, 2, 3)`<br>`my_set = {1, 2, 3}`                      |\n",
    "| **Syntax**               | `my_tuple = (1, 2, 3)`                     | `my_set = {1, 2, 3}`                      | `my_tuple = (1, 2, 3)` <br> `my_set = {1, 2, 3}` |\n",
    "| **Mutability**           |  Immutable (cannot be changed after creation). |  Mutable (can add or remove items).     | `my_tuple[0] = 5` (❌ error) <br> `my_set.add(4)` (✔️ works) |\n",
    "| **Order**                |  Ordered (items maintain their order).          |  Unordered (items may appear in any order).     | `(1, 2, 3) == (1, 2, 3)` ✔️ <br> `{1, 2, 3} == {3, 2, 1}` ✔️  |\n",
    "| **Duplicates**           |  Can contain duplicate values.           |  Cannot contain duplicate values.         | `my_tuple = (1, 2, 2, 3)`✔️ <br> `my_set = {1, 2, 2, 3}` ➡ `{1, 2, 3}` |\n",
    "| **Accessing Elements**   |  Accessed by index: `my_tuple[0]` (returns `1`). |  No indexing; access is by value.          | `my_tuple[1]` (returns `2`) <br> `my_set[1] ❌`. <br> `3 in my_set` (returns `✔️ True`) |\n",
    "| **Use Cases**            |  Useful for fixed collections of items (e.g., coordinates). |  Useful for membership testing and removing duplicates. | `coordinates = (10, 20)` <br> `tags = {\"python\", \"coding\"}` |\n",
    "| **Performance**           |  Faster access due to fixed structure.                   |  Faster for membership checks (in operator) due to hash table implementation.                 | `2 in (1, 2, 3)` ➡ True ✅ <br> `2 in {1, 2, 3}` ➡ True ✅ |\n",
    "| **Modification**           |  Cannot add or remove items once created.                   |  Can add (`add()`) or remove (`remove()`) items dynamically.                 | `tuple_example += (4,)` ❌ <br> `set_example.remove(2)` ➡ True ✅ |\n",
    "| **Hashable**           |  Hashable (can be used as keys in dictionaries if it contains hashable items).                   |  Unhashable (cannot be used as dictionary keys).                 | `{(1, 2): \"point\"}` ✅ <br> `{{1, 2}: \"set\"}` ❌ |\n",
    "| **Methods Available**           |  Limited methods: `count()`, `index()`.                   |  Various methods: `add()`, `remove()`, `union()`, `intersection()`, etc.  | `tuple_example.count(2)` ➡ `1` ✅ <br> `set_example.union({4, 5})` ✅ |\n",
    "| **Parentheses vs. Braces**           |  Defined using parentheses `()` or the `tuple()` function.                   |  Defined using curly braces `{}` or the `set()` function.  | `tuple_example = (1, 2)` ✅ <br> `set_example = {1, 2}` ✅ |\n"
   ]
  },
  {
   "cell_type": "markdown",
   "metadata": {},
   "source": [
    "# Examples"
   ]
  },
  {
   "cell_type": "code",
   "execution_count": 1,
   "metadata": {},
   "outputs": [
    {
     "name": "stdout",
     "output_type": "stream",
     "text": [
      "2\n",
      "{1, 3, 4}\n"
     ]
    }
   ],
   "source": [
    "# Tuple example\n",
    "tuple_example = (1, 2, 2, 3)\n",
    "print(tuple_example[1])  # Output: 2\n",
    "# tuple_example[0] = 10  # This would raise an error (TypeError)\n",
    "\n",
    "# Set example\n",
    "set_example = {1, 2, 3}\n",
    "set_example.add(4)       # Adds 4 to the set\n",
    "set_example.remove(2)    # Removes 2 from the set\n",
    "print(set_example)       # Output: {1, 3, 4}"
   ]
  },
  {
   "cell_type": "markdown",
   "metadata": {},
   "source": [
    "# Learnings from the Field"
   ]
  },
  {
   "cell_type": "markdown",
   "metadata": {},
   "source": [
    "#### Explanation\n",
    "Consider these two triplets:\n",
    "\n",
    "1. `[0, -1, 1]`<br>\n",
    "2. `[-1, 1, 0]`<br><br>\n",
    "   \n",
    "Even though they contain the same numbers, their order is different. When you convert these lists into tuples, they remain different:<br>\n",
    "\n",
    "1. `tuple([0, -1, 1])` becomes `(0, -1, 1)`<br>\n",
    "2. `tuple([-1, 1, 0])` becomes `(-1, 1, 0)`<br><br>\n",
    "Since the order is different, the set considers them as separate elements. This is why the set allows both `(0, -1, 1)` and `(-1, 1, 0)`."
   ]
  },
  {
   "cell_type": "markdown",
   "metadata": {},
   "source": [
    "\"Question\": \"However, you mentioned set() can be unordered. Why it is considering order here now?\""
   ]
  },
  {
   "cell_type": "markdown",
   "metadata": {},
   "source": [
    "#### Sets and Ordering\n",
    "\n",
    "1. <b>Unordered Nature of Sets:</b><br>\n",
    "      1. A set in Python is unordered in the sense that **the set itself** does not guarantee the order in which elements are stored or retrieved. <br>For example: <br>\n",
    "      `my_set = {3, 1, 2}`<br>\n",
    "\n",
    "      2. When you access `my_set`, the elements might not appear in the order `3, 1, 2`; they can be in any order because the set as a collection is unordered. <br><br>\n",
    "2. <b> Order Within Elements: </b><br>\n",
    "   1. However, when we talk about the **elements** inside a set (like tuples), the **order inside those elements does matter**.<br>\n",
    "   2. If you have two tuples `(0, -1, 1)` and `(-1, 1, 0)`, these are considered **distinct elements** by the set because their internal ordering differs, even though they contain the same numbers.<br><br>\n",
    "\n",
    "#### Why Order Matters Inside Elements\n",
    "\n",
    "When you add a tuple to a set, Python checks if any existing element in the set is exactly the same as the new one (**same values in the same order**). If the order inside the tuple is different, Python considers them distinct elements. This is because a tuple's identity in a set is defined by the values and their order. <br><br>\n",
    "Here’s an example:<br>\n",
    "`my_set = {(0, -1, 1), (-1, 1, 0)}`<br>\n",
    "`print(my_set)`<br><br>\n",
    "\n",
    "Output:<br>\n",
    "`{(0, -1, 1), (-1, 1, 0)}` <br><br>\n",
    "\n",
    "Even though both tuples contain the same numbers, their order is different, so the set keeps them as separate elements.\n",
    "\n",
    "\n",
    "#### Why Sorting Solves the Problem\n",
    "By sorting the triplet before converting it to a tuple: <br><br>\n",
    "`triplet = tuple(sorted([nums[i]] + list(tuple_val)))`\n",
    "\n",
    "1. You ensure that, regardless of the order in which the elements were originally arranged, they are always in a **consistent order** (ascending).<br>\n",
    "2. This makes tuples like `[0, -1, 1]` and `[-1, 0, 1]` appear as `(-1, 0, 1)` consistently, so the set will only store one of them.\n",
    "\n",
    "#### Summary\n",
    "1. A set itself is unordered, meaning the order in which elements are stored/retrieved isn’t guaranteed.\n",
    "2. However, the **order within individual elements (like tuples)** matters. If the order differs, they are treated as distinct elements.\n",
    "3. By sorting the elements inside the tuple before adding them to the set, you ensure consistency, thus eliminating duplicates effectively.\n"
   ]
  }
 ],
 "metadata": {
  "kernelspec": {
   "display_name": ".venv",
   "language": "python",
   "name": "python3"
  },
  "language_info": {
   "codemirror_mode": {
    "name": "ipython",
    "version": 3
   },
   "file_extension": ".py",
   "mimetype": "text/x-python",
   "name": "python",
   "nbconvert_exporter": "python",
   "pygments_lexer": "ipython3",
   "version": "3.10.9"
  }
 },
 "nbformat": 4,
 "nbformat_minor": 2
}
