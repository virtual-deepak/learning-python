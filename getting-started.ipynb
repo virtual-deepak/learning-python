{
 "cells": [
  {
   "cell_type": "markdown",
   "metadata": {},
   "source": [
    "Code to return list of prime numbers upto 'n'"
   ]
  },
  {
   "cell_type": "code",
   "execution_count": 2,
   "metadata": {},
   "outputs": [],
   "source": [
    "def get_prime_numbers(n):\n",
    "    sieve = [True] * (n + 1)\n",
    "    result = []\n",
    "    for num in range(2, n + 1):\n",
    "        if (sieve[num]):\n",
    "            result.append(num)\n",
    "        for i in range(num, n + 1, num):\n",
    "            sieve[i] = False\n",
    "    return result  "
   ]
  },
  {
   "cell_type": "code",
   "execution_count": 8,
   "metadata": {},
   "outputs": [
    {
     "name": "stdout",
     "output_type": "stream",
     "text": [
      "[2, 3, 5, 7]\n"
     ]
    }
   ],
   "source": [
    "result = get_prime_numbers(7)\n",
    "print(result)"
   ]
  },
  {
   "cell_type": "markdown",
   "metadata": {},
   "source": [
    "Shell commands - Always start with bang (!) character as certain commands like 'dir' has its own functionality in python "
   ]
  },
  {
   "cell_type": "code",
   "execution_count": 13,
   "metadata": {},
   "outputs": [
    {
     "name": "stdout",
     "output_type": "stream",
     "text": [
      " Volume in drive C is Windows\n",
      " Volume Serial Number is 1CD6-3BFF\n",
      "\n",
      " Directory of c:\\TFS\\Study\\learning-python\n",
      "\n",
      "05/27/2024  11:56 AM    <DIR>          .\n",
      "05/21/2024  08:20 PM    <DIR>          ..\n",
      "05/21/2024  08:20 PM                66 .gitattributes\n",
      "05/26/2024  09:39 AM                 5 .gitignore\n",
      "05/27/2024  11:54 AM    <DIR>          .venv\n",
      "05/27/2024  12:52 PM             2,129 getting-started.ipynb\n",
      "05/21/2024  08:20 PM                20 README.md\n",
      "05/27/2024  11:53 AM                14 requirements.txt\n",
      "               5 File(s)          2,234 bytes\n",
      "               3 Dir(s)  74,158,235,648 bytes free\n"
     ]
    }
   ],
   "source": [
    "!dir"
   ]
  },
  {
   "cell_type": "code",
   "execution_count": 16,
   "metadata": {},
   "outputs": [
    {
     "name": "stdout",
     "output_type": "stream",
     "text": [
      "c:\\TFS\\Study\\learning-python\n"
     ]
    }
   ],
   "source": [
    "!cd"
   ]
  },
  {
   "cell_type": "code",
   "execution_count": 17,
   "metadata": {},
   "outputs": [],
   "source": [
    "files = !dir"
   ]
  },
  {
   "cell_type": "code",
   "execution_count": 29,
   "metadata": {},
   "outputs": [
    {
     "name": "stdout",
     "output_type": "stream",
     "text": [
      "[' Volume in drive C is Windows', ' Volume Serial Number is 1CD6-3BFF', '', ' Directory of c:\\\\TFS\\\\Study\\\\learning-python', '', '05/27/2024  11:56 AM    <DIR>          .', '05/21/2024  08:20 PM    <DIR>          ..', '05/21/2024  08:20 PM                66 .gitattributes', '05/26/2024  09:39 AM                 5 .gitignore', '05/27/2024  11:54 AM    <DIR>          .venv', '05/27/2024  01:01 PM             2,864 getting-started.ipynb', '05/21/2024  08:20 PM                20 README.md', '05/27/2024  11:53 AM                14 requirements.txt', '               5 File(s)          2,969 bytes', '               3 Dir(s)  74,164,375,552 bytes free']\n"
     ]
    }
   ],
   "source": [
    "print(files)"
   ]
  },
  {
   "cell_type": "markdown",
   "metadata": {},
   "source": [
    "Using the In[] and Out[] with indexes for future reference"
   ]
  },
  {
   "cell_type": "code",
   "execution_count": 21,
   "metadata": {},
   "outputs": [
    {
     "data": {
      "text/plain": [
       "\"get_ipython().system('cd')\""
      ]
     },
     "execution_count": 21,
     "metadata": {},
     "output_type": "execute_result"
    }
   ],
   "source": [
    "In[16]"
   ]
  },
  {
   "cell_type": "code",
   "execution_count": 31,
   "metadata": {},
   "outputs": [
    {
     "data": {
      "text/plain": [
       "\"get_ipython().system('cd')\""
      ]
     },
     "execution_count": 31,
     "metadata": {},
     "output_type": "execute_result"
    }
   ],
   "source": [
    "Out[21]"
   ]
  },
  {
   "cell_type": "markdown",
   "metadata": {},
   "source": [
    "Getting inline help (Docstrings) "
   ]
  },
  {
   "cell_type": "code",
   "execution_count": 32,
   "metadata": {},
   "outputs": [],
   "source": [
    "import random"
   ]
  },
  {
   "cell_type": "code",
   "execution_count": 34,
   "metadata": {},
   "outputs": [
    {
     "name": "stdout",
     "output_type": "stream",
     "text": [
      "\u001b[1;31mType:\u001b[0m        module\n",
      "\u001b[1;31mString form:\u001b[0m <module 'random' from 'C:\\\\Program Files\\\\Python310\\\\lib\\\\random.py'>\n",
      "\u001b[1;31mFile:\u001b[0m        c:\\program files\\python310\\lib\\random.py\n",
      "\u001b[1;31mDocstring:\u001b[0m  \n",
      "Random variable generators.\n",
      "\n",
      "    bytes\n",
      "    -----\n",
      "           uniform bytes (values between 0 and 255)\n",
      "\n",
      "    integers\n",
      "    --------\n",
      "           uniform within range\n",
      "\n",
      "    sequences\n",
      "    ---------\n",
      "           pick random element\n",
      "           pick random sample\n",
      "           pick weighted random sample\n",
      "           generate random permutation\n",
      "\n",
      "    distributions on the real line:\n",
      "    ------------------------------\n",
      "           uniform\n",
      "           triangular\n",
      "           normal (Gaussian)\n",
      "           lognormal\n",
      "           negative exponential\n",
      "           gamma\n",
      "           beta\n",
      "           pareto\n",
      "           Weibull\n",
      "\n",
      "    distributions on the circle (angles 0 to 2pi)\n",
      "    ---------------------------------------------\n",
      "           circular uniform\n",
      "           von Mises\n",
      "\n",
      "General notes on the underlying Mersenne Twister core generator:\n",
      "\n",
      "* The period is 2**19937-1.\n",
      "* It is one of the most extensively tested generators in existence.\n",
      "* The random() method is implemented in C, executes in a single Python step,\n",
      "  and is, therefore, threadsafe."
     ]
    }
   ],
   "source": [
    "random?"
   ]
  },
  {
   "cell_type": "code",
   "execution_count": 35,
   "metadata": {},
   "outputs": [
    {
     "name": "stdout",
     "output_type": "stream",
     "text": [
      "\u001b[1;31mSignature:\u001b[0m \u001b[0mrandom\u001b[0m\u001b[1;33m.\u001b[0m\u001b[0mshuffle\u001b[0m\u001b[1;33m(\u001b[0m\u001b[0mx\u001b[0m\u001b[1;33m,\u001b[0m \u001b[0mrandom\u001b[0m\u001b[1;33m=\u001b[0m\u001b[1;32mNone\u001b[0m\u001b[1;33m)\u001b[0m\u001b[1;33m\u001b[0m\u001b[1;33m\u001b[0m\u001b[0m\n",
      "\u001b[1;31mDocstring:\u001b[0m\n",
      "Shuffle list x in place, and return None.\n",
      "\n",
      "Optional argument random is a 0-argument function returning a\n",
      "random float in [0.0, 1.0); if it is the default None, the\n",
      "standard random.random will be used.\n",
      "\u001b[1;31mFile:\u001b[0m      c:\\program files\\python310\\lib\\random.py\n",
      "\u001b[1;31mType:\u001b[0m      method"
     ]
    }
   ],
   "source": [
    "random.shuffle?"
   ]
  },
  {
   "cell_type": "markdown",
   "metadata": {},
   "source": [
    "Magic commands"
   ]
  },
  {
   "cell_type": "code",
   "execution_count": 36,
   "metadata": {},
   "outputs": [
    {
     "data": {
      "application/json": {
       "cell": {
        "!": "OSMagics",
        "HTML": "Other",
        "SVG": "Other",
        "bash": "Other",
        "capture": "ExecutionMagics",
        "cmd": "Other",
        "code_wrap": "ExecutionMagics",
        "debug": "ExecutionMagics",
        "file": "Other",
        "html": "DisplayMagics",
        "javascript": "DisplayMagics",
        "js": "DisplayMagics",
        "latex": "DisplayMagics",
        "markdown": "DisplayMagics",
        "perl": "Other",
        "prun": "ExecutionMagics",
        "pypy": "Other",
        "python": "Other",
        "python2": "Other",
        "python3": "Other",
        "ruby": "Other",
        "script": "ScriptMagics",
        "sh": "Other",
        "svg": "DisplayMagics",
        "sx": "OSMagics",
        "system": "OSMagics",
        "time": "ExecutionMagics",
        "timeit": "ExecutionMagics",
        "writefile": "OSMagics"
       },
       "line": {
        "alias": "OSMagics",
        "alias_magic": "BasicMagics",
        "autoawait": "AsyncMagics",
        "autocall": "AutoMagics",
        "automagic": "AutoMagics",
        "autosave": "KernelMagics",
        "bookmark": "OSMagics",
        "cd": "OSMagics",
        "clear": "KernelMagics",
        "cls": "KernelMagics",
        "code_wrap": "ExecutionMagics",
        "colors": "BasicMagics",
        "conda": "PackagingMagics",
        "config": "ConfigMagics",
        "connect_info": "KernelMagics",
        "copy": "Other",
        "ddir": "Other",
        "debug": "ExecutionMagics",
        "dhist": "OSMagics",
        "dirs": "OSMagics",
        "doctest_mode": "BasicMagics",
        "echo": "Other",
        "ed": "Other",
        "edit": "KernelMagics",
        "env": "OSMagics",
        "gui": "BasicMagics",
        "hist": "Other",
        "history": "HistoryMagics",
        "killbgscripts": "ScriptMagics",
        "ldir": "Other",
        "less": "KernelMagics",
        "load": "CodeMagics",
        "load_ext": "ExtensionMagics",
        "loadpy": "CodeMagics",
        "logoff": "LoggingMagics",
        "logon": "LoggingMagics",
        "logstart": "LoggingMagics",
        "logstate": "LoggingMagics",
        "logstop": "LoggingMagics",
        "ls": "Other",
        "lsmagic": "BasicMagics",
        "macro": "ExecutionMagics",
        "magic": "BasicMagics",
        "mamba": "PackagingMagics",
        "matplotlib": "PylabMagics",
        "micromamba": "PackagingMagics",
        "mkdir": "Other",
        "more": "KernelMagics",
        "notebook": "BasicMagics",
        "page": "BasicMagics",
        "pastebin": "CodeMagics",
        "pdb": "ExecutionMagics",
        "pdef": "NamespaceMagics",
        "pdoc": "NamespaceMagics",
        "pfile": "NamespaceMagics",
        "pinfo": "NamespaceMagics",
        "pinfo2": "NamespaceMagics",
        "pip": "PackagingMagics",
        "popd": "OSMagics",
        "pprint": "BasicMagics",
        "precision": "BasicMagics",
        "prun": "ExecutionMagics",
        "psearch": "NamespaceMagics",
        "psource": "NamespaceMagics",
        "pushd": "OSMagics",
        "pwd": "OSMagics",
        "pycat": "OSMagics",
        "pylab": "PylabMagics",
        "qtconsole": "KernelMagics",
        "quickref": "BasicMagics",
        "recall": "HistoryMagics",
        "rehashx": "OSMagics",
        "reload_ext": "ExtensionMagics",
        "ren": "Other",
        "rep": "Other",
        "rerun": "HistoryMagics",
        "reset": "NamespaceMagics",
        "reset_selective": "NamespaceMagics",
        "rmdir": "Other",
        "run": "ExecutionMagics",
        "save": "CodeMagics",
        "sc": "OSMagics",
        "set_env": "OSMagics",
        "store": "StoreMagics",
        "sx": "OSMagics",
        "system": "OSMagics",
        "tb": "ExecutionMagics",
        "time": "ExecutionMagics",
        "timeit": "ExecutionMagics",
        "unalias": "OSMagics",
        "unload_ext": "ExtensionMagics",
        "who": "NamespaceMagics",
        "who_ls": "NamespaceMagics",
        "whos": "NamespaceMagics",
        "xdel": "NamespaceMagics",
        "xmode": "BasicMagics"
       }
      },
      "text/plain": [
       "Available line magics:\n",
       "%alias  %alias_magic  %autoawait  %autocall  %automagic  %autosave  %bookmark  %cd  %clear  %cls  %code_wrap  %colors  %conda  %config  %connect_info  %copy  %ddir  %debug  %dhist  %dirs  %doctest_mode  %echo  %ed  %edit  %env  %gui  %hist  %history  %killbgscripts  %ldir  %less  %load  %load_ext  %loadpy  %logoff  %logon  %logstart  %logstate  %logstop  %ls  %lsmagic  %macro  %magic  %mamba  %matplotlib  %micromamba  %mkdir  %more  %notebook  %page  %pastebin  %pdb  %pdef  %pdoc  %pfile  %pinfo  %pinfo2  %pip  %popd  %pprint  %precision  %prun  %psearch  %psource  %pushd  %pwd  %pycat  %pylab  %qtconsole  %quickref  %recall  %rehashx  %reload_ext  %ren  %rep  %rerun  %reset  %reset_selective  %rmdir  %run  %save  %sc  %set_env  %store  %sx  %system  %tb  %time  %timeit  %unalias  %unload_ext  %who  %who_ls  %whos  %xdel  %xmode\n",
       "\n",
       "Available cell magics:\n",
       "%%!  %%HTML  %%SVG  %%bash  %%capture  %%cmd  %%code_wrap  %%debug  %%file  %%html  %%javascript  %%js  %%latex  %%markdown  %%perl  %%prun  %%pypy  %%python  %%python2  %%python3  %%ruby  %%script  %%sh  %%svg  %%sx  %%system  %%time  %%timeit  %%writefile\n",
       "\n",
       "Automagic is ON, % prefix IS NOT needed for line magics."
      ]
     },
     "execution_count": 36,
     "metadata": {},
     "output_type": "execute_result"
    }
   ],
   "source": [
    "%lsmagic"
   ]
  },
  {
   "cell_type": "code",
   "execution_count": 40,
   "metadata": {},
   "outputs": [
    {
     "name": "stdout",
     "output_type": "stream",
     "text": [
      "\u001b[1;31mDocstring:\u001b[0m\n",
      "Make magic functions callable without having to type the initial %.\n",
      "\n",
      "Without arguments toggles on/off (when off, you must call it as\n",
      "%automagic, of course).  With arguments it sets the value, and you can\n",
      "use any of (case insensitive):\n",
      "\n",
      " - on, 1, True: to activate\n",
      "\n",
      " - off, 0, False: to deactivate.\n",
      "\n",
      "Note that magic functions have lowest priority, so if there's a\n",
      "variable whose name collides with that of a magic fn, automagic won't\n",
      "work for that function (you get the variable instead). However, if you\n",
      "delete the variable (del var), the previously shadowed magic function\n",
      "becomes visible to automagic again.\n",
      "\u001b[1;31mFile:\u001b[0m      c:\\tfs\\study\\learning-python\\.venv\\lib\\site-packages\\ipython\\core\\magics\\auto.py"
     ]
    }
   ],
   "source": [
    "%automagic?"
   ]
  },
  {
   "cell_type": "code",
   "execution_count": 41,
   "metadata": {},
   "outputs": [
    {
     "name": "stdout",
     "output_type": "stream",
     "text": [
      "\u001b[1;31mDocstring:\u001b[0m\n",
      "Resets the namespace by removing all names defined by the user, if\n",
      "called without arguments, or by removing some types of objects, such\n",
      "as everything currently in IPython's In[] and Out[] containers (see\n",
      "the parameters for details).\n",
      "\n",
      "Parameters\n",
      "----------\n",
      "-f\n",
      "    force reset without asking for confirmation.\n",
      "-s\n",
      "    'Soft' reset: Only clears your namespace, leaving history intact.\n",
      "    References to objects may be kept. By default (without this option),\n",
      "    we do a 'hard' reset, giving you a new session and removing all\n",
      "    references to objects from the current session.\n",
      "--aggressive\n",
      "    Try to aggressively remove modules from sys.modules ; this\n",
      "    may allow you to reimport Python modules that have been updated and\n",
      "    pick up changes, but can have unintended consequences.\n",
      "\n",
      "in\n",
      "    reset input history\n",
      "out\n",
      "    reset output history\n",
      "dhist\n",
      "    reset directory history\n",
      "array\n",
      "    reset only variables that are NumPy arrays\n",
      "\n",
      "See Also\n",
      "--------\n",
      "reset_selective : invoked as ``%reset_selective``\n",
      "\n",
      "Examples\n",
      "--------\n",
      "::\n",
      "\n",
      "  In [6]: a = 1\n",
      "\n",
      "  In [7]: a\n",
      "  Out[7]: 1\n",
      "\n",
      "  In [8]: 'a' in get_ipython().user_ns\n",
      "  Out[8]: True\n",
      "\n",
      "  In [9]: %reset -f\n",
      "\n",
      "  In [1]: 'a' in get_ipython().user_ns\n",
      "  Out[1]: False\n",
      "\n",
      "  In [2]: %reset -f in\n",
      "  Flushing input history\n",
      "\n",
      "  In [3]: %reset -f dhist in\n",
      "  Flushing directory history\n",
      "  Flushing input history\n",
      "\n",
      "Notes\n",
      "-----\n",
      "Calling this magic from clients that do not implement standard input,\n",
      "such as the ipython notebook interface, will reset the namespace\n",
      "without confirmation.\n",
      "\u001b[1;31mFile:\u001b[0m      c:\\tfs\\study\\learning-python\\.venv\\lib\\site-packages\\ipython\\core\\magics\\namespace.py"
     ]
    }
   ],
   "source": [
    "%reset?"
   ]
  },
  {
   "cell_type": "code",
   "execution_count": 42,
   "metadata": {},
   "outputs": [
    {
     "name": "stdout",
     "output_type": "stream",
     "text": [
      "\u001b[1;31mDocstring:\u001b[0m\n",
      "::\n",
      "\n",
      "  %writefile [-a] filename\n",
      "\n",
      "Write the contents of the cell to a file.\n",
      "\n",
      "The file will be overwritten unless the -a (--append) flag is specified.\n",
      "\n",
      "positional arguments:\n",
      "  filename      file to write\n",
      "\n",
      "options:\n",
      "  -a, --append  Append contents of the cell to an existing file. The file will\n",
      "                be created if it does not exist.\n",
      "\u001b[1;31mFile:\u001b[0m      c:\\tfs\\study\\learning-python\\.venv\\lib\\site-packages\\ipython\\core\\magics\\osm.py"
     ]
    }
   ],
   "source": [
    "%%writefile?"
   ]
  },
  {
   "cell_type": "code",
   "execution_count": null,
   "metadata": {},
   "outputs": [],
   "source": []
  }
 ],
 "metadata": {
  "kernelspec": {
   "display_name": ".venv",
   "language": "python",
   "name": "python3"
  },
  "language_info": {
   "codemirror_mode": {
    "name": "ipython",
    "version": 3
   },
   "file_extension": ".py",
   "mimetype": "text/x-python",
   "name": "python",
   "nbconvert_exporter": "python",
   "pygments_lexer": "ipython3",
   "version": "3.10.9"
  }
 },
 "nbformat": 4,
 "nbformat_minor": 2
}
