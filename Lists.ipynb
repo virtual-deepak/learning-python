{
 "cells": [
  {
   "cell_type": "markdown",
   "id": "f7c7bd22",
   "metadata": {},
   "source": [
    "### Source: [Python collections course in Pluralsight](https://app.pluralsight.com/library/courses/python-collections/table-of-contents) by [Mateo Prigl](https://app.pluralsight.com/profile/author/mateo-prigl)"
   ]
  },
  {
   "cell_type": "markdown",
   "id": "e9344e01",
   "metadata": {},
   "source": [
    "### Overview of below List Operations and Their Complexities\n",
    "\n",
    "| **Operation**           | **Code**                                                         | **Time Complexity** | **Space Complexity** |\n",
    "|-------------------------|------------------------------------------------------------------|---------------------|----------------------|\n",
    "| **Create an Empty List** | `empty_list = []`                                               | O(1)                | O(1)                 |\n",
    "| **Create a List with Elements** | `books = [\"1984\", \"Don Quixote\", \"The Great Gatsby\"]`           | O(n) *              | O(n)                 |\n",
    "| **Access Elements**      | `movies[0]`, `movies[1]`, `movies[-1]`                          | O(1)                | O(1)                 |\n",
    "| **Length of List**       | `len(languages)`                                                | O(1)                | O(1)                 |\n",
    "| **Append Element**       | `shopping_list.append(\"butter\")`                                | O(1)                | O(1)                 |\n",
    "| **Insert Element**       | `primes.insert(2, 11)`                                          | O(n)                | O(1)                 |\n",
    "| **Remove Element**       | `planets.remove(\"Mars\")`                                        | O(n)                | O(1)                 |\n",
    "| **Pop Element by Index** | `planets.pop(2)`                                                | O(1) ** / O(n) ***  | O(1)                 |\n",
    "| **Reverse List**         | `days.reverse()`                                                | O(n)                | O(1)                 |\n",
    "| **Sort List**            | `numbers.sort()`                                                | O(n log n)          | O(1) / O(n) ****     |\n",
    "| **Sum of List Elements** | `sum(numbers)`                                                  | O(n)                | O(1)                 |\n",
    "| **Check All True**       | `all(booleans)`                                                 | O(n)                | O(1)                 |\n",
    "| **Check Any True**       | `any(booleans)`                                                 | O(n)                | O(1)                 |\n",
    "| **Unpacking List**       | `latitude, longitude = coordinates`                             | O(1)                | O(1)                 |\n",
    "| **List Comprehension**   | `[x**2 for x in range(10)]`                                     | O(n)                | O(n)                 |\n",
    "\n",
    "\\* `n` is the number of elements in the list.  \n",
    "** O(1) if popping the last element.  \n",
    "*** O(n) if popping from an arbitrary index.  \n",
    "**** O(n) for Timsort, which is used by Python's sort method, when space complexity includes temporary buffers.\n"
   ]
  },
  {
   "cell_type": "markdown",
   "id": "2f26609a-38a8-481f-85db-16cfb5314d63",
   "metadata": {
    "slideshow": {
     "slide_type": "slide"
    },
    "tags": []
   },
   "source": [
    "# Lists\n",
    "\n",
    "- Used for storing objects in a sequence in which it is pushed into\n",
    "- Dynamic in size\n",
    "- Mutable (change the values in-place)\n",
    "- Random access by an index\n",
    "- Ordered (retains the order of elements in which it was inserted)"
   ]
  },
  {
   "cell_type": "markdown",
   "id": "b53eb86f",
   "metadata": {
    "slideshow": {
     "slide_type": "slide"
    },
    "tags": []
   },
   "source": [
    "## Creating Lists\n",
    "\n",
    "Lists in Python can be created by enclosing elements in square brackets."
   ]
  },
  {
   "cell_type": "code",
   "execution_count": 1,
   "id": "bdd23c43",
   "metadata": {
    "scrolled": true,
    "slideshow": {
     "slide_type": "fragment"
    },
    "tags": []
   },
   "outputs": [
    {
     "name": "stdout",
     "output_type": "stream",
     "text": [
      "[]\n",
      "['1984', 'Don Quixote', 'The Great Gatsby']\n"
     ]
    }
   ],
   "source": [
    "empty_list = []\n",
    "print(empty_list)\n",
    "\n",
    "books = [\"1984\", \"Don Quixote\", \"The Great Gatsby\"]\n",
    "print(books)"
   ]
  },
  {
   "cell_type": "markdown",
   "id": "ac43de47",
   "metadata": {
    "slideshow": {
     "slide_type": "slide"
    },
    "tags": []
   },
   "source": [
    "## Accessing List Elements\n",
    "\n",
    "Elements in a list can be accessed via their index. The first element is at index 0."
   ]
  },
  {
   "cell_type": "code",
   "execution_count": 2,
   "id": "428919a9",
   "metadata": {
    "scrolled": true,
    "slideshow": {
     "slide_type": "fragment"
    },
    "tags": []
   },
   "outputs": [
    {
     "name": "stdout",
     "output_type": "stream",
     "text": [
      "Inception\n",
      "The Matrix\n",
      "Interstellar\n"
     ]
    }
   ],
   "source": [
    "movies = [\"Inception\", \"The Matrix\", \"Interstellar\"]\n",
    "print(movies[0])  # First movie\n",
    "print(movies[1])  # Second movie\n",
    "print(movies[-1]) # Last movie"
   ]
  },
  {
   "cell_type": "markdown",
   "id": "0121278a",
   "metadata": {
    "slideshow": {
     "slide_type": "slide"
    },
    "tags": []
   },
   "source": [
    "## Length of a List\n",
    "\n",
    "The `len()` function is used to find out the number of elements in a list."
   ]
  },
  {
   "cell_type": "code",
   "execution_count": 3,
   "id": "bfe2ed41",
   "metadata": {
    "scrolled": true,
    "slideshow": {
     "slide_type": "fragment"
    },
    "tags": []
   },
   "outputs": [
    {
     "name": "stdout",
     "output_type": "stream",
     "text": [
      "3\n"
     ]
    }
   ],
   "source": [
    "languages = [\"Python\", \"Rust\", \"C++\"]\n",
    "print(len(languages))"
   ]
  },
  {
   "cell_type": "markdown",
   "id": "a44578b9",
   "metadata": {
    "slideshow": {
     "slide_type": "slide"
    }
   },
   "source": [
    "## Appending Elements to a List\n",
    "\n",
    "New elements can be added to the end of the list with the `append()` method."
   ]
  },
  {
   "cell_type": "code",
   "execution_count": 4,
   "id": "e809bee1",
   "metadata": {
    "slideshow": {
     "slide_type": "fragment"
    }
   },
   "outputs": [
    {
     "name": "stdout",
     "output_type": "stream",
     "text": [
      "['milk', 'apples', 'bread', 'butter']\n"
     ]
    }
   ],
   "source": [
    "shopping_list = [\"milk\", \"apples\", \"bread\"]\n",
    "shopping_list.append(\"butter\")\n",
    "print(shopping_list)"
   ]
  },
  {
   "cell_type": "markdown",
   "id": "17de67c9",
   "metadata": {
    "slideshow": {
     "slide_type": "slide"
    }
   },
   "source": [
    "## Inserting Elements into a List\n",
    "\n",
    "The `insert()` method allows adding an element at a specific position in the list."
   ]
  },
  {
   "cell_type": "code",
   "execution_count": 5,
   "id": "7f771857",
   "metadata": {
    "slideshow": {
     "slide_type": "fragment"
    }
   },
   "outputs": [
    {
     "name": "stdout",
     "output_type": "stream",
     "text": [
      "[2, 3, 11, 5, 7]\n"
     ]
    }
   ],
   "source": [
    "primes = [2, 3, 5, 7]\n",
    "primes.insert(2, 11)\n",
    "print(primes)"
   ]
  },
  {
   "cell_type": "markdown",
   "id": "d48a6e22",
   "metadata": {
    "slideshow": {
     "slide_type": "slide"
    }
   },
   "source": [
    "## Removing Elements from a List\n",
    "\n",
    "The `pop()` method removes and returns an element at a given index."
   ]
  },
  {
   "cell_type": "code",
   "execution_count": 6,
   "id": "6504a06f",
   "metadata": {
    "slideshow": {
     "slide_type": "fragment"
    }
   },
   "outputs": [
    {
     "name": "stdout",
     "output_type": "stream",
     "text": [
      "Removed Planet: Mars\n",
      "Removed Planet: Venus\n",
      "['Earth']\n"
     ]
    }
   ],
   "source": [
    "planets = [\"Mercury\", \"Venus\", \"Earth\", \"Mars\"]\n",
    "popped_planet_1 = planets.pop() # Last element\n",
    "popped_planet_2 = planets.pop(1) # pop() returns the removed element\n",
    "del planets[0] # Does not return the removed element. Can also work with slices.\n",
    "print(f\"Removed Planet: {popped_planet_1}\")\n",
    "print(f\"Removed Planet: {popped_planet_2}\")\n",
    "print(planets)"
   ]
  },
  {
   "cell_type": "markdown",
   "id": "61dd8beb",
   "metadata": {
    "slideshow": {
     "slide_type": "slide"
    }
   },
   "source": [
    "## Removing Elements with the `remove()` Method\n",
    "\n",
    "The `remove()` method deletes the first occurrence of a value."
   ]
  },
  {
   "cell_type": "code",
   "execution_count": 7,
   "id": "f4322a80-8f22-4ae3-ae11-ecd2eaf6e801",
   "metadata": {
    "slideshow": {
     "slide_type": "fragment"
    }
   },
   "outputs": [
    {
     "name": "stdout",
     "output_type": "stream",
     "text": [
      "['Hydrogen', 'Helium', 'Beryllium']\n"
     ]
    }
   ],
   "source": [
    "elements = [\"Hydrogen\", \"Helium\", \"Lithium\", \"Beryllium\"]\n",
    "elements.remove(\"Lithium\")\n",
    "print(elements)"
   ]
  },
  {
   "cell_type": "markdown",
   "id": "5d281add",
   "metadata": {
    "slideshow": {
     "slide_type": "slide"
    }
   },
   "source": [
    "## List `clear` Method\n",
    "\n",
    "The `clear()` method removes all items from the list, resulting in an empty list.\n"
   ]
  },
  {
   "cell_type": "code",
   "execution_count": 8,
   "id": "bc9064cf",
   "metadata": {
    "slideshow": {
     "slide_type": "fragment"
    }
   },
   "outputs": [
    {
     "name": "stdout",
     "output_type": "stream",
     "text": [
      "[]\n"
     ]
    }
   ],
   "source": [
    "elements = [\"Hydrogen\", \"Helium\", \"Lithium\", \"Beryllium\"]\n",
    "elements.clear()\n",
    "print(elements)"
   ]
  },
  {
   "cell_type": "markdown",
   "id": "7cab71aa",
   "metadata": {
    "slideshow": {
     "slide_type": "slide"
    }
   },
   "source": [
    "## Extending a List\n",
    "\n",
    "Use `extend()` to add multiple elements to the end of the list."
   ]
  },
  {
   "cell_type": "code",
   "execution_count": 9,
   "id": "3946f0df",
   "metadata": {
    "slideshow": {
     "slide_type": "fragment"
    }
   },
   "outputs": [
    {
     "name": "stdout",
     "output_type": "stream",
     "text": [
      "['red', 'green', 'blue', 'orange', 'purple']\n"
     ]
    }
   ],
   "source": [
    "colors = [\"red\", \"green\", \"blue\"]\n",
    "more_colors = [\"orange\", \"purple\"]\n",
    "colors.extend(more_colors)\n",
    "print(colors)"
   ]
  },
  {
   "cell_type": "markdown",
   "id": "5979be90",
   "metadata": {
    "slideshow": {
     "slide_type": "slide"
    }
   },
   "source": [
    "## Updating List Elements\n",
    "\n",
    "Elements in a list can be changed by direct assignment."
   ]
  },
  {
   "cell_type": "code",
   "execution_count": 10,
   "id": "c6c12205",
   "metadata": {
    "slideshow": {
     "slide_type": "fragment"
    }
   },
   "outputs": [
    {
     "name": "stdout",
     "output_type": "stream",
     "text": [
      "['Asia', 'Africa', 'Antarctica']\n"
     ]
    }
   ],
   "source": [
    "continents = [\"Asia\", \"Africa\", \"Europe\"]\n",
    "continents[2] = \"Antarctica\"\n",
    "print(continents)"
   ]
  },
  {
   "cell_type": "markdown",
   "id": "1a60e8b5",
   "metadata": {
    "slideshow": {
     "slide_type": "slide"
    }
   },
   "source": [
    "## Counting Elements in a List\n",
    "\n",
    "The `count()` method can be used to count the occurrences of an element in a list."
   ]
  },
  {
   "cell_type": "code",
   "execution_count": 11,
   "id": "fad0820a",
   "metadata": {
    "slideshow": {
     "slide_type": "fragment"
    }
   },
   "outputs": [
    {
     "name": "stdout",
     "output_type": "stream",
     "text": [
      "3\n"
     ]
    }
   ],
   "source": [
    "notes = [\"C\", \"D\", \"E\", \"F\", \"G\", \"A\", \"B\", \"C\", \"D\", \"C\"]\n",
    "print(notes.count(\"C\"))"
   ]
  },
  {
   "cell_type": "markdown",
   "id": "5f91f5f5",
   "metadata": {
    "slideshow": {
     "slide_type": "slide"
    }
   },
   "source": [
    "## Finding the Index of an Element\n",
    "\n",
    "Use `index()` to find the position of the first occurrence of an element."
   ]
  },
  {
   "cell_type": "code",
   "execution_count": 12,
   "id": "ed07cafa",
   "metadata": {
    "slideshow": {
     "slide_type": "fragment"
    }
   },
   "outputs": [
    {
     "name": "stdout",
     "output_type": "stream",
     "text": [
      "2\n"
     ]
    }
   ],
   "source": [
    "animals = [\"lion\", \"tiger\", \"bear\", \"wolf\"]\n",
    "print(animals.index(\"bear\"))"
   ]
  },
  {
   "cell_type": "markdown",
   "id": "67799651",
   "metadata": {
    "slideshow": {
     "slide_type": "slide"
    }
   },
   "source": [
    "## List Slicing\n",
    "\n",
    "Slicing can be used to get a sublist of elements."
   ]
  },
  {
   "cell_type": "code",
   "execution_count": 13,
   "id": "733b723a",
   "metadata": {
    "slideshow": {
     "slide_type": "slide"
    }
   },
   "outputs": [
    {
     "name": "stdout",
     "output_type": "stream",
     "text": [
      "Even numbers: [2, 4, 6, 8]\n",
      "First three numbers: [1, 2, 3]\n",
      "Numbers from 4 onwards: [4, 5, 6, 7, 8, 9]\n",
      "First to fourth numbers: [1, 2, 3, 4]\n",
      "Middle numbers (4, 5, 6): [4, 5, 6]\n",
      "Last three numbers: [7, 8, 9]\n"
     ]
    }
   ],
   "source": [
    "numbers = [1, 2, 3, 4, 5, 6, 7, 8, 9]\n",
    "\n",
    "# Example with all three parameters: start, stop, and step\n",
    "# numbers[start_index:stop_index:step]\n",
    "even_numbers = numbers[1:8:2]\n",
    "print(\"Even numbers:\", even_numbers)\n",
    "\n",
    "# Slicing with omitted start index (defaults to beginning of list)\n",
    "first_three = numbers[:3]\n",
    "print(\"First three numbers:\", first_three)\n",
    "\n",
    "# Slicing with omitted stop index (goes until the end of the list)\n",
    "from_four_onwards = numbers[3:]\n",
    "print(\"Numbers from 4 onwards:\", from_four_onwards)\n",
    "\n",
    "# Slicing with omitted step (defaults to 1, includes every item)\n",
    "first_to_fourth = numbers[0:4]\n",
    "print(\"First to fourth numbers:\", first_to_fourth)\n",
    "\n",
    "# Slicing with just two parameters (start and stop)\n",
    "middle_numbers = numbers[3:6]\n",
    "print(\"Middle numbers (4, 5, 6):\", middle_numbers)\n",
    "\n",
    "# Slicing with negative indices\n",
    "last_three = numbers[-3:]\n",
    "print(\"Last three numbers:\", last_three)"
   ]
  },
  {
   "cell_type": "markdown",
   "id": "b91eac73",
   "metadata": {
    "slideshow": {
     "slide_type": "slide"
    }
   },
   "source": [
    "## Creating Copies of Lists\n",
    "\n",
    "Lists can be copied using the `copy()` method or the slicing syntax `[:]`. It's important to use these methods to create a new list object, not just a reference to the original list."
   ]
  },
  {
   "cell_type": "code",
   "execution_count": 14,
   "id": "a0b7dc5f",
   "metadata": {
    "slideshow": {
     "slide_type": "slide"
    }
   },
   "outputs": [
    {
     "name": "stdout",
     "output_type": "stream",
     "text": [
      "Planets before 2006: ['Mercury', 'Venus', 'Earth', 'Mars', 'Jupiter', 'Saturn', 'Uranus', 'Neptune', 'Pluto']\n",
      "Planets after 2006: ['Mercury', 'Venus', 'Earth', 'Mars', 'Jupiter', 'Saturn', 'Uranus', 'Neptune', 'Pluto']\n",
      "\n",
      "After removing Pluto from 'planets_after_2006':\n",
      "Planets before 2006: ['Mercury', 'Venus', 'Earth', 'Mars', 'Jupiter', 'Saturn', 'Uranus', 'Neptune']\n",
      "Planets after 2006: ['Mercury', 'Venus', 'Earth', 'Mars', 'Jupiter', 'Saturn', 'Uranus', 'Neptune']\n"
     ]
    }
   ],
   "source": [
    "# Example demonstrating accidental reference creation\n",
    "\n",
    "# List of planets as known before 2006 (including Pluto)\n",
    "planets_before_2006 = [\"Mercury\", \"Venus\", \"Earth\", \"Mars\", \"Jupiter\", \"Saturn\", \"Uranus\", \"Neptune\", \"Pluto\"]\n",
    "\n",
    "# Accidental reference creation\n",
    "planets_after_2006 = planets_before_2006  # This creates a reference, not a copy\n",
    "\n",
    "# Printing both lists\n",
    "print(\"Planets before 2006:\", planets_before_2006)\n",
    "print(\"Planets after 2006:\", planets_after_2006)\n",
    "\n",
    "# Removing Pluto from the 'planets_after_2006' list\n",
    "planets_after_2006.pop()\n",
    "\n",
    "# Demonstrating that modifying the 'planets_after_2006' also changed 'planets_before_2006'\n",
    "print(\"\\nAfter removing Pluto from 'planets_after_2006':\")\n",
    "print(\"Planets before 2006:\", planets_before_2006)  # Pluto is unexpectedly removed\n",
    "print(\"Planets after 2006:\", planets_after_2006)"
   ]
  },
  {
   "cell_type": "code",
   "execution_count": 15,
   "id": "85d35a2b-3575-49ed-991f-346acd683376",
   "metadata": {
    "slideshow": {
     "slide_type": "slide"
    }
   },
   "outputs": [
    {
     "name": "stdout",
     "output_type": "stream",
     "text": [
      "\n",
      "Now using the copy method and slicing:\n",
      "Planets before 2006: ['Mercury', 'Venus', 'Earth', 'Mars', 'Jupiter', 'Saturn', 'Uranus', 'Neptune', 'Pluto']\n",
      "Planets after 2006 (using .copy()): ['Mercury', 'Venus', 'Earth', 'Mars', 'Jupiter', 'Saturn', 'Uranus', 'Neptune']\n",
      "Planets after 2006 (using slicing): ['Mercury', 'Venus', 'Earth', 'Mars', 'Jupiter', 'Saturn', 'Uranus', 'Neptune']\n"
     ]
    }
   ],
   "source": [
    "# Correct way to copy lists\n",
    "print(\"\\nNow using the copy method and slicing:\")\n",
    "# List of planets as known before 2006 (including Pluto)\n",
    "planets_before_2006 = [\"Mercury\", \"Venus\", \"Earth\", \"Mars\", \"Jupiter\", \"Saturn\", \"Uranus\", \"Neptune\", \"Pluto\"]\n",
    "\n",
    "# Properly copying the list using the .copy() method\n",
    "planets_after_2006_copy = planets_before_2006.copy()\n",
    "# Properly copying the list using slicing\n",
    "planets_after_2006_slice = planets_before_2006[:]\n",
    "\n",
    "# Removing Pluto from the 'planets_after_2006_copy' and 'planets_after_2006_slice' lists\n",
    "planets_after_2006_copy.remove(\"Pluto\")\n",
    "planets_after_2006_slice.remove(\"Pluto\")\n",
    "\n",
    "# Printing all lists to show the differences\n",
    "print(\"Planets before 2006:\", planets_before_2006)  # Pluto is included\n",
    "print(\"Planets after 2006 (using .copy()):\", planets_after_2006_copy)  # Pluto is removed\n",
    "print(\"Planets after 2006 (using slicing):\", planets_after_2006_slice)  # Pluto is removed"
   ]
  },
  {
   "cell_type": "markdown",
   "id": "b092e84e",
   "metadata": {
    "slideshow": {
     "slide_type": "slide"
    }
   },
   "source": [
    "## List Comprehensions\n",
    "\n",
    "List comprehensions provide a concise way to create lists."
   ]
  },
  {
   "cell_type": "code",
   "execution_count": 16,
   "id": "6593c81f",
   "metadata": {
    "slideshow": {
     "slide_type": "fragment"
    }
   },
   "outputs": [
    {
     "name": "stdout",
     "output_type": "stream",
     "text": [
      "[1, 4, 9, 16, 25, 36, 49, 64, 81, 100]\n",
      "[0, 4, 16, 36, 64]\n"
     ]
    }
   ],
   "source": [
    "squares = [x ** 2 for x in range(1, 11)]\n",
    "print(squares)\n",
    "\n",
    "squares_of_even = [x ** 2 for x in range(10) if x % 2 == 0]\n",
    "print(squares_of_even)"
   ]
  },
  {
   "cell_type": "markdown",
   "id": "00484d8f",
   "metadata": {
    "slideshow": {
     "slide_type": "slide"
    }
   },
   "source": [
    "## Searching in Lists\n",
    "\n",
    "Check if an element exists in a list using the `in` operator."
   ]
  },
  {
   "cell_type": "code",
   "execution_count": 17,
   "id": "7eb20c2c",
   "metadata": {
    "slideshow": {
     "slide_type": "fragment"
    }
   },
   "outputs": [
    {
     "name": "stdout",
     "output_type": "stream",
     "text": [
      "True\n",
      "False\n",
      "I can play piano\n"
     ]
    }
   ],
   "source": [
    "instruments = [\"guitar\", \"piano\", \"violin\"]\n",
    "print(\"piano\" in instruments)\n",
    "print(\"drums\" in instruments)\n",
    "\n",
    "if \"piano\" in instruments:\n",
    "    print(\"I can play piano\")"
   ]
  },
  {
   "cell_type": "markdown",
   "id": "7815ea3e",
   "metadata": {
    "slideshow": {
     "slide_type": "slide"
    }
   },
   "source": [
    "## Sorting Lists\n",
    "\n",
    "The `sort()` method sorts the list in ascending order by default. To sort in descending order, use the `reverse=True` argument. In this example, we sort a list of temperatures. The `sorted()` function will return a new list, instead of modifying the original list in-place."
   ]
  },
  {
   "cell_type": "code",
   "execution_count": 18,
   "id": "3bd571bd",
   "metadata": {
    "slideshow": {
     "slide_type": "fragment"
    }
   },
   "outputs": [
    {
     "name": "stdout",
     "output_type": "stream",
     "text": [
      "Original order: [23, 18, 30, 15, 22]\n",
      "Sorted in ascending order: [15, 18, 22, 23, 30]\n",
      "Sorted in descending order: [30, 23, 22, 18, 15]\n"
     ]
    }
   ],
   "source": [
    "temperatures = [23, 18, 30, 15, 22]\n",
    "print(\"Original order:\", temperatures)\n",
    "temperatures.sort()\n",
    "print(\"Sorted in ascending order:\", temperatures)\n",
    "temperatures.sort(reverse=True)\n",
    "print(\"Sorted in descending order:\", temperatures)"
   ]
  },
  {
   "cell_type": "code",
   "execution_count": 19,
   "id": "f10d85a2-1994-45cc-b5a8-1579b3e5426d",
   "metadata": {
    "slideshow": {
     "slide_type": "slide"
    }
   },
   "outputs": [
    {
     "name": "stdout",
     "output_type": "stream",
     "text": [
      "Sorted in ascending order: [15, 18, 22, 23, 30]\n",
      "Sorted in descending order: [30, 23, 22, 18, 15]\n",
      "Original order: [23, 18, 30, 15, 22]\n"
     ]
    }
   ],
   "source": [
    "# Using the sorted() function instead\n",
    "\n",
    "temperatures = [23, 18, 30, 15, 22]\n",
    "\n",
    "sorted_temperatures_asc = sorted(temperatures)\n",
    "print(\"Sorted in ascending order:\", sorted_temperatures_asc)\n",
    "sorted_temperatures_desc = sorted(temperatures, reverse=True)\n",
    "print(\"Sorted in descending order:\", sorted_temperatures_desc)\n",
    "print(\"Original order:\", temperatures)"
   ]
  },
  {
   "cell_type": "markdown",
   "id": "1284f455",
   "metadata": {
    "slideshow": {
     "slide_type": "slide"
    }
   },
   "source": [
    "## Reversing Lists\n",
    "\n",
    "The `reverse()` method reverses the elements of the list in place."
   ]
  },
  {
   "cell_type": "code",
   "execution_count": 20,
   "id": "ab99bbce",
   "metadata": {
    "slideshow": {
     "slide_type": "fragment"
    }
   },
   "outputs": [
    {
     "name": "stdout",
     "output_type": "stream",
     "text": [
      "Reversed list: ['yellow', 'blue', 'green', 'red']\n"
     ]
    }
   ],
   "source": [
    "colors = [\"red\", \"green\", \"blue\", \"yellow\"]\n",
    "colors.reverse()\n",
    "print(\"Reversed list:\", colors)"
   ]
  },
  {
   "cell_type": "markdown",
   "id": "257725b9",
   "metadata": {
    "slideshow": {
     "slide_type": "slide"
    }
   },
   "source": [
    "## List Iteration\n",
    "\n",
    "Iterating over a list is commonly done using a `for` loop. "
   ]
  },
  {
   "cell_type": "code",
   "execution_count": 21,
   "id": "8a966fb5",
   "metadata": {
    "slideshow": {
     "slide_type": "fragment"
    }
   },
   "outputs": [
    {
     "name": "stdout",
     "output_type": "stream",
     "text": [
      "apple\n",
      "banana\n",
      "cherry\n"
     ]
    }
   ],
   "source": [
    "fruits = [\"apple\", \"banana\", \"cherry\"]\n",
    "for fruit in fruits:\n",
    "    print(fruit)"
   ]
  },
  {
   "cell_type": "markdown",
   "id": "de1d8aab",
   "metadata": {
    "slideshow": {
     "slide_type": "slide"
    }
   },
   "source": [
    "## List Concatenation and Repetition\n",
    "\n",
    "Lists can be concatenated using the `+` operator, and repeated using the `*` operator. Below, two lists of numbers are concatenated, and a list is repeated."
   ]
  },
  {
   "cell_type": "code",
   "execution_count": 22,
   "id": "20517205",
   "metadata": {
    "slideshow": {
     "slide_type": "fragment"
    }
   },
   "outputs": [
    {
     "name": "stdout",
     "output_type": "stream",
     "text": [
      "Concatenated: [1, 2, 3, 4, 5, 6]\n",
      "Repeated: [1, 2, 3, 1, 2, 3, 1, 2, 3]\n"
     ]
    }
   ],
   "source": [
    "list1 = [1, 2, 3]\n",
    "list2 = [4, 5, 6]\n",
    "concatenated_list = list1 + list2\n",
    "repeated_list = list1 * 3\n",
    "print(\"Concatenated:\", concatenated_list)\n",
    "print(\"Repeated:\", repeated_list)"
   ]
  },
  {
   "cell_type": "markdown",
   "id": "704884c9",
   "metadata": {
    "slideshow": {
     "slide_type": "slide"
    }
   },
   "source": [
    "## Nested Lists\n",
    "\n",
    "Lists can contain other lists."
   ]
  },
  {
   "cell_type": "code",
   "execution_count": 23,
   "id": "f9bc5d7e",
   "metadata": {
    "slideshow": {
     "slide_type": "fragment"
    }
   },
   "outputs": [
    {
     "name": "stdout",
     "output_type": "stream",
     "text": [
      "First element of the first sublist: 1\n"
     ]
    }
   ],
   "source": [
    "nested_list = [[1, 2, 3], [4, 5, 6], [7, 8, 9]]\n",
    "print(\"First element of the first sublist:\", nested_list[0][0])"
   ]
  },
  {
   "cell_type": "markdown",
   "id": "35f359e5",
   "metadata": {
    "slideshow": {
     "slide_type": "slide"
    }
   },
   "source": [
    "## List `join` Method for Strings\n",
    "\n",
    "The `join()` method is a string method that takes a list of strings and concatenates them.\n"
   ]
  },
  {
   "cell_type": "code",
   "execution_count": 24,
   "id": "65a7aa68",
   "metadata": {
    "slideshow": {
     "slide_type": "fragment"
    }
   },
   "outputs": [
    {
     "name": "stdout",
     "output_type": "stream",
     "text": [
      "Hello world from Python\n"
     ]
    }
   ],
   "source": [
    "words = [\"Hello\", \"world\", \"from\", \"Python\"]\n",
    "sentence = \" \".join(words)\n",
    "print(sentence)"
   ]
  },
  {
   "cell_type": "markdown",
   "id": "b8cfe446",
   "metadata": {
    "slideshow": {
     "slide_type": "slide"
    }
   },
   "source": [
    "## List `max` and `min` Functions\n",
    "\n",
    "The `max()` and `min()` functions are used to find the largest and smallest element in a list, respectively."
   ]
  },
  {
   "cell_type": "code",
   "execution_count": 25,
   "id": "ba38ac09",
   "metadata": {
    "slideshow": {
     "slide_type": "fragment"
    }
   },
   "outputs": [
    {
     "name": "stdout",
     "output_type": "stream",
     "text": [
      "Maximum: 8\n",
      "Minimum: 1\n"
     ]
    }
   ],
   "source": [
    "numbers = [5, 1, 8, 3, 2]\n",
    "print(\"Maximum:\", max(numbers))\n",
    "print(\"Minimum:\", min(numbers))"
   ]
  },
  {
   "cell_type": "markdown",
   "id": "6a5bf75b",
   "metadata": {
    "slideshow": {
     "slide_type": "slide"
    }
   },
   "source": [
    "## List `sum` Function\n",
    "\n",
    "The `sum()` function returns the sum of all elements in a list. Useful for numerical lists.\n"
   ]
  },
  {
   "cell_type": "code",
   "execution_count": 26,
   "id": "990fe130",
   "metadata": {
    "slideshow": {
     "slide_type": "fragment"
    }
   },
   "outputs": [
    {
     "name": "stdout",
     "output_type": "stream",
     "text": [
      "Sum: 15\n"
     ]
    }
   ],
   "source": [
    "numbers = [1, 2, 3, 4, 5]\n",
    "print(\"Sum:\", sum(numbers))"
   ]
  },
  {
   "cell_type": "markdown",
   "id": "48d061f6",
   "metadata": {
    "slideshow": {
     "slide_type": "slide"
    }
   },
   "source": [
    "## List `all` and `any` Functions\n",
    "\n",
    "The `all()` function returns True if all elements in a list are true (or if the list is empty). The `any()` function returns True if any element is true."
   ]
  },
  {
   "cell_type": "code",
   "execution_count": 27,
   "id": "c0d617da",
   "metadata": {
    "slideshow": {
     "slide_type": "fragment"
    }
   },
   "outputs": [
    {
     "name": "stdout",
     "output_type": "stream",
     "text": [
      "All True? False\n",
      "Any True? True\n"
     ]
    }
   ],
   "source": [
    "booleans = [True, False, True]\n",
    "print(\"All True?\", all(booleans))\n",
    "print(\"Any True?\", any(booleans))"
   ]
  },
  {
   "cell_type": "markdown",
   "id": "5d3b6f06-d77d-4d2c-89f6-f627491d56b7",
   "metadata": {
    "slideshow": {
     "slide_type": "slide"
    }
   },
   "source": [
    "## List Unpacking\n",
    "\n"
   ]
  },
  {
   "cell_type": "code",
   "execution_count": 28,
   "id": "d05523ee-8094-4c43-8858-97d72f482a11",
   "metadata": {
    "slideshow": {
     "slide_type": "fragment"
    }
   },
   "outputs": [
    {
     "name": "stdout",
     "output_type": "stream",
     "text": [
      "Latitude: 0.712776, Longitude: -74.005974\n"
     ]
    }
   ],
   "source": [
    "coordinates = [0.712776, -74.005974]\n",
    "\n",
    "latitude, longitude = coordinates\n",
    "print(f\"Latitude: {latitude}, Longitude: {longitude}\")"
   ]
  },
  {
   "cell_type": "code",
   "execution_count": 29,
   "id": "5d3b8d79-a8d3-4f53-a90b-967cdd8b50e9",
   "metadata": {
    "slideshow": {
     "slide_type": "slide"
    }
   },
   "outputs": [
    {
     "name": "stdout",
     "output_type": "stream",
     "text": [
      "Event ID: 101, Timestamp: 2023-08-01 12:00, Type: LOGIN\n",
      "Details: ['user123', '192.168.1.1']\n",
      "---\n",
      "Event ID: 102, Timestamp: 2023-08-01 12:05, Type: LOGOUT\n",
      "Details: ['user456']\n",
      "---\n",
      "Event ID: 103, Timestamp: 2023-08-01 12:10, Type: FILE_UPLOAD\n",
      "Details: ['user123', 'report.pdf', 1024]\n",
      "---\n"
     ]
    }
   ],
   "source": [
    "event_data = [\n",
    "    [101, \"2023-08-01 12:00\", \"LOGIN\", \"user123\", \"192.168.1.1\"],\n",
    "    [102, \"2023-08-01 12:05\", \"LOGOUT\", \"user456\"],\n",
    "    [103, \"2023-08-01 12:10\", \"FILE_UPLOAD\", \"user123\", \"report.pdf\", 1024],\n",
    "]\n",
    "\n",
    "for event_id, timestamp, event_type, *details in event_data:\n",
    "    print(f\"Event ID: {event_id}, Timestamp: {timestamp}, Type: {event_type}\")\n",
    "    if details:\n",
    "        print(f\"Details: {details}\")\n",
    "    print(\"---\")"
   ]
  }
 ],
 "metadata": {
  "celltoolbar": "Slideshow",
  "kernelspec": {
   "display_name": "Python 3 (ipykernel)",
   "language": "python",
   "name": "python3"
  },
  "language_info": {
   "codemirror_mode": {
    "name": "ipython",
    "version": 3
   },
   "file_extension": ".py",
   "mimetype": "text/x-python",
   "name": "python",
   "nbconvert_exporter": "python",
   "pygments_lexer": "ipython3",
   "version": "3.11.7"
  }
 },
 "nbformat": 4,
 "nbformat_minor": 5
}
