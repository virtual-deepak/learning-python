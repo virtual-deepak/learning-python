{
 "cells": [
  {
   "cell_type": "markdown",
   "id": "e67d08fc",
   "metadata": {},
   "source": [
    "### Source: [Python collections course in Pluralsight](https://app.pluralsight.com/library/courses/python-collections/table-of-contents) by [Mateo Prigl](https://app.pluralsight.com/profile/author/mateo-prigl)"
   ]
  },
  {
   "cell_type": "markdown",
   "id": "381e7e3a-3de8-4f76-9eef-1bf99f87c87a",
   "metadata": {
    "slideshow": {
     "slide_type": "slide"
    },
    "tags": []
   },
   "source": [
    "# defaultdict\n",
    "\n",
    "`defaultdict` is a subclass of the built-in `dict` class. It is part of the collections module and provides all the methods provided by the dictionary but with one added capability: it takes a default factory function as its first argument. This default factory is called to provide a default value for the dictionary whenever a key is accessed but does not exist in the dictionary."
   ]
  },
  {
   "cell_type": "markdown",
   "id": "b862b191-f58a-47f0-ac6c-dc22f446848d",
   "metadata": {
    "slideshow": {
     "slide_type": "slide"
    }
   },
   "source": [
    "## Creating a `defaultdict`\n",
    "\n",
    "To create a `defaultdict`, you must provide a default factory function that will be called to provide a default value for non-existent keys. This factory can be any callable object (function, lambda, etc.)"
   ]
  },
  {
   "cell_type": "code",
   "execution_count": 1,
   "id": "59d83fc2-5602-4cfc-9825-e424f2c1abb8",
   "metadata": {
    "slideshow": {
     "slide_type": "fragment"
    }
   },
   "outputs": [
    {
     "name": "stdout",
     "output_type": "stream",
     "text": [
      "True\n"
     ]
    }
   ],
   "source": [
    "from collections import defaultdict\n",
    "\n",
    "print(issubclass(defaultdict, dict))\n",
    "\n",
    "# Using list() as the default factory\n",
    "dd = defaultdict(list)"
   ]
  },
  {
   "cell_type": "markdown",
   "id": "a9433b96-18c3-42c1-9f9e-c8bed0fcd7bb",
   "metadata": {
    "slideshow": {
     "slide_type": "slide"
    }
   },
   "source": [
    "## Adding Items to a `defaultdict`"
   ]
  },
  {
   "cell_type": "code",
   "execution_count": 2,
   "id": "809b58f2-620b-4ba5-8491-14c61173cb5d",
   "metadata": {
    "slideshow": {
     "slide_type": "fragment"
    }
   },
   "outputs": [
    {
     "name": "stdout",
     "output_type": "stream",
     "text": [
      "[]\n",
      "defaultdict(<class 'list'>, {'key1': [1], 'key2': [2], 'key3': []})\n"
     ]
    }
   ],
   "source": [
    "from collections import defaultdict\n",
    "dd = defaultdict(list)\n",
    "\n",
    "dd[\"key1\"].append(1)\n",
    "dd[\"key2\"].append(2)\n",
    "print(dd[\"key3\"])\n",
    "print(dd)"
   ]
  },
  {
   "cell_type": "markdown",
   "id": "8e7f1df2-5ef1-4d76-afd8-866a82259ba4",
   "metadata": {
    "slideshow": {
     "slide_type": "slide"
    }
   },
   "source": [
    "## `defaultdict` versus the `setdefault` Method"
   ]
  },
  {
   "cell_type": "markdown",
   "id": "76be7659-62fb-4888-9bed-956a362916be",
   "metadata": {
    "slideshow": {
     "slide_type": "fragment"
    }
   },
   "source": [
    "`defaultdict` can only have functions as default values."
   ]
  },
  {
   "cell_type": "code",
   "execution_count": 3,
   "id": "9683ab64-05da-4988-9eca-49591e06499c",
   "metadata": {
    "slideshow": {
     "slide_type": "fragment"
    }
   },
   "outputs": [
    {
     "name": "stdout",
     "output_type": "stream",
     "text": [
      "Default\n",
      "Default\n"
     ]
    }
   ],
   "source": [
    "from collections import defaultdict\n",
    "\n",
    "std_dict = {}\n",
    "std_dict.setdefault(\"key\", \"Default\")\n",
    "print(std_dict[\"key\"])\n",
    "\n",
    "dd = defaultdict(lambda: \"Default\")\n",
    "print(dd[\"key\"])"
   ]
  },
  {
   "cell_type": "markdown",
   "id": "4d7104be-5358-47a6-bb32-6e69a38982e2",
   "metadata": {
    "slideshow": {
     "slide_type": "slide"
    }
   },
   "source": [
    "`defaultdict` is slightly faster in handling missing keys than the `setdefault` method."
   ]
  },
  {
   "cell_type": "code",
   "execution_count": 4,
   "id": "058e0f3e-095c-4e87-b8c9-6261f2ea3bc6",
   "metadata": {
    "slideshow": {
     "slide_type": "fragment"
    },
    "tags": []
   },
   "outputs": [
    {
     "name": "stdout",
     "output_type": "stream",
     "text": [
      "defaultdict: 4.81834348400298\n",
      "setdefault: 5.1887945939961355\n"
     ]
    }
   ],
   "source": [
    "from timeit import timeit\n",
    "\n",
    "# Setup for timing the appending operation for defaultdict\n",
    "setup_defaultdict_append = \"\"\"\n",
    "from collections import defaultdict\n",
    "dd = defaultdict(list)\n",
    "\"\"\"\n",
    "stmt_defaultdict_append = \"[dd[f'key_{i // 2}'].append(1) for i in range(2000000)]\"\n",
    "\n",
    "time_defaultdict_append = timeit(stmt=stmt_defaultdict_append, setup=setup_defaultdict_append, number=10)\n",
    "\n",
    "# Setup for timing the appending operation for dict using setdefault\n",
    "setup_setdefault_append = \"\"\"\n",
    "std_dict = {}\n",
    "\"\"\"\n",
    "stmt_setdefault_append = \"[std_dict.setdefault(f'key_{i // 2}', []).append(1) for i in range(2000000)]\"\n",
    "\n",
    "time_setdefault_append = timeit(stmt=stmt_setdefault_append, setup=setup_setdefault_append, number=10)\n",
    "\n",
    "print(\"defaultdict:\", time_defaultdict_append)\n",
    "print(\"setdefault:\", time_setdefault_append)"
   ]
  },
  {
   "cell_type": "code",
   "execution_count": 5,
   "id": "6e8b2357-df63-4632-bd2d-46f6427f0dc5",
   "metadata": {
    "slideshow": {
     "slide_type": "slide"
    },
    "tags": []
   },
   "outputs": [
    {
     "name": "stdout",
     "output_type": "stream",
     "text": [
      "Factory function ran by setdefault\n"
     ]
    }
   ],
   "source": [
    "from collections import defaultdict\n",
    "\n",
    "def long_factory_function(trigger):\n",
    "    print(f\"Factory function ran by {trigger}\")\n",
    "    return []\n",
    "\n",
    "dd = defaultdict(lambda: long_factory_function(\"defaultdict\"), {\"existing_key\": []})\n",
    "\n",
    "std_dict = {\"existing_key\": []}\n",
    "\n",
    "dd[\"existing_key\"].append(1)\n",
    "\n",
    "std_dict.setdefault(\"existing_key\", long_factory_function(\"setdefault\")).append(1)"
   ]
  }
 ],
 "metadata": {
  "celltoolbar": "Slideshow",
  "kernelspec": {
   "display_name": "Python 3 (ipykernel)",
   "language": "python",
   "name": "python3"
  },
  "language_info": {
   "codemirror_mode": {
    "name": "ipython",
    "version": 3
   },
   "file_extension": ".py",
   "mimetype": "text/x-python",
   "name": "python",
   "nbconvert_exporter": "python",
   "pygments_lexer": "ipython3",
   "version": "3.11.7"
  }
 },
 "nbformat": 4,
 "nbformat_minor": 5
}
