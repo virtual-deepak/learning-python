{
 "cells": [
  {
   "cell_type": "markdown",
   "id": "b1c4b2c1",
   "metadata": {},
   "source": [
    "### Source: [Python collections course in Pluralsight](https://app.pluralsight.com/library/courses/python-collections/table-of-contents) by [Mateo Prigl](https://app.pluralsight.com/profile/author/mateo-prigl)"
   ]
  },
  {
   "cell_type": "markdown",
   "id": "a61e2b82-3ce6-4e9c-8fba-0743a5accf92",
   "metadata": {
    "slideshow": {
     "slide_type": "slide"
    }
   },
   "source": [
    "# Counter\n",
    "\n",
    "The `Counter` class is a dictionary subclass designed to count hashable objects. It's a part of the collections module and is an incredibly useful tool for creating frequency counts of elements in an iterable (e.g. elements in a list or characters in a string)."
   ]
  },
  {
   "cell_type": "markdown",
   "id": "69881d9e-b3d9-4606-ad4d-e73a2b836dba",
   "metadata": {
    "slideshow": {
     "slide_type": "slide"
    }
   },
   "source": [
    "# Creating a `Counter`\n",
    "\n",
    "A `Counter` can be instantiated from an iterable (such as a list or a string) or a mapping (like a dictionary). Hashable objects are keys and their frequencies are values."
   ]
  },
  {
   "cell_type": "code",
   "execution_count": 1,
   "id": "35d316fc-a5a2-46fc-981a-ee29302d9474",
   "metadata": {
    "slideshow": {
     "slide_type": "slide"
    }
   },
   "outputs": [
    {
     "name": "stdout",
     "output_type": "stream",
     "text": [
      "True\n",
      "Counter from a list:\t Counter({'a': 3, 'c': 3, 'b': 2})\n",
      "Counter from a string:\t Counter({'a': 3, 'n': 2, 'b': 1})\n",
      "Initialized Counter:\t Counter({'a': 4, 'b': 2, 'c': -1})\n"
     ]
    }
   ],
   "source": [
    "from collections import Counter\n",
    "\n",
    "print(issubclass(Counter, dict))\n",
    "\n",
    "# Initialize with a list\n",
    "letters = [\"a\", \"b\", \"c\", \"a\", \"c\", \"a\", \"b\", \"c\"]\n",
    "letter_counter = Counter(letters)\n",
    "print(\"Counter from a list:\\t\", letter_counter)\n",
    "\n",
    "# Initialize with a string\n",
    "string_letter_counter = Counter(\"banana\")\n",
    "print(\"Counter from a string:\\t\", string_letter_counter)\n",
    "\n",
    "# Provide initial counts of an existing group of objects\n",
    "# dict_letter_counter = Counter(a=4, b=2, c=-1)\n",
    "dict_letter_counter = Counter({\"a\": 4, \"b\": 2, \"c\": -1})\n",
    "print(\"Initialized Counter:\\t\", dict_letter_counter)"
   ]
  },
  {
   "cell_type": "markdown",
   "id": "7949db77-5e09-4111-9b77-c66ccc761003",
   "metadata": {
    "slideshow": {
     "slide_type": "slide"
    }
   },
   "source": [
    "## Accessing Elements"
   ]
  },
  {
   "cell_type": "code",
   "execution_count": 2,
   "id": "93447bd6-d18f-454f-b6a7-d5aa06dccb94",
   "metadata": {
    "slideshow": {
     "slide_type": "fragment"
    }
   },
   "outputs": [
    {
     "name": "stdout",
     "output_type": "stream",
     "text": [
      "2\n",
      "0\n"
     ]
    }
   ],
   "source": [
    "fruits = [\"apple\", \"banana\", \"cherry\", \"apple\", \"cherry\"]\n",
    "fruit_counter = Counter(fruits)\n",
    "\n",
    "print(fruit_counter[\"apple\"])\n",
    "print(fruit_counter[\"pear\"])  # Output: 0"
   ]
  },
  {
   "cell_type": "markdown",
   "id": "70c5230d-4b87-4cea-a00c-05d8c1d43197",
   "metadata": {
    "slideshow": {
     "slide_type": "slide"
    }
   },
   "source": [
    "## Updating Counts"
   ]
  },
  {
   "cell_type": "code",
   "execution_count": 3,
   "id": "c1b39f96-014f-478d-968a-c2389662564e",
   "metadata": {
    "slideshow": {
     "slide_type": "fragment"
    }
   },
   "outputs": [
    {
     "name": "stdout",
     "output_type": "stream",
     "text": [
      "Original counter:\t\t\t\t Counter({'a': 3, 'c': 3, 'b': 2})\n",
      "Updated counter with strings and lists:\t\t Counter({'a': 5, 'c': 5, 'b': 2})\n",
      "Updated counter with dictionaries and kw args:\t Counter({'a': 7, 'b': 7, 'c': 7})\n",
      "Subtracted counter:\t\t\t\t Counter({'b': 1, 'a': 0, 'c': -1})\n",
      "Reset Counter:\t\t\t\t\t Counter()\n"
     ]
    }
   ],
   "source": [
    "letters = [\"a\", \"b\", \"c\", \"a\", \"c\", \"a\", \"b\", \"c\"]\n",
    "letter_counter = Counter(letters)\n",
    "print(\"Original counter:\\t\\t\\t\\t\", letter_counter)\n",
    "\n",
    "# Update Counter with a string or a list\n",
    "letter_counter.update(\"aa\")\n",
    "letter_counter.update([\"c\", \"c\"])\n",
    "print(\"Updated counter with strings and lists:\\t\\t\", letter_counter)\n",
    "\n",
    "# Update counts with another dictionary\n",
    "letter_counter.update({\"b\": 3})\n",
    "# Or with keyword arguments\n",
    "letter_counter.update(a=2, b=2, c=2)\n",
    "print(\"Updated counter with dictionaries and kw args:\\t\", letter_counter)\n",
    "\n",
    "# You can also subtract counts\n",
    "letter_counter.subtract(a=7, b=6, c=8)\n",
    "print(\"Subtracted counter:\\t\\t\\t\\t\", letter_counter)\n",
    "\n",
    "# You can use .clear() to empty the Counter\n",
    "letter_counter.clear()\n",
    "print(\"Reset Counter:\\t\\t\\t\\t\\t\", letter_counter)"
   ]
  },
  {
   "cell_type": "markdown",
   "id": "44790593-3196-48c9-84d3-10e4700c7ce8",
   "metadata": {
    "slideshow": {
     "slide_type": "slide"
    }
   },
   "source": [
    "## Using `Counter` Operators"
   ]
  },
  {
   "cell_type": "code",
   "execution_count": 4,
   "id": "1e440e0b-4c59-4a52-b630-bbf83a348a1b",
   "metadata": {
    "slideshow": {
     "slide_type": "fragment"
    }
   },
   "outputs": [
    {
     "name": "stdout",
     "output_type": "stream",
     "text": [
      "Addition:\t\t Counter({'a': 4, 'b': 3})\n",
      "Subtraction:\t\t Counter({'a': 2})\n",
      "Intersection (min):\t Counter({'a': 1, 'b': 1})\n",
      "Union (max):\t\t Counter({'a': 3, 'b': 2})\n",
      "Positive counts:\t Counter({'a': 3, 'b': 1})\n",
      "Negative counts:\t Counter({'b': 2})\n",
      "c1 == c2 False\n"
     ]
    }
   ],
   "source": [
    "c1 = Counter(a=3, b=1)\n",
    "c2 = Counter(a=1, b=2)\n",
    "\n",
    "# Add Counters (keeping only positive counts)\n",
    "print(\"Addition:\\t\\t\", c1 + c2)  # add counts\n",
    "# Subtract Counters (keeping only positive counts)\n",
    "print(\"Subtraction:\\t\\t\", c1 - c2)\n",
    "\n",
    "# Return min of counts\n",
    "print(\"Intersection (min):\\t\", c1 & c2)  # intersection\n",
    "# Return max of counts\n",
    "print(\"Union (max):\\t\\t\", c1 | c2)  # union\n",
    "\n",
    "# Unary operations (zero is always excluded)\n",
    "print(\"Positive counts:\\t\", +c1) # Get only counts >0\n",
    "print(\"Negative counts:\\t\", -Counter(a=1, b=-2)) # Get only counts <0\n",
    "\n",
    "# Equality\n",
    "print(\"c1 == c2\", c1 == c2)"
   ]
  },
  {
   "cell_type": "markdown",
   "id": "c0b29341-f4a2-47b6-bcfb-66217e125b1d",
   "metadata": {
    "slideshow": {
     "slide_type": "slide"
    }
   },
   "source": [
    "## Using `Counter` Methods"
   ]
  },
  {
   "cell_type": "code",
   "execution_count": 5,
   "id": "392f6e91-f21c-4e3b-a039-576a6979e13f",
   "metadata": {
    "slideshow": {
     "slide_type": "fragment"
    }
   },
   "outputs": [
    {
     "name": "stdout",
     "output_type": "stream",
     "text": [
      "c.elements():\t\t ['a', 'a', 'b', 'b', 'b', 'c', 'c', 'c', 'c']\n",
      "c.most_common():\t [('c', 4), ('b', 3), ('a', 2)]\n",
      "c.most_common(2):\t [('c', 4), ('b', 3)]\n",
      "c.total():\t\t 9\n"
     ]
    }
   ],
   "source": [
    "c = Counter(a=2, b=3, c=4)\n",
    "\n",
    "# Reconstructing the original dataset, but without the original order\n",
    "print(\"c.elements():\\t\\t\", list(c.elements()))\n",
    "\n",
    "# Return a list of most common elements (from most to least common)\n",
    "print(\"c.most_common():\\t\", c.most_common())\n",
    "# Return only the first two most common elements\n",
    "print(\"c.most_common(2):\\t\", c.most_common(2))\n",
    "\n",
    "# Total of all counts from the Counter\n",
    "print(\"c.total():\\t\\t\", c.total())"
   ]
  }
 ],
 "metadata": {
  "celltoolbar": "Slideshow",
  "kernelspec": {
   "display_name": "Python 3 (ipykernel)",
   "language": "python",
   "name": "python3"
  },
  "language_info": {
   "codemirror_mode": {
    "name": "ipython",
    "version": 3
   },
   "file_extension": ".py",
   "mimetype": "text/x-python",
   "name": "python",
   "nbconvert_exporter": "python",
   "pygments_lexer": "ipython3",
   "version": "3.11.7"
  }
 },
 "nbformat": 4,
 "nbformat_minor": 5
}
