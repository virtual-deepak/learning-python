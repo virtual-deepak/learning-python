{
 "cells": [
  {
   "cell_type": "markdown",
   "id": "5714673f",
   "metadata": {},
   "source": [
    "### Source: [Python collections course in Pluralsight](https://app.pluralsight.com/library/courses/python-collections/table-of-contents) by [Mateo Prigl](https://app.pluralsight.com/profile/author/mateo-prigl)"
   ]
  },
  {
   "cell_type": "markdown",
   "id": "c31bf949-83da-44b2-a030-beaaff54256f",
   "metadata": {
    "slideshow": {
     "slide_type": "slide"
    },
    "tags": []
   },
   "source": [
    "# OrderedDict\n",
    "\n",
    "The `OrderedDict` from the collections module is a dictionary subclass that maintains the order of keys as they were first inserted. Unlike standard Python dictionaries (in versions before Python 3.7), OrderedDict preserves the insertion order, allowing for ordered iterations and operations."
   ]
  },
  {
   "cell_type": "markdown",
   "id": "43ecceea-6d9e-4df8-8852-158a0cce8bbb",
   "metadata": {
    "slideshow": {
     "slide_type": "slide"
    }
   },
   "source": [
    "## Creating an `OrderedDict`"
   ]
  },
  {
   "cell_type": "code",
   "execution_count": 1,
   "id": "8510f410-0083-48a4-9d05-a06fa1c148be",
   "metadata": {
    "slideshow": {
     "slide_type": "fragment"
    },
    "tags": []
   },
   "outputs": [
    {
     "name": "stdout",
     "output_type": "stream",
     "text": [
      "True\n",
      "OrderedDict()\n",
      "OrderedDict([('key1', 'value1'), ('key2', 'value2')])\n",
      "OrderedDict([('key1', 'value1'), ('key2', 'value2')])\n",
      "OrderedDict([('key1', 'value1'), ('key2', 'value2')])\n"
     ]
    }
   ],
   "source": [
    "from collections import OrderedDict\n",
    "\n",
    "print(issubclass(OrderedDict, dict))\n",
    "\n",
    "# Creating an empty OrderedDict\n",
    "od = OrderedDict()\n",
    "print(od)\n",
    "# Creating an OrderedDict with an iterable of items\n",
    "od = OrderedDict([(\"key1\", \"value1\"), (\"key2\", \"value2\")])\n",
    "print(od)\n",
    "# Creating an OrderedDict with a regular dictionary\n",
    "od = OrderedDict({\"key1\": \"value1\", \"key2\": \"value2\"})\n",
    "print(od)\n",
    "# Creating an OrderedDict with keyword arguments\n",
    "od = OrderedDict(key1=\"value1\", key2=\"value2\")\n",
    "print(od)"
   ]
  },
  {
   "cell_type": "markdown",
   "id": "1c0b9443-7c0d-4333-864d-ae3ec1a1d77d",
   "metadata": {
    "slideshow": {
     "slide_type": "slide"
    }
   },
   "source": [
    "## Comparing `OrderedDict` Instances\n",
    "\n",
    "Two `OrderedDict` instances are considered equal if they have the same keys in the same order and each key maps to the same value."
   ]
  },
  {
   "cell_type": "code",
   "execution_count": 2,
   "id": "0a07a109-0b5f-40d8-9fd1-56efaaa0233f",
   "metadata": {
    "slideshow": {
     "slide_type": "fragment"
    }
   },
   "outputs": [
    {
     "name": "stdout",
     "output_type": "stream",
     "text": [
      "False\n"
     ]
    }
   ],
   "source": [
    "from collections import OrderedDict\n",
    "\n",
    "od1 = OrderedDict({\"a\": 1, \"b\": 2})\n",
    "od2 = OrderedDict({\"b\": 2, \"a\": 1})\n",
    "print(od1 == od2)"
   ]
  },
  {
   "cell_type": "markdown",
   "id": "e8c4073e-ecda-49fb-ab24-f8b0479474f1",
   "metadata": {
    "slideshow": {
     "slide_type": "slide"
    },
    "tags": []
   },
   "source": [
    "## Moving Existing Items"
   ]
  },
  {
   "cell_type": "code",
   "execution_count": 3,
   "id": "a6ac51a0-d7db-4605-a6e8-856d5461087d",
   "metadata": {
    "slideshow": {
     "slide_type": "fragment"
    }
   },
   "outputs": [
    {
     "name": "stdout",
     "output_type": "stream",
     "text": [
      "OrderedDict([('a', 1), ('c', 3), ('b', 2)])\n",
      "OrderedDict([('b', 2), ('a', 1), ('c', 3)])\n"
     ]
    }
   ],
   "source": [
    "from collections import OrderedDict\n",
    "\n",
    "od = OrderedDict([(\"a\", 1), (\"b\", 2), (\"c\", 3)])\n",
    "od.move_to_end(\"b\")  # Move \"b\" to the end\n",
    "print(od)\n",
    "\n",
    "od.move_to_end(\"b\", last=False)  # Move \"b\" to the beginning\n",
    "print(od)"
   ]
  },
  {
   "cell_type": "markdown",
   "id": "f326ba82-6eee-4f20-97a7-29378bacedef",
   "metadata": {
    "slideshow": {
     "slide_type": "slide"
    }
   },
   "source": [
    "## Removing Items from Both Ends"
   ]
  },
  {
   "cell_type": "code",
   "execution_count": 4,
   "id": "357f3e82-e861-4cb9-bcb4-ca5736e694a4",
   "metadata": {
    "slideshow": {
     "slide_type": "fragment"
    },
    "tags": []
   },
   "outputs": [
    {
     "name": "stdout",
     "output_type": "stream",
     "text": [
      "OrderedDict([('a', 1), ('b', 2), ('c', 3)])\n",
      "Popped last item: ('c', 3)\n",
      "OrderedDict([('a', 1), ('b', 2)])\n",
      "Popped first item: ('a', 1)\n",
      "OrderedDict([('b', 2)])\n"
     ]
    }
   ],
   "source": [
    "from collections import OrderedDict\n",
    "\n",
    "od = OrderedDict([(\"a\", 1), (\"b\", 2), (\"c\", 3)])\n",
    "print(od)\n",
    "last_item = od.popitem()\n",
    "print(f\"Popped last item: {last_item}\")\n",
    "print(od)\n",
    "\n",
    "first_item = od.popitem(last=False)\n",
    "print(f\"Popped first item: {first_item}\")\n",
    "print(od)"
   ]
  }
 ],
 "metadata": {
  "celltoolbar": "Slideshow",
  "kernelspec": {
   "display_name": "Python 3 (ipykernel)",
   "language": "python",
   "name": "python3"
  },
  "language_info": {
   "codemirror_mode": {
    "name": "ipython",
    "version": 3
   },
   "file_extension": ".py",
   "mimetype": "text/x-python",
   "name": "python",
   "nbconvert_exporter": "python",
   "pygments_lexer": "ipython3",
   "version": "3.11.7"
  }
 },
 "nbformat": 4,
 "nbformat_minor": 5
}
