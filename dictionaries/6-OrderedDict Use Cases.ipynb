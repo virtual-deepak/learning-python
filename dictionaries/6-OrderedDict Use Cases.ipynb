{
 "cells": [
  {
   "cell_type": "markdown",
   "id": "a8b2b499",
   "metadata": {},
   "source": [
    "### Source: [Python collections course in Pluralsight](https://app.pluralsight.com/library/courses/python-collections/table-of-contents) by [Mateo Prigl](https://app.pluralsight.com/profile/author/mateo-prigl)"
   ]
  },
  {
   "cell_type": "markdown",
   "id": "7cebbb07-44cc-47b9-9390-ececa4e58068",
   "metadata": {
    "slideshow": {
     "slide_type": "slide"
    },
    "tags": []
   },
   "source": [
    "# OrderedDict - Use Cases\n",
    "\n"
   ]
  },
  {
   "cell_type": "markdown",
   "id": "ce8b9d32-2c44-4c3c-b490-020f96d239d4",
   "metadata": {
    "slideshow": {
     "slide_type": "slide"
    },
    "tags": []
   },
   "source": [
    "## Using Specific `OrderedDict` Operations"
   ]
  },
  {
   "cell_type": "code",
   "execution_count": 1,
   "id": "dd5864d0-7e25-420d-8451-32d7d292e646",
   "metadata": {
    "slideshow": {
     "slide_type": "fragment"
    },
    "tags": []
   },
   "outputs": [
    {
     "name": "stdout",
     "output_type": "stream",
     "text": [
      "Running 'load_data' operation.\n"
     ]
    }
   ],
   "source": [
    "from collections import OrderedDict\n",
    "\n",
    "operations = OrderedDict([\n",
    "    (\"clean_data\", \"Clean the loaded data\"),\n",
    "    (\"load_data\", \"Load data from source\"),\n",
    "    (\"analyze_data\", \"Analyze the cleaned data\"),\n",
    "    (\"save_results\", \"Save analysis results\")\n",
    "])\n",
    "\n",
    "# Prioritizing a specific operation to be evaluated first\n",
    "operations.move_to_end(\"load_data\", last=False)\n",
    "\n",
    "# Running and removing the first operation\n",
    "first_operation_key, _ = operations.popitem(last=False)\n",
    "print(f\"Running '{first_operation_key}' operation.\")"
   ]
  },
  {
   "cell_type": "markdown",
   "id": "501a2de1-ef3c-4ad6-a82f-a41bacd5808b",
   "metadata": {
    "slideshow": {
     "slide_type": "slide"
    },
    "tags": []
   },
   "source": [
    "## Testing Equality with Order in Mind"
   ]
  },
  {
   "cell_type": "code",
   "execution_count": 2,
   "id": "90f27b80-4cb7-4466-9d58-2cda2941c893",
   "metadata": {
    "slideshow": {
     "slide_type": "fragment"
    }
   },
   "outputs": [
    {
     "name": "stdout",
     "output_type": "stream",
     "text": [
      "Test 1 sequence correct: False\n"
     ]
    }
   ],
   "source": [
    "from collections import OrderedDict\n",
    "\n",
    "# Expected sequence of A/B test phases\n",
    "expected_sequence = OrderedDict([\n",
    "    (\"baseline\", \"Original version without changes\"),\n",
    "    (\"change1\", \"Increased font size for better readability\"),\n",
    "    (\"change2\", \"Changed call-to-action button color\"),\n",
    "    (\"final\", \"Added customer testimonials\")\n",
    "])\n",
    "\n",
    "# Actual sequence followed in one of the test setups\n",
    "actual_sequence_test = OrderedDict([\n",
    "    (\"baseline\", \"Original version without changes\"),\n",
    "    (\"change2\", \"Changed call-to-action button color\"),\n",
    "    (\"change1\", \"Increased font size for better readability\"),\n",
    "    (\"final\", \"Added customer testimonials\")\n",
    "])\n",
    "\n",
    "# Function to compare the expected sequence with the actual one\n",
    "def is_sequence_correct(expected, actual):\n",
    "    return expected == actual\n",
    "\n",
    "# Validate the sequence\n",
    "print(\"Test 1 sequence correct:\", is_sequence_correct(expected_sequence, actual_sequence_test))"
   ]
  },
  {
   "cell_type": "markdown",
   "id": "db8a86eb-b72b-4e38-b349-9f10f959f252",
   "metadata": {
    "slideshow": {
     "slide_type": "slide"
    }
   },
   "source": [
    "## Backward Compatibility\n",
    "\n",
    "Before Python 3.7, the built-in dictionary did not guarantee to preserve the insertion order of items.\n",
    "Also, the `popitem` method would remove a seemingly arbitrary key-value pair from the dictionary."
   ]
  }
 ],
 "metadata": {
  "celltoolbar": "Slideshow",
  "kernelspec": {
   "display_name": "Python 3 (ipykernel)",
   "language": "python",
   "name": "python3"
  },
  "language_info": {
   "codemirror_mode": {
    "name": "ipython",
    "version": 3
   },
   "file_extension": ".py",
   "mimetype": "text/x-python",
   "name": "python",
   "nbconvert_exporter": "python",
   "pygments_lexer": "ipython3",
   "version": "3.11.7"
  }
 },
 "nbformat": 4,
 "nbformat_minor": 5
}
