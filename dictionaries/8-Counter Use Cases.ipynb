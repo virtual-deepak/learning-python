{
 "cells": [
  {
   "cell_type": "markdown",
   "id": "77b94b78",
   "metadata": {},
   "source": [
    "### Source: [Python collections course in Pluralsight](https://app.pluralsight.com/library/courses/python-collections/table-of-contents) by [Mateo Prigl](https://app.pluralsight.com/profile/author/mateo-prigl)"
   ]
  },
  {
   "cell_type": "markdown",
   "id": "fd803576-531d-4eeb-9633-d421b4872f75",
   "metadata": {
    "slideshow": {
     "slide_type": "slide"
    }
   },
   "source": [
    "# Counter - Use Cases"
   ]
  },
  {
   "cell_type": "markdown",
   "id": "dd349cb7-778f-4a63-b78e-311bd18e9410",
   "metadata": {
    "slideshow": {
     "slide_type": "slide"
    }
   },
   "source": [
    "## Word Frequency Count in Text\n",
    "\n",
    "A classic use case for `Counter` is to count the frequency of each word in a piece of text, which is especially useful in natural language processing (NLP) and data analysis tasks."
   ]
  },
  {
   "cell_type": "code",
   "execution_count": 2,
   "id": "148abb48-651b-4b64-bd33-c9f2a444988d",
   "metadata": {
    "slideshow": {
     "slide_type": "fragment"
    }
   },
   "outputs": [
    {
     "name": "stdout",
     "output_type": "stream",
     "text": [
      "Counter({'a': 1, 'quick': 1, 'brown': 1, 'fox': 1, 'jumps': 1, 'over': 1, 'the': 1, 'lazy': 1, 'dog': 1})\n"
     ]
    }
   ],
   "source": [
    "from collections import Counter\n",
    "\n",
    "text = \"a quick brown fox jumps over the lazy dog\"\n",
    "words = text.split()\n",
    "word_counts = Counter(words)\n",
    "\n",
    "print(word_counts)"
   ]
  },
  {
   "cell_type": "markdown",
   "id": "e613919e-1383-4c3c-b17c-081125ad0bcf",
   "metadata": {
    "slideshow": {
     "slide_type": "slide"
    }
   },
   "source": [
    "## Finding Most Common Elements"
   ]
  },
  {
   "cell_type": "code",
   "execution_count": 7,
   "id": "83a6e87b-e624-49e6-8e60-f109a3aa7abb",
   "metadata": {
    "slideshow": {
     "slide_type": "fragment"
    }
   },
   "outputs": [
    {
     "name": "stdout",
     "output_type": "stream",
     "text": [
      "Most visited pages: [('home', 4), ('about', 3)]\n",
      "Least visited pages: [('profile', 1), ('contact', 2)]\n"
     ]
    }
   ],
   "source": [
    "# Visits to web pages\n",
    "visits = [\"home\", \"about\", \"contact\", \"home\", \"about\", \"home\", \"profile\", \"home\", \"about\", \"contact\"]\n",
    "visit_counts = Counter(visits)\n",
    "\n",
    "most_visited = visit_counts.most_common(2)\n",
    "\n",
    "# Explanation for below code - \n",
    "# 1. `[:-3]`: This slice notation typically means \"take all elements up to (but not including) the third-to-last element\". \n",
    "# However, when combined with -1, the interpretation changes. \n",
    "# 2. `-1`: This indicates that we are slicing the list in reverse order.\n",
    "# Thus, [:-3:-1] in a reversed list context translates to: \n",
    "# \"Slice the list in reverse, starting from the end and taking elements until the third-to-last element is reached.\"\n",
    "\n",
    "least_visited = visit_counts.most_common()[:-3:-1]\n",
    "print(\"Most visited pages:\", most_visited)\n",
    "print(\"Least visited pages:\", least_visited)"
   ]
  },
  {
   "cell_type": "markdown",
   "id": "121439fa",
   "metadata": {},
   "source": [
    "Remember the syntax for list slicing: <br>\n",
    "![](../images/List_Slicing.png)"
   ]
  },
  {
   "cell_type": "markdown",
   "id": "4a822342-036a-4592-9a64-84fc8f312032",
   "metadata": {
    "slideshow": {
     "slide_type": "slide"
    }
   },
   "source": [
    "## Counting Items in Inventories"
   ]
  },
  {
   "cell_type": "code",
   "execution_count": 3,
   "id": "34d43019-83fb-4e87-b365-7875686d24db",
   "metadata": {
    "slideshow": {
     "slide_type": "fragment"
    }
   },
   "outputs": [
    {
     "name": "stdout",
     "output_type": "stream",
     "text": [
      "Total inventory:\t\t Counter({'apples': 4, 'oranges': 3, 'bananas': 2})\n",
      "Inventory after the sale:\t Counter({'oranges': 3, 'apples': 2, 'bananas': 1})\n"
     ]
    }
   ],
   "source": [
    "from collections import Counter\n",
    "\n",
    "# Managing an inventory\n",
    "inventory_a = Counter(apples=3, oranges=2)\n",
    "inventory_b = Counter(apples=1, bananas=2, oranges=1)\n",
    "\n",
    "# Combine inventories\n",
    "total_inventory = inventory_a + inventory_b\n",
    "print(\"Total inventory:\\t\\t\", total_inventory)\n",
    "\n",
    "# Items sold\n",
    "sold_items = Counter(apples=2, bananas=1)\n",
    "remaining_inventory = total_inventory - sold_items\n",
    "print(\"Inventory after the sale:\\t\", remaining_inventory)"
   ]
  },
  {
   "cell_type": "markdown",
   "id": "0ba28918-786a-46ee-b47c-654e67c732a6",
   "metadata": {
    "slideshow": {
     "slide_type": "slide"
    }
   },
   "source": [
    "## Analyzing Voting or Poll Results"
   ]
  },
  {
   "cell_type": "code",
   "execution_count": 4,
   "id": "5e6e633f-3100-42f1-93cc-db219a702de5",
   "metadata": {
    "slideshow": {
     "slide_type": "fragment"
    }
   },
   "outputs": [
    {
     "name": "stdout",
     "output_type": "stream",
     "text": [
      "Counter({'CandidateB': 4, 'CandidateA': 2, 'CandidateC': 1})\n"
     ]
    }
   ],
   "source": [
    "votes = [\"CandidateA\", \"CandidateB\", \"CandidateB\", \"CandidateA\", \"CandidateB\", \"CandidateB\", \"CandidateC\"]\n",
    "vote_counts = Counter(votes)\n",
    "\n",
    "print(vote_counts)"
   ]
  },
  {
   "cell_type": "markdown",
   "id": "19923eae-ddaf-4310-89d1-bcfb6b27afd6",
   "metadata": {
    "slideshow": {
     "slide_type": "slide"
    }
   },
   "source": [
    "## Implementing Multisets\n",
    "\n",
    "Multiset, also known as a bag, is a modification of the set concept. Multiset allows multiple instances for each of its elements. The number of instances given for each element is known as multiplicity."
   ]
  },
  {
   "cell_type": "code",
   "execution_count": 5,
   "id": "24a74ecb-04ff-4e2f-a1b6-8979b30efaf0",
   "metadata": {
    "slideshow": {
     "slide_type": "slide"
    }
   },
   "outputs": [
    {
     "name": "stdout",
     "output_type": "stream",
     "text": [
      "Counter({2: 3, 3: 3, 11: 1})\n",
      "Prime factorization: 2376 = 2^3 x 3^3 x 11^1\n",
      "Number: 2376\n"
     ]
    }
   ],
   "source": [
    "from collections import Counter\n",
    "import math\n",
    "\n",
    "def prime_factorization(n):\n",
    "    factors = Counter()\n",
    "    divisor = 2\n",
    "    while divisor**2 <= n:\n",
    "        while n % divisor == 0:\n",
    "            factors[divisor] += 1\n",
    "            n //= divisor\n",
    "        divisor += 1\n",
    "    if n > 1:\n",
    "        factors[n] += 1\n",
    "    return factors\n",
    "\n",
    "n = 2376\n",
    "prime_factors = prime_factorization(n)\n",
    "factors_str = f\"{n} = \" + \" x \".join([f\"{factor}^{power}\" for factor, power in prime_factors.items()])\n",
    "print(prime_factors)\n",
    "print(\"Prime factorization:\", factors_str)\n",
    "\n",
    "# Calculate the number from prime factors\n",
    "number = math.prod(prime_factors.elements())\n",
    "print(\"Number:\", number)"
   ]
  }
 ],
 "metadata": {
  "celltoolbar": "Slideshow",
  "kernelspec": {
   "display_name": "Python 3 (ipykernel)",
   "language": "python",
   "name": "python3"
  },
  "language_info": {
   "codemirror_mode": {
    "name": "ipython",
    "version": 3
   },
   "file_extension": ".py",
   "mimetype": "text/x-python",
   "name": "python",
   "nbconvert_exporter": "python",
   "pygments_lexer": "ipython3",
   "version": "3.10.9"
  }
 },
 "nbformat": 4,
 "nbformat_minor": 5
}
