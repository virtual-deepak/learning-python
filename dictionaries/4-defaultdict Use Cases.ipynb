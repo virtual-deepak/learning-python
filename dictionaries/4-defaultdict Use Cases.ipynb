{
 "cells": [
  {
   "cell_type": "markdown",
   "id": "1bb29ce7",
   "metadata": {},
   "source": [
    "### Source: [Python collections course in Pluralsight](https://app.pluralsight.com/library/courses/python-collections/table-of-contents) by [Mateo Prigl](https://app.pluralsight.com/profile/author/mateo-prigl)"
   ]
  },
  {
   "cell_type": "markdown",
   "id": "a607d383-83ba-477e-ac80-797262dcdcaa",
   "metadata": {
    "slideshow": {
     "slide_type": "slide"
    }
   },
   "source": [
    "# defaultdict - Use Cases"
   ]
  },
  {
   "cell_type": "markdown",
   "id": "bd68bb01-5827-4dd2-82a8-b31d20c6fdbe",
   "metadata": {
    "slideshow": {
     "slide_type": "slide"
    },
    "tags": []
   },
   "source": [
    "## Grouping Elements"
   ]
  },
  {
   "cell_type": "code",
   "execution_count": 1,
   "id": "2100a0b4-fcd8-40ce-8dd6-57e469952034",
   "metadata": {
    "slideshow": {
     "slide_type": "fragment"
    },
    "tags": []
   },
   "outputs": [
    {
     "name": "stdout",
     "output_type": "stream",
     "text": [
      "defaultdict(<class 'list'>, {'Fruit': ['Apple', 'Banana'], 'Tool': ['Hammer', 'Screwdriver'], 'Electronics': ['Laptop', 'Smartphone']})\n"
     ]
    }
   ],
   "source": [
    "from collections import defaultdict\n",
    "\n",
    "# Sample list of items, each represented as (item, item_type)\n",
    "items = [\n",
    "    (\"Apple\", \"Fruit\"),\n",
    "    (\"Banana\", \"Fruit\"),\n",
    "    (\"Hammer\", \"Tool\"),\n",
    "    (\"Screwdriver\", \"Tool\"),\n",
    "    (\"Laptop\", \"Electronics\"),\n",
    "    (\"Smartphone\", \"Electronics\")\n",
    "]\n",
    "\n",
    "dd = defaultdict(list)\n",
    "for item, item_type in items:\n",
    "    dd[item_type].append(item)\n",
    "    # Regular dict would work like this\n",
    "    # std_dict.setdefault(item_type, []).append(item)\n",
    "\n",
    "print(dd)"
   ]
  },
  {
   "cell_type": "markdown",
   "id": "9d8b68e8-8068-498e-b8a4-47bd93557739",
   "metadata": {
    "slideshow": {
     "slide_type": "slide"
    }
   },
   "source": [
    "## Grouping Unique Elements"
   ]
  },
  {
   "cell_type": "code",
   "execution_count": 2,
   "id": "84583a5d-5ab3-406d-b2b6-712078dbb383",
   "metadata": {
    "slideshow": {
     "slide_type": "fragment"
    }
   },
   "outputs": [
    {
     "name": "stdout",
     "output_type": "stream",
     "text": [
      "defaultdict(<class 'set'>, {'Fruit': {'Apple', 'Banana'}, 'Tool': {'Screwdriver', 'Hammer'}, 'Electronics': {'Smartphone', 'Laptop'}})\n"
     ]
    }
   ],
   "source": [
    "from collections import defaultdict\n",
    "\n",
    "items = [\n",
    "    (\"Apple\", \"Fruit\"),\n",
    "    (\"Banana\", \"Fruit\"),\n",
    "    (\"Banana\", \"Fruit\"),\n",
    "    (\"Banana\", \"Fruit\"),\n",
    "    (\"Hammer\", \"Tool\"),\n",
    "    (\"Hammer\", \"Tool\"),\n",
    "    (\"Screwdriver\", \"Tool\"),\n",
    "    (\"Laptop\", \"Electronics\"),\n",
    "    (\"Smartphone\", \"Electronics\")\n",
    "]\n",
    "\n",
    "dd = defaultdict(set)\n",
    "for item, item_type in items:\n",
    "    dd[item_type].add(item)\n",
    "\n",
    "print(dd)"
   ]
  },
  {
   "cell_type": "markdown",
   "id": "0203b5d7-6064-4e97-a8f9-c09fd3e9a4dc",
   "metadata": {
    "slideshow": {
     "slide_type": "slide"
    },
    "tags": []
   },
   "source": [
    "## Counting Elements which Belong to the Same Category"
   ]
  },
  {
   "cell_type": "code",
   "execution_count": 3,
   "id": "515a1a32-2fb6-4f23-8b12-b5663b3d61da",
   "metadata": {
    "slideshow": {
     "slide_type": "fragment"
    }
   },
   "outputs": [
    {
     "name": "stdout",
     "output_type": "stream",
     "text": [
      "defaultdict(<class 'int'>, {'Fruit': 2, 'Tool': 2, 'Electronics': 2})\n"
     ]
    }
   ],
   "source": [
    "from collections import defaultdict\n",
    "\n",
    "items = [\n",
    "    (\"Apple\", \"Fruit\"),\n",
    "    (\"Banana\", \"Fruit\"),\n",
    "    (\"Hammer\", \"Tool\"),\n",
    "    (\"Screwdriver\", \"Tool\"),\n",
    "    (\"Laptop\", \"Electronics\"),\n",
    "    (\"Smartphone\", \"Electronics\")\n",
    "]\n",
    "\n",
    "dd = defaultdict(int) # default value for int() is 0\n",
    "for _, item_type in items:\n",
    "    dd[item_type] += 1\n",
    "\n",
    "print(dd)"
   ]
  },
  {
   "cell_type": "markdown",
   "id": "c1b5dd70-a10f-4ac0-b80b-63c5f202a8ba",
   "metadata": {
    "slideshow": {
     "slide_type": "slide"
    }
   },
   "source": [
    "## Calculating Total Sum for Each Category\n",
    "\n"
   ]
  },
  {
   "cell_type": "code",
   "execution_count": 4,
   "id": "a3be365f-f0f1-450a-916f-70a094aa8269",
   "metadata": {
    "slideshow": {
     "slide_type": "fragment"
    },
    "tags": []
   },
   "outputs": [
    {
     "name": "stdout",
     "output_type": "stream",
     "text": [
      "Total sum for Fruit items is: 8\n",
      "Total sum for Tool items is: 20\n",
      "Total sum for Electronics items is: 9000\n"
     ]
    }
   ],
   "source": [
    "from collections import defaultdict\n",
    "\n",
    "# Sample list of items, each represented as (item, price, type)\n",
    "items = [\n",
    "    (\"Apple\", 5, \"Fruit\"),\n",
    "    (\"Banana\", 3, \"Fruit\"),\n",
    "    (\"Hammer\", 10, \"Tool\"),\n",
    "    (\"Screwdriver\", 10, \"Tool\"),\n",
    "    (\"Laptop\", 5000, \"Electronics\"),\n",
    "    (\"Smartphone\", 4000, \"Electronics\")\n",
    "]\n",
    "\n",
    "dd = defaultdict(int) # default value for int() is 0\n",
    "for _, price, item_type in items:\n",
    "    dd[item_type] += price\n",
    "\n",
    "for item_type, price in dd.items():\n",
    "    print(f'Total sum for {item_type} items is: {price}')"
   ]
  }
 ],
 "metadata": {
  "celltoolbar": "Slideshow",
  "kernelspec": {
   "display_name": "Python 3 (ipykernel)",
   "language": "python",
   "name": "python3"
  },
  "language_info": {
   "codemirror_mode": {
    "name": "ipython",
    "version": 3
   },
   "file_extension": ".py",
   "mimetype": "text/x-python",
   "name": "python",
   "nbconvert_exporter": "python",
   "pygments_lexer": "ipython3",
   "version": "3.11.7"
  }
 },
 "nbformat": 4,
 "nbformat_minor": 5
}
