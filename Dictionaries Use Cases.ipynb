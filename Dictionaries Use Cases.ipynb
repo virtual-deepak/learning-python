{
 "cells": [
  {
   "cell_type": "markdown",
   "id": "020655ed",
   "metadata": {},
   "source": [
    "### Source: [Python collections course in Pluralsight](https://app.pluralsight.com/library/courses/python-collections/table-of-contents) by [Mateo Prigl](https://app.pluralsight.com/profile/author/mateo-prigl)"
   ]
  },
  {
   "cell_type": "markdown",
   "id": "01f238b4-18b9-4ade-9883-b2f626cc35bb",
   "metadata": {
    "editable": true,
    "slideshow": {
     "slide_type": "slide"
    },
    "tags": []
   },
   "source": [
    "# Dictionaries - Use Cases"
   ]
  },
  {
   "cell_type": "markdown",
   "id": "d49e5d84-7ea8-4ab0-9bef-4abbd3675343",
   "metadata": {
    "slideshow": {
     "slide_type": "slide"
    }
   },
   "source": [
    "## Configuration Settings\n",
    "\n",
    "Dictionaries can be used in an application that needs to load and access configuration settings, where these settings are not complex enough to require a database. In that case, dictionaries provide simplicity of implementation, immediate fast in-memory access to configuration values and portability."
   ]
  },
  {
   "cell_type": "code",
   "execution_count": 1,
   "id": "e51cf0f9-3135-41bc-8da1-2f88bc068960",
   "metadata": {
    "slideshow": {
     "slide_type": "slide"
    }
   },
   "outputs": [
    {
     "name": "stdout",
     "output_type": "stream",
     "text": [
      "Debug Mode: True\n",
      "Retry Attempts: 5\n"
     ]
    }
   ],
   "source": [
    "# Loading and accessing configuration settings using a dictionary\n",
    "config = {\n",
    "    \"debug_mode\": True,\n",
    "    \"api_endpoint\": \"https://api.example.com\",\n",
    "    \"retry_attempts\": 3,\n",
    "    \"themes\": [\"light\", \"dark\"]\n",
    "}\n",
    "\n",
    "# Accessing a configuration setting\n",
    "debug_mode = config[\"debug_mode\"]\n",
    "print(f\"Debug Mode: {debug_mode}\")\n",
    "\n",
    "# Modifying a configuration setting\n",
    "config[\"retry_attempts\"] = 5\n",
    "print(f\"Retry Attempts: {config['retry_attempts']}\")"
   ]
  },
  {
   "cell_type": "markdown",
   "id": "1c0b407b-f145-43f0-8b79-41f77d911a3f",
   "metadata": {
    "slideshow": {
     "slide_type": "slide"
    }
   },
   "source": [
    "## Function Dispatch Tables\n",
    "\n",
    "Mapping strings or identifiers to functions within a codebase to dynamically call different functions based on input, commonly used in command parsers, APIs, or state machines. Dictionaries here provide flexibility and readability."
   ]
  },
  {
   "cell_type": "code",
   "execution_count": 2,
   "id": "a3f6d498-ae77-4322-bd5e-9cc0c56ca0ce",
   "metadata": {
    "slideshow": {
     "slide_type": "slide"
    }
   },
   "outputs": [
    {
     "name": "stdout",
     "output_type": "stream",
     "text": [
      "Enter command (list_files, count_files, sys_info):  sys_info\n"
     ]
    },
    {
     "name": "stdout",
     "output_type": "stream",
     "text": [
      "System: Linux\n",
      "Version: #1 SMP Thu Jan 11 04:09:03 UTC 2024\n"
     ]
    }
   ],
   "source": [
    "import os\n",
    "import platform\n",
    "\n",
    "def list_files(directory='.'):\n",
    "    \"\"\"Lists files in the given directory.\"\"\"\n",
    "    files = [f for f in os.listdir(directory) if os.path.isfile(os.path.join(directory, f))]\n",
    "    for file in files:\n",
    "        print(file)\n",
    "\n",
    "def count_files(directory='.'):\n",
    "    \"\"\"Counts the number of files in the given directory.\"\"\"\n",
    "    files = [f for f in os.listdir(directory) if os.path.isfile(os.path.join(directory, f))]\n",
    "    print(f\"Number of files: {len(files)}\")\n",
    "\n",
    "def sys_info():\n",
    "    \"\"\"Displays basic system information.\"\"\"\n",
    "    print(f\"System: {platform.system()}\")\n",
    "    print(f\"Version: {platform.version()}\")\n",
    "\n",
    "# Dispatch Table\n",
    "commands = {\n",
    "    \"list_files\": list_files,\n",
    "    \"count_files\": count_files,\n",
    "    \"sys_info\": sys_info,\n",
    "}\n",
    "\n",
    "user_command = input(\"Enter command (list_files, count_files, sys_info): \").strip()\n",
    "directory = '.'  # Assume current directory\n",
    "\n",
    "# Dispatching the command\n",
    "if user_command in commands:\n",
    "    if user_command in [\"list_files\", \"count_files\"]:\n",
    "        commands[user_command](directory)\n",
    "    else:\n",
    "        commands[user_command]()\n",
    "else:\n",
    "    print(\"Unknown command.\")"
   ]
  },
  {
   "cell_type": "markdown",
   "id": "b2eb8aff-b42a-4f33-8945-0dcca1fba4d0",
   "metadata": {
    "slideshow": {
     "slide_type": "slide"
    }
   },
   "source": [
    "## Memoization\n",
    "\n",
    "Optimizing expensive, repetitive function calls by caching the results of those calls based on their input parameters. While there are caching libraries and tools available, for lightweight or specific functions within a larger application, a simple dictionary-based memoization is often the most efficient approach."
   ]
  },
  {
   "cell_type": "code",
   "execution_count": 3,
   "id": "9574952d-c555-4aae-b1d8-522e26a746af",
   "metadata": {
    "slideshow": {
     "slide_type": "slide"
    }
   },
   "outputs": [
    {
     "name": "stdout",
     "output_type": "stream",
     "text": [
      "55\n"
     ]
    }
   ],
   "source": [
    "# Using a dictionary to memoize a simple Fibonacci function\n",
    "def fibonacci(n, memo={}):\n",
    "    if n in memo:\n",
    "        return memo[n]\n",
    "    if n <= 2:\n",
    "        return 1\n",
    "    memo[n] = fibonacci(n - 1, memo) + fibonacci(n - 2, memo)\n",
    "    return memo[n]\n",
    "\n",
    "print(fibonacci(10))"
   ]
  },
  {
   "cell_type": "markdown",
   "id": "6af2502e-6f3c-43dc-b9cf-7add23b4453a",
   "metadata": {
    "slideshow": {
     "slide_type": "slide"
    }
   },
   "source": [
    "## Plugin or Module Registry\n",
    "\n",
    "An application that supports plugins or modules might use a dictionary to keep track of available plugins and their metadata. Dictionaries provide dynamic registration, direct mapping and decentralization."
   ]
  },
  {
   "cell_type": "code",
   "execution_count": 4,
   "id": "307d0c36-f216-480b-a639-328e1a941a35",
   "metadata": {
    "slideshow": {
     "slide_type": "slide"
    }
   },
   "outputs": [
    {
     "name": "stdout",
     "output_type": "stream",
     "text": [
      "Hello from the plugin!\n"
     ]
    }
   ],
   "source": [
    "# Registering and invoking plugins through a dictionary-based registry\n",
    "plugins = {}\n",
    "\n",
    "def register_plugin(name, func):\n",
    "    plugins[name] = func\n",
    "\n",
    "def call_plugin(name):\n",
    "    if name in plugins:\n",
    "        plugins[name]()\n",
    "\n",
    "# Example plugin functions\n",
    "def plugin_greet():\n",
    "    print(\"Hello from the plugin!\")\n",
    "\n",
    "# Registering the plugin\n",
    "register_plugin(\"greeting_plugin\", plugin_greet)\n",
    "\n",
    "# Calling the registered plugin\n",
    "call_plugin(\"greeting_plugin\") "
   ]
  },
  {
   "cell_type": "markdown",
   "id": "f405a910-7026-4339-abce-01bd7ec09a75",
   "metadata": {
    "slideshow": {
     "slide_type": "slide"
    }
   },
   "source": [
    "## Counting and Grouping Items (aka Frequency Tables)\n",
    "\n",
    "Counting occurrences of items or grouping items by a certain attribute. Dictionaries facilitate this pattern efficiently through keys representing the items or attributes and values representing counts or groups."
   ]
  },
  {
   "cell_type": "code",
   "execution_count": 5,
   "id": "b7cfda78-e34d-4565-a109-f9cbdf1e7d19",
   "metadata": {
    "slideshow": {
     "slide_type": "slide"
    }
   },
   "outputs": [
    {
     "name": "stdout",
     "output_type": "stream",
     "text": [
      "IP Address 192.168.1.1 made 3 requests\n",
      "IP Address 192.168.1.2 made 2 requests\n",
      "IP Address 192.168.1.3 made 1 requests\n"
     ]
    }
   ],
   "source": [
    "# Simulating log data as a list of dictionaries\n",
    "log_data = [\n",
    "    {\"ip\": \"192.168.1.1\", \"url\": \"/index.html\", \"status\": \"200\"},\n",
    "    {\"ip\": \"192.168.1.2\", \"url\": \"/about.html\", \"status\": \"200\"},\n",
    "    {\"ip\": \"192.168.1.1\", \"url\": \"/contact.html\", \"status\": \"200\"},\n",
    "    {\"ip\": \"192.168.1.3\", \"url\": \"/index.html\", \"status\": \"200\"},\n",
    "    {\"ip\": \"192.168.1.2\", \"url\": \"/products.html\", \"status\": \"200\"},\n",
    "    {\"ip\": \"192.168.1.1\", \"url\": \"/products.html\", \"status\": \"404\"},\n",
    "]\n",
    "\n",
    "# Dictionary to hold request counts per IP address\n",
    "request_counts = {}\n",
    "\n",
    "# Process log entries to count requests per IP address\n",
    "for log_entry in log_data:\n",
    "    ip_address = log_entry[\"ip\"]\n",
    "    request_counts[ip_address] = request_counts.get(ip_address, 0) + 1\n",
    "\n",
    "for ip, count in request_counts.items():\n",
    "    print(f\"IP Address {ip} made {count} requests\")"
   ]
  },
  {
   "cell_type": "markdown",
   "id": "4cfdf9ea-cd46-4b3a-acf4-50f745532405",
   "metadata": {
    "slideshow": {
     "slide_type": "slide"
    }
   },
   "source": [
    "## Using Dictionaries with Functions\n",
    "\n",
    "A function can have a parameter preceded by two stars `**`. The `**kwargs` is known as a keyword parameter."
   ]
  },
  {
   "cell_type": "code",
   "execution_count": 6,
   "id": "09b2a1ed-ff4d-4dd6-b1b1-1a55bae88cab",
   "metadata": {
    "slideshow": {
     "slide_type": "slide"
    },
    "tags": []
   },
   "outputs": [
    {
     "name": "stdout",
     "output_type": "stream",
     "text": [
      "kwargs: {'href': 'https://example.com', 'style': 'color: red;'}\n",
      "<a href=\"https://example.com\" style=\"color: red;\">Click Here</a>\n"
     ]
    }
   ],
   "source": [
    "def html_tag(tag, content, **kwargs):\n",
    "    \"\"\"\n",
    "    Returns a string representation of an HTML tag.\n",
    "    \n",
    "    :param tag: The HTML tag name.\n",
    "    :param content: The content inside the tag.\n",
    "    :param kwargs: Optional HTML attributes for the tag.\n",
    "    \"\"\"\n",
    "    print(\"kwargs:\", kwargs)\n",
    "    attributes = ' '.join([f'{key}=\"{value}\"' for key, value in kwargs.items()])\n",
    "    return f'<{tag} {attributes}>{content}</{tag}>'\n",
    "\n",
    "# Example usage\n",
    "print(html_tag('a', 'Click Here', href=\"https://example.com\", style=\"color: red;\"))"
   ]
  }
 ],
 "metadata": {
  "celltoolbar": "Slideshow",
  "kernelspec": {
   "display_name": "Python 3 (ipykernel)",
   "language": "python",
   "name": "python3"
  },
  "language_info": {
   "codemirror_mode": {
    "name": "ipython",
    "version": 3
   },
   "file_extension": ".py",
   "mimetype": "text/x-python",
   "name": "python",
   "nbconvert_exporter": "python",
   "pygments_lexer": "ipython3",
   "version": "3.11.7"
  }
 },
 "nbformat": 4,
 "nbformat_minor": 5
}
