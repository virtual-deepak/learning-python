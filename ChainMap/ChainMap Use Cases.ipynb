{
 "cells": [
  {
   "cell_type": "markdown",
   "id": "a10b6406",
   "metadata": {},
   "source": [
    "### Source: [Python collections course in Pluralsight](https://app.pluralsight.com/library/courses/python-collections/table-of-contents) by [Mateo Prigl](https://app.pluralsight.com/profile/author/mateo-prigl)"
   ]
  },
  {
   "cell_type": "markdown",
   "id": "873bbff6-a834-4282-b751-afd6839c94a7",
   "metadata": {
    "slideshow": {
     "slide_type": "slide"
    }
   },
   "source": [
    "# ChainMap - Use Cases"
   ]
  },
  {
   "cell_type": "markdown",
   "id": "69a2ca46-5967-47c9-a32f-7af151e9e8fe",
   "metadata": {
    "slideshow": {
     "slide_type": "slide"
    }
   },
   "source": [
    "## Application Configuration"
   ]
  },
  {
   "cell_type": "code",
   "execution_count": 1,
   "id": "2f05309d-03f5-4914-8567-006db9e7ce6f",
   "metadata": {
    "slideshow": {
     "slide_type": "fragment"
    }
   },
   "outputs": [
    {
     "name": "stdout",
     "output_type": "stream",
     "text": [
      "Theme: Default\n",
      "\n",
      "After adding the user config\n",
      "Theme: Dark Mode\n",
      "Language: English\n",
      "Show Ads: False\n"
     ]
    }
   ],
   "source": [
    "from collections import ChainMap\n",
    "import os\n",
    "\n",
    "# Default configuration\n",
    "default_config = {\"theme\": \"Default\", \"language\": \"English\", \"show_ads\": True}\n",
    "\n",
    "# Environment variables can override default settings\n",
    "env_config = os.environ\n",
    "\n",
    "# Chain them\n",
    "app_config = ChainMap(env_config, default_config)\n",
    "# Access the theme setting\n",
    "print(\"Theme:\", app_config[\"theme\"])\n",
    "\n",
    "# User input has the highest priority, followed by environment variables, then defaults\n",
    "user_config = {\"theme\": \"Dark Mode\", \"show_ads\": False}\n",
    "app_config = app_config.new_child(user_config)\n",
    "\n",
    "# Accessing a setting\n",
    "print(\"\\nAfter adding the user config\")\n",
    "print(\"Theme:\", app_config[\"theme\"])\n",
    "print(\"Language:\", app_config[\"language\"])\n",
    "print(\"Show Ads:\", app_config[\"show_ads\"])"
   ]
  },
  {
   "cell_type": "markdown",
   "id": "36d8858f-8a19-4447-a3b8-ddd703fe9ee0",
   "metadata": {
    "slideshow": {
     "slide_type": "slide"
    }
   },
   "source": [
    "## Context in Command-line Applications"
   ]
  },
  {
   "cell_type": "code",
   "execution_count": 2,
   "id": "01c77147-7ee5-4a8d-a9e0-4b28e7ddf465",
   "metadata": {
    "slideshow": {
     "slide_type": "fragment"
    }
   },
   "outputs": [
    {
     "name": "stdout",
     "output_type": "stream",
     "text": [
      "Output file: output_from_cli.log\n",
      "Verbose mode: enabled\n",
      "Mode: normal\n"
     ]
    }
   ],
   "source": [
    "import argparse\n",
    "from collections import ChainMap\n",
    "\n",
    "def main():\n",
    "    # Parse command line arguments\n",
    "    parser = argparse.ArgumentParser(description=\"CLI tool example with ChainMap\")\n",
    "    parser.add_argument(\"--output\", type=str, help=\"Output file name\")\n",
    "    parser.add_argument(\"--verbose\", action=\"store_true\", help=\"Enable verbose mode\")\n",
    "    parser.add_argument(\"--mode\", type=str, help=\"Set the mode of operation\")\n",
    "    \n",
    "    # Replace the statement with just `args = parser.parse_args()` and run this script from a .py file\n",
    "    # if you want to actually try out this CLI from the terminal.\n",
    "    # Simulate command-line arguments for demonstration\n",
    "    args = parser.parse_args([\"--output\", \"output_from_cli.log\", \"--verbose\"])\n",
    "    \n",
    "    # Default settings for my CLI tool\n",
    "    default_settings = {\n",
    "        \"output\": \"default.log\",\n",
    "        \"verbose\": False,\n",
    "        \"mode\": \"normal\"\n",
    "    }\n",
    "    \n",
    "    # Convert args namespace to a dictionary and remove keys with None values\n",
    "    cli_arguments = {k: v for k, v in vars(args).items() if v is not None}\n",
    "    # Using ChainMap to prioritize CLI arguments over default settings\n",
    "    settings = ChainMap(cli_arguments, default_settings)\n",
    "    \n",
    "    # Print settings to demonstrate which ones are applied\n",
    "    print(\"Output file:\", settings[\"output\"])\n",
    "    print(\"Verbose mode:\", (\"enabled\" if settings[\"verbose\"] else \"disabled\"))\n",
    "    print(\"Mode:\", settings[\"mode\"])\n",
    "\n",
    "if __name__ == \"__main__\":\n",
    "    main()\n",
    "# If you named the script cli.py, you can change the parse_args() function above and\n",
    "# run this with actual arguments like: `python3 cli.py --verbose`"
   ]
  },
  {
   "cell_type": "markdown",
   "id": "1d4dd27c-6d4b-4c04-bb94-e5dd853dad1e",
   "metadata": {
    "slideshow": {
     "slide_type": "slide"
    }
   },
   "source": [
    "## Scope Resolution in Interpreters"
   ]
  },
  {
   "cell_type": "code",
   "execution_count": 3,
   "id": "7b12f78f-1dd6-43a6-8456-27000a99a598",
   "metadata": {
    "slideshow": {
     "slide_type": "fragment"
    }
   },
   "outputs": [
    {
     "name": "stdout",
     "output_type": "stream",
     "text": [
      "x: 2\n",
      "y: 5\n",
      "z: 100\n",
      "ChainMap({'y': 5}, {'x': 2, 'y': 3, 'z': 100})\n"
     ]
    }
   ],
   "source": [
    "from collections import ChainMap\n",
    "\n",
    "global_scope = {\"x\": 2, \"y\": 3}\n",
    "local_scope = {\"y\": 5}\n",
    "\n",
    "# The current environment, where local scope has precedence\n",
    "current_env = ChainMap(local_scope, global_scope)\n",
    "\n",
    "# Resolving variables\n",
    "print(\"x:\", current_env[\"x\"])  # Uses global_scope\n",
    "print(\"y:\", current_env[\"y\"])  # Local scope overrides global\n",
    "\n",
    "# Adding new variable to the global scope\n",
    "current_env.parents[\"z\"] = 100\n",
    "print(\"z:\", current_env[\"z\"]) # Uses global_scope\n",
    "\n",
    "print(current_env)"
   ]
  }
 ],
 "metadata": {
  "celltoolbar": "Slideshow",
  "kernelspec": {
   "display_name": "Python 3 (ipykernel)",
   "language": "python",
   "name": "python3"
  },
  "language_info": {
   "codemirror_mode": {
    "name": "ipython",
    "version": 3
   },
   "file_extension": ".py",
   "mimetype": "text/x-python",
   "name": "python",
   "nbconvert_exporter": "python",
   "pygments_lexer": "ipython3",
   "version": "3.11.7"
  }
 },
 "nbformat": 4,
 "nbformat_minor": 5
}
