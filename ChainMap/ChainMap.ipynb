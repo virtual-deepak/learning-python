{
 "cells": [
  {
   "cell_type": "markdown",
   "id": "22364fca",
   "metadata": {},
   "source": [
    "### Source: [Python collections course in Pluralsight](https://app.pluralsight.com/library/courses/python-collections/table-of-contents) by [Mateo Prigl](https://app.pluralsight.com/profile/author/mateo-prigl)"
   ]
  },
  {
   "cell_type": "markdown",
   "id": "ba4c534c-a133-4b3c-8abd-7dba88e1e32e",
   "metadata": {
    "slideshow": {
     "slide_type": "slide"
    }
   },
   "source": [
    "# ChainMap\n",
    "\n",
    "`ChainMap` is a class from the collections module in Python. It is a dictionary-like class for creating a single view of multiple mappings. It essentially combines several dictionaries into one view, allowing you to access and manipulate them as a single unit."
   ]
  },
  {
   "cell_type": "markdown",
   "id": "a82abe66-ce06-438c-ae82-e8077e3f78a5",
   "metadata": {
    "slideshow": {
     "slide_type": "slide"
    }
   },
   "source": [
    "## Creating a `ChainMap`"
   ]
  },
  {
   "cell_type": "code",
   "execution_count": 1,
   "id": "0a78281f-25ca-484f-b2ce-4690a3c66414",
   "metadata": {
    "slideshow": {
     "slide_type": "fragment"
    }
   },
   "outputs": [
    {
     "name": "stdout",
     "output_type": "stream",
     "text": [
      "ChainMap({'a': 1, 'b': 2}, {'c': 3, 'd': 4})\n",
      "ChainMap({'a': 20, 'b': 2}, {'c': 3, 'd': 4})\n"
     ]
    }
   ],
   "source": [
    "from collections import ChainMap\n",
    "\n",
    "dict1 = {\"a\": 1, \"b\": 2}\n",
    "dict2 = {\"c\": 3, \"d\": 4}\n",
    "chain_map = ChainMap(dict1, dict2)\n",
    "\n",
    "print(chain_map)\n",
    "# Modifying original dictionaries, also affects the ChainMap\n",
    "dict1[\"a\"] = 20\n",
    "print(chain_map)"
   ]
  },
  {
   "cell_type": "markdown",
   "id": "9bf99bcb-50d6-4a81-805e-88ef33cd0f71",
   "metadata": {
    "slideshow": {
     "slide_type": "slide"
    }
   },
   "source": [
    "## Accessing Values from the `ChainMap`"
   ]
  },
  {
   "cell_type": "code",
   "execution_count": 2,
   "id": "a94fa445-9263-4161-abc0-72259fb503d6",
   "metadata": {
    "slideshow": {
     "slide_type": "fragment"
    }
   },
   "outputs": [
    {
     "name": "stdout",
     "output_type": "stream",
     "text": [
      "ChainMap({'a': 1, 'b': 2}, {'b': 3, 'c': 4, 'd': 5})\n",
      "chain_map['a']: 1\n",
      "chain_map['b']: 2\n",
      "chain_map['c']: 4\n"
     ]
    }
   ],
   "source": [
    "from collections import ChainMap\n",
    "\n",
    "dict1 = {\"a\": 1, \"b\": 2}\n",
    "dict2 = {\"b\": 3, \"c\": 4, \"d\": 5}\n",
    "chain_map = ChainMap(dict1, dict2)\n",
    "print(chain_map)\n",
    "\n",
    "print(\"chain_map['a']:\", chain_map[\"a\"])\n",
    "# print(chain_map.get(\"a\"))\n",
    "print(\"chain_map['b']:\", chain_map[\"b\"])\n",
    "print(\"chain_map['c']:\", chain_map[\"c\"])"
   ]
  },
  {
   "cell_type": "markdown",
   "id": "106d0db1-d186-4c5f-9a23-684482127428",
   "metadata": {
    "slideshow": {
     "slide_type": "slide"
    }
   },
   "source": [
    "## `ChainMap` Mutations"
   ]
  },
  {
   "cell_type": "code",
   "execution_count": 3,
   "id": "09feb834-31e8-4cd5-9e57-8c12e94727f4",
   "metadata": {
    "slideshow": {
     "slide_type": "fragment"
    }
   },
   "outputs": [
    {
     "name": "stdout",
     "output_type": "stream",
     "text": [
      "ChainMap({'a': 100, 'b': 200, 'c': 400}, {'b': 3, 'c': 4, 'd': 5})\n"
     ]
    }
   ],
   "source": [
    "from collections import ChainMap\n",
    "\n",
    "dict1 = {\"a\": 1, \"b\": 2, \"z\": 10}\n",
    "dict2 = {\"b\": 3, \"c\": 4, \"d\": 5}\n",
    "cm = ChainMap(dict1, dict2)\n",
    "\n",
    "# Updating values from the first mapping\n",
    "cm[\"a\"] = 100\n",
    "cm[\"b\"] = 200\n",
    "\n",
    "# This will add a new key-value pair to the first mapping\n",
    "cm[\"c\"] = 400\n",
    "\n",
    "# You can only remove elements from the first mapping\n",
    "cm.pop(\"z\")\n",
    "# clear() will also just empty the first mapping\n",
    "\n",
    "print(cm)"
   ]
  },
  {
   "cell_type": "markdown",
   "id": "bee1cd5d-7a86-4888-a057-20667880d618",
   "metadata": {
    "slideshow": {
     "slide_type": "slide"
    }
   },
   "source": [
    "## Adding and Removing of the First Mapping"
   ]
  },
  {
   "cell_type": "code",
   "execution_count": 4,
   "id": "5edc748f-037a-49f9-9494-cc94e137d7a2",
   "metadata": {
    "slideshow": {
     "slide_type": "fragment"
    }
   },
   "outputs": [
    {
     "name": "stdout",
     "output_type": "stream",
     "text": [
      "ChainMap({'e': 6, 'f': 7}, {'a': 1, 'b': 2, 'z': 10}, {'b': 3, 'c': 4, 'd': 5})\n",
      "ChainMap({'a': 1, 'b': 2, 'z': 10}, {'b': 3, 'c': 4, 'd': 5})\n"
     ]
    }
   ],
   "source": [
    "from collections import ChainMap\n",
    "\n",
    "dict1 = {\"a\": 1, \"b\": 2, \"z\": 10}\n",
    "dict2 = {\"b\": 3, \"c\": 4, \"d\": 5}\n",
    "cm = ChainMap(dict1, dict2)\n",
    "\n",
    "# Returns a new ChainMap with the new mapping at the front\n",
    "dict3 = {\"e\": 6, \"f\": 7}\n",
    "cm2 = cm.new_child(dict3)\n",
    "print(cm2)\n",
    "\n",
    "# Returns a new ChainMap without the first mapping\n",
    "cm3 = cm2.parents\n",
    "print(cm3)"
   ]
  },
  {
   "cell_type": "markdown",
   "id": "e9609cd1-cb6d-4d7b-84ec-8d4fe7a2c4bb",
   "metadata": {
    "slideshow": {
     "slide_type": "slide"
    }
   },
   "source": [
    "## Using the `maps` Attribute"
   ]
  },
  {
   "cell_type": "code",
   "execution_count": 5,
   "id": "c231dec2-95b7-41a8-8f26-ccee716aa0d6",
   "metadata": {
    "slideshow": {
     "slide_type": "fragment"
    }
   },
   "outputs": [
    {
     "name": "stdout",
     "output_type": "stream",
     "text": [
      "cm.maps [{'a': 1, 'b': 2, 'z': 10}, {'b': 3, 'c': 4, 'd': 5}]\n",
      "cm.maps [{'b': 3, 'c': 4, 'd': 5}, {'a': 1, 'b': 2, 'z': 10}]\n",
      "cm.maps [{'b': 3, 'c': 4, 'd': 5}]\n"
     ]
    }
   ],
   "source": [
    "from collections import ChainMap\n",
    "\n",
    "dict1 = {\"a\": 1, \"b\": 2, \"z\": 10}\n",
    "dict2 = {\"b\": 3, \"c\": 4, \"d\": 5}\n",
    "cm = ChainMap(dict1, dict2)\n",
    "\n",
    "# Use the internal list\n",
    "print(\"cm.maps\", cm.maps)\n",
    "\n",
    "# Reverse the order of mappings\n",
    "cm.maps.reverse()\n",
    "print(\"cm.maps\", cm.maps)\n",
    "\n",
    "# Remove the last dictionary\n",
    "cm.maps.pop()\n",
    "print(\"cm.maps\", cm.maps)"
   ]
  },
  {
   "cell_type": "markdown",
   "id": "9c5a4b3c-c126-43d7-88b8-aab2942878ff",
   "metadata": {
    "slideshow": {
     "slide_type": "slide"
    }
   },
   "source": [
    "## Iterating over the `ChainMap`"
   ]
  },
  {
   "cell_type": "code",
   "execution_count": 6,
   "id": "a6398fab-40cc-4185-ba9f-d0b1ffcb3d8c",
   "metadata": {
    "scrolled": true,
    "slideshow": {
     "slide_type": "fragment"
    }
   },
   "outputs": [
    {
     "name": "stdout",
     "output_type": "stream",
     "text": [
      "b 2\n",
      "c 4\n",
      "d 5\n",
      "a 1\n"
     ]
    }
   ],
   "source": [
    "from collections import ChainMap\n",
    "\n",
    "dict1 = {\"a\": 1, \"b\": 2}\n",
    "dict2 = {\"b\": 3, \"c\": 4, \"d\": 5}\n",
    "chain_map = ChainMap(dict1, dict2)\n",
    "\n",
    "# The iteration is determined by scanning the mappings last to first\n",
    "for key, value in chain_map.items():\n",
    "    print(key, value)\n",
    "# The same order applies to .keys() and .values()"
   ]
  }
 ],
 "metadata": {
  "celltoolbar": "Slideshow",
  "kernelspec": {
   "display_name": "Python 3 (ipykernel)",
   "language": "python",
   "name": "python3"
  },
  "language_info": {
   "codemirror_mode": {
    "name": "ipython",
    "version": 3
   },
   "file_extension": ".py",
   "mimetype": "text/x-python",
   "name": "python",
   "nbconvert_exporter": "python",
   "pygments_lexer": "ipython3",
   "version": "3.11.7"
  }
 },
 "nbformat": 4,
 "nbformat_minor": 5
}
