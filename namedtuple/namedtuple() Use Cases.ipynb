{
 "cells": [
  {
   "cell_type": "markdown",
   "id": "6db75d21",
   "metadata": {},
   "source": [
    "### Source: [Python collections course in Pluralsight](https://app.pluralsight.com/library/courses/python-collections/table-of-contents) by [Mateo Prigl](https://app.pluralsight.com/profile/author/mateo-prigl)"
   ]
  },
  {
   "cell_type": "markdown",
   "id": "5e6a8ef0-b0d6-4253-9d5f-5c84e7c24e74",
   "metadata": {
    "slideshow": {
     "slide_type": "slide"
    }
   },
   "source": [
    "# namedtuple() Use Cases"
   ]
  },
  {
   "cell_type": "markdown",
   "id": "758c6f3b-25a7-4f25-ac1a-62141edba417",
   "metadata": {
    "slideshow": {
     "slide_type": "slide"
    }
   },
   "source": [
    "## Immutable Container with Named Fields\n",
    "\n",
    "Named tuples improve code readability by utilizing named fields. But creation time is a lot slower than with regular tuples.\n",
    "\n",
    "We could compare them to data classes and dictionaries. However, dictionaries and data classes (unless frozen) are mutable data structures. They also consume more memory than named tuples, because they use dictionaries to store data (data class has `__dict__`). Named tuples also offer better performance, especially compared to dictionaries."
   ]
  },
  {
   "cell_type": "code",
   "execution_count": 1,
   "id": "27b63fff-bf13-4d3e-8597-10b7f9c96bce",
   "metadata": {
    "slideshow": {
     "slide_type": "slide"
    }
   },
   "outputs": [
    {
     "name": "stdout",
     "output_type": "stream",
     "text": [
      "The coordinates of Chicago are (41.8781, -87.6298)\n"
     ]
    }
   ],
   "source": [
    "from collections import namedtuple\n",
    "\n",
    "City = namedtuple(\"City\", [\"name\", \"latitude\", \"longitude\"])\n",
    "\n",
    "cities = [\n",
    "    City(\"New York\", 40.7128, -74.0060),\n",
    "    City(\"Los Angeles\", 34.0522, -118.2437),\n",
    "    City(\"Chicago\", 41.8781, -87.6298),\n",
    "]\n",
    "\n",
    "def find_city_by_name(city_name):\n",
    "    for city in cities:\n",
    "        if city.name == city_name:\n",
    "            return city\n",
    "    return None\n",
    "\n",
    "found_city = find_city_by_name(\"Chicago\")\n",
    "if found_city:\n",
    "    print(f\"The coordinates of {found_city.name} are ({found_city.latitude}, {found_city.longitude})\")\n",
    "else:\n",
    "    print(\"City not found\")"
   ]
  },
  {
   "cell_type": "markdown",
   "id": "235b5b2f-23a1-4bec-bc1a-cf715ea36934",
   "metadata": {
    "slideshow": {
     "slide_type": "slide"
    }
   },
   "source": [
    "If you want to define custom methods, docstrings and use type hints like in data classes, you can utilize the `typing.NamedTuple` type."
   ]
  },
  {
   "cell_type": "code",
   "execution_count": 2,
   "id": "8a38cbe7-a611-4115-8115-a1b0e40f00bd",
   "metadata": {
    "slideshow": {
     "slide_type": "fragment"
    }
   },
   "outputs": [
    {
     "name": "stdout",
     "output_type": "stream",
     "text": [
      "The city of New York can be found at (40.7128, -74.006) coordinates.\n"
     ]
    }
   ],
   "source": [
    "from typing import NamedTuple\n",
    "\n",
    "class City(NamedTuple):\n",
    "    \"\"\"\n",
    "    Represents a city with a name and its geographic coordinates.\n",
    "    \n",
    "    Attributes:\n",
    "        name (str): The name of the city.\n",
    "        latitude (float): The latitude of the city.\n",
    "        longitude (float): The longitude of the city.\n",
    "    \"\"\"\n",
    "    name: str\n",
    "    latitude: float\n",
    "    longitude: float\n",
    "\n",
    "    def __str__(self):\n",
    "        return f\"The city of {self.name} can be found at ({self.latitude}, {self.longitude}) coordinates.\"\n",
    "\n",
    "city = City(\"New York\", 40.7128, -74.0060)\n",
    "print(city)"
   ]
  },
  {
   "cell_type": "markdown",
   "id": "f54d9bdd-be4a-4f89-b712-81d84f879cda",
   "metadata": {
    "slideshow": {
     "slide_type": "slide"
    }
   },
   "source": [
    "## Working with Functions"
   ]
  },
  {
   "cell_type": "markdown",
   "id": "b4f8bb6e-b2cf-4e0f-b688-b8938b98c72e",
   "metadata": {
    "slideshow": {
     "slide_type": "fragment"
    }
   },
   "source": [
    "#### Reducing the Number of Function Parameters"
   ]
  },
  {
   "cell_type": "code",
   "execution_count": 3,
   "id": "b88bce71-aa00-407b-baff-3ca389952b43",
   "metadata": {
    "slideshow": {
     "slide_type": "fragment"
    }
   },
   "outputs": [
    {
     "name": "stdout",
     "output_type": "stream",
     "text": [
      "Processing X Y living in Anytown, Anystate.\n"
     ]
    }
   ],
   "source": [
    "from collections import namedtuple\n",
    "\n",
    "# Use a parameter for each piece of customer data\n",
    "# def process_customer_info(id, first_name, last_name, email, address, city, state, zip_code):\n",
    "#    # Some complex logic here\n",
    "#    print(f\"Processing {first_name} {last_name} living in {city}, {state}.\")\n",
    "\n",
    "\n",
    "CustomerInfo = namedtuple(\"CustomerInfo\", [\"id\", \"first_name\", \"last_name\", \"email\", \"address\", \"city\", \"state\", \"zip_code\"])\n",
    "# Use the CustomerInfo namedtuple instead\n",
    "def process_customer_info(customer_info):\n",
    "    # Now, only a single parameter is needed\n",
    "    print(f\"Processing {customer_info.first_name} {customer_info.last_name} living in {customer_info.city}, {customer_info.state}.\")\n",
    "\n",
    "customer = CustomerInfo(1, \"X\", \"Y\", \"x.y@example.com\", \"123 Elm St\", \"Anytown\", \"Anystate\", \"12345\")\n",
    "process_customer_info(customer)"
   ]
  },
  {
   "cell_type": "markdown",
   "id": "e749b294-480c-4834-ad36-6d4f06bc388a",
   "metadata": {
    "slideshow": {
     "slide_type": "slide"
    }
   },
   "source": [
    "#### Return a Named Tuple from a Function"
   ]
  },
  {
   "cell_type": "code",
   "execution_count": 4,
   "id": "65f32ba1-91f9-4020-a2a3-d0e125096fdf",
   "metadata": {
    "slideshow": {
     "slide_type": "fragment"
    }
   },
   "outputs": [
    {
     "name": "stdout",
     "output_type": "stream",
     "text": [
      "Average Expense: $324.00\n",
      "Total Expense: $1620\n",
      "Highest Expense: $500\n"
     ]
    }
   ],
   "source": [
    "from collections import namedtuple\n",
    "\n",
    "# Define the FinancialStats namedtuple\n",
    "FinancialStats = namedtuple(\"FinancialStats\", [\"average_expense\", \"total_expense\", \"highest_expense\"])\n",
    "\n",
    "def calculate_financial_stats(expenses):\n",
    "    total_expense = sum(expenses)\n",
    "    average_expense = total_expense / len(expenses)\n",
    "    highest_expense = max(expenses)\n",
    "    return FinancialStats(average_expense, total_expense, highest_expense)\n",
    "\n",
    "# Usage\n",
    "expenses = [250, 320, 150, 400, 500]\n",
    "stats = calculate_financial_stats(expenses)\n",
    "print(f\"Average Expense: ${stats.average_expense:.2f}\")\n",
    "print(f\"Total Expense: ${stats.total_expense}\")\n",
    "print(f\"Highest Expense: ${stats.highest_expense}\")"
   ]
  }
 ],
 "metadata": {
  "celltoolbar": "Slideshow",
  "kernelspec": {
   "display_name": "Python 3 (ipykernel)",
   "language": "python",
   "name": "python3"
  },
  "language_info": {
   "codemirror_mode": {
    "name": "ipython",
    "version": 3
   },
   "file_extension": ".py",
   "mimetype": "text/x-python",
   "name": "python",
   "nbconvert_exporter": "python",
   "pygments_lexer": "ipython3",
   "version": "3.11.7"
  }
 },
 "nbformat": 4,
 "nbformat_minor": 5
}
