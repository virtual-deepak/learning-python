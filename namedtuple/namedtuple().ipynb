{
 "cells": [
  {
   "cell_type": "markdown",
   "id": "a5f2cc24",
   "metadata": {},
   "source": [
    "### Source: [Python collections course in Pluralsight](https://app.pluralsight.com/library/courses/python-collections/table-of-contents) by [Mateo Prigl](https://app.pluralsight.com/profile/author/mateo-prigl)"
   ]
  },
  {
   "cell_type": "markdown",
   "id": "2f50e083-ae2b-4d79-aa4e-15342457c5ba",
   "metadata": {
    "slideshow": {
     "slide_type": "slide"
    }
   },
   "source": [
    "# namedtuple()\n",
    "\n",
    "The `namedtuple()` is a factory function available in Python's collections module that returns a new subclass of tuple with named fields. Named tuples are especially useful for assigning field names to the elements of a tuple, which enhances code readability with the simplicity of tuple access."
   ]
  },
  {
   "cell_type": "markdown",
   "id": "850a9681-4781-4675-b4d2-c885c3fc3fc0",
   "metadata": {
    "slideshow": {
     "slide_type": "slide"
    }
   },
   "source": [
    "## Creating Named Tuples"
   ]
  },
  {
   "cell_type": "code",
   "execution_count": 1,
   "id": "f61c6f99-06c3-412c-ac65-503c7a11d573",
   "metadata": {
    "slideshow": {
     "slide_type": "fragment"
    }
   },
   "outputs": [
    {
     "name": "stdout",
     "output_type": "stream",
     "text": [
      "Pixel(red=255, green=50, blue=0)\n",
      "('red', 'green', 'blue')\n"
     ]
    }
   ],
   "source": [
    "from collections import namedtuple\n",
    "\n",
    "# Creating a new tuple subclass (namedtuple class)\n",
    "Pixel = namedtuple(\"Pixel\", \"red green blue\")\n",
    "# Pixel = namedtuple(\"Pixel\", \"red, green, blue\")\n",
    "# Pixel = namedtuple(\"Pixel\", [\"red\", \"green\", \"blue\"])\n",
    "# Pixel = namedtuple(\"Pixel\", (field for field in [\"red\", \"green\", \"blue\"]))\n",
    "\n",
    "# Using a namedtuple class to instantiate a new namedtuple object\n",
    "# pixel = Pixel(255, 0, 0)\n",
    "pixel = Pixel(red=255, green=50, blue=0)\n",
    "print(pixel)\n",
    "\n",
    "# Get a tuple of field names\n",
    "print(Pixel._fields)"
   ]
  },
  {
   "cell_type": "markdown",
   "id": "b7104791-9cd4-478e-a4ee-cfba6f63841a",
   "metadata": {
    "slideshow": {
     "slide_type": "slide"
    }
   },
   "source": [
    "## Accessing Elements by Field Names"
   ]
  },
  {
   "cell_type": "code",
   "execution_count": 2,
   "id": "7d89fec8-2875-42b8-bb5a-fd5b119146bb",
   "metadata": {
    "slideshow": {
     "slide_type": "fragment"
    }
   },
   "outputs": [
    {
     "name": "stdout",
     "output_type": "stream",
     "text": [
      "Accessing values by indicies:\n",
      "255\n",
      "50\n",
      "0\n",
      "Accessing values by field names with the dot syntax:\n",
      "255\n",
      "50\n",
      "0\n"
     ]
    }
   ],
   "source": [
    "from collections import namedtuple\n",
    "\n",
    "Pixel = namedtuple(\"Pixel\", \"red green blue\")\n",
    "pixel = Pixel(red=255, green=50, blue=0)\n",
    "\n",
    "print(\"Accessing values by indicies:\")\n",
    "print(pixel[0])\n",
    "print(pixel[1])\n",
    "print(pixel[2])\n",
    "\n",
    "print(\"Accessing values by field names with the dot syntax:\")\n",
    "print(pixel.red)\n",
    "print(pixel.green)\n",
    "print(pixel.blue)"
   ]
  },
  {
   "cell_type": "markdown",
   "id": "df629b9e-c666-4ef2-ac9d-0614e2c262e7",
   "metadata": {
    "slideshow": {
     "slide_type": "slide"
    }
   },
   "source": [
    "## Optional Arguments of the `namedtuple()` Function"
   ]
  },
  {
   "cell_type": "code",
   "execution_count": 3,
   "id": "e3a2650e-75d7-46fc-b866-148484368937",
   "metadata": {
    "slideshow": {
     "slide_type": "fragment"
    }
   },
   "outputs": [
    {
     "name": "stdout",
     "output_type": "stream",
     "text": [
      "The 'rename' argument\n",
      "User._fields: ('username', '_1', '_2', '_3')\n",
      "\n",
      "The 'defaults' argument\n",
      "dog: Dog(name='Balto', age=0, location='Home')\n",
      "dog._field_defaults: {'age': 0, 'location': 'Home'}\n",
      "\n",
      "The 'module' argument\n",
      "Item.__module__: my_module\n"
     ]
    }
   ],
   "source": [
    "from collections import namedtuple\n",
    "\n",
    "# The 'rename' argument\n",
    "user_fields = [\"username\", \"_password\", \"username\", \"as\"]\n",
    "User = namedtuple(\"User\", user_fields, rename=True)\n",
    "print(\"The 'rename' argument\")\n",
    "print(\"User._fields:\", User._fields)\n",
    "\n",
    "# The 'defaults' argument\n",
    "Dog = namedtuple(\"Dog\", [\"name\", \"age\", \"location\"], defaults=[0, \"Home\"])\n",
    "dog = Dog(\"Balto\")\n",
    "print(\"\\nThe 'defaults' argument\")\n",
    "print(\"dog:\", dog)\n",
    "print(\"dog._field_defaults:\", dog._field_defaults)\n",
    "\n",
    "# The 'module' argument\n",
    "Item = namedtuple(\"Item\", [\"name\"], module=\"my_module\")\n",
    "print(\"\\nThe 'module' argument\")\n",
    "print(\"Item.__module__:\", Item.__module__) # without the 'module' argument, this would return __main__"
   ]
  },
  {
   "cell_type": "markdown",
   "id": "4a393916-fe54-417a-8267-45ee1950ec44",
   "metadata": {
    "slideshow": {
     "slide_type": "slide"
    }
   },
   "source": [
    "## Constructing `namedtuple` Instances From Iterables"
   ]
  },
  {
   "cell_type": "code",
   "execution_count": 4,
   "id": "b10101ff-62f4-4836-add2-79db0c4edcfb",
   "metadata": {
    "slideshow": {
     "slide_type": "fragment"
    }
   },
   "outputs": [
    {
     "name": "stdout",
     "output_type": "stream",
     "text": [
      "[Pixel(red=255, green=43, blue=22), Pixel(red=230, green=44, blue=23), Pixel(red=230, green=44, blue=23)]\n"
     ]
    }
   ],
   "source": [
    "from collections import namedtuple\n",
    "\n",
    "Pixel = namedtuple(\"Pixel\", \"red green blue\")\n",
    "\n",
    "image_pixel_data = [\n",
    "    [255, 43, 22],\n",
    "    [230, 44, 23],\n",
    "    [230, 44, 23]\n",
    "]\n",
    "\n",
    "sprite = [Pixel._make(pixel) for pixel in image_pixel_data]\n",
    "print(sprite)"
   ]
  },
  {
   "cell_type": "markdown",
   "id": "a6588ff4-050f-49dd-b013-fbbf0a74f046",
   "metadata": {
    "slideshow": {
     "slide_type": "slide"
    }
   },
   "source": [
    "## Named Tuples to Dictionaries and Vice Versa"
   ]
  },
  {
   "cell_type": "code",
   "execution_count": 5,
   "id": "b131fb4e-5f92-436e-b4b3-917d26d974db",
   "metadata": {
    "slideshow": {
     "slide_type": "fragment"
    }
   },
   "outputs": [
    {
     "name": "stdout",
     "output_type": "stream",
     "text": [
      "Pixel(red=255, green=50, blue=0)\n",
      "{'red': 255, 'green': 50, 'blue': 0}\n"
     ]
    }
   ],
   "source": [
    "from collections import namedtuple\n",
    "\n",
    "Pixel = namedtuple(\"Pixel\", \"red green blue\")\n",
    "\n",
    "# Use dictionary unpacking to unpack key-value pairs to keyword arguments\n",
    "pixel = Pixel(**{\"red\": 255, \"green\": 50, \"blue\": 0})\n",
    "print(pixel)\n",
    "\n",
    "# Turn the namedtuple instance to a dictionary\n",
    "print(pixel._asdict())"
   ]
  },
  {
   "cell_type": "markdown",
   "id": "3089f8c7-f8fc-40f0-a87b-a4232f1b8046",
   "metadata": {
    "slideshow": {
     "slide_type": "slide"
    }
   },
   "source": [
    "## Update Fields with the `_replace` Method"
   ]
  },
  {
   "cell_type": "code",
   "execution_count": 6,
   "id": "5176840c-2ad9-4db3-8bf3-49f0872af6c1",
   "metadata": {
    "slideshow": {
     "slide_type": "fragment"
    }
   },
   "outputs": [
    {
     "name": "stdout",
     "output_type": "stream",
     "text": [
      "Dog(name=\"Scooby-Don't\", age=11, location='Shibuya Station')\n"
     ]
    }
   ],
   "source": [
    "from collections import namedtuple\n",
    "\n",
    "Dog = namedtuple(\"Dog\", [\"name\", \"age\", \"location\"])\n",
    "dog = Dog(\"Hachiko\", 11, \"Shibuya Station\")\n",
    "\n",
    "# Create a new Dog instance with the updated value\n",
    "dog = dog._replace(name=\"Scooby-Don't\")\n",
    "print(dog)"
   ]
  }
 ],
 "metadata": {
  "celltoolbar": "Slideshow",
  "kernelspec": {
   "display_name": "Python 3 (ipykernel)",
   "language": "python",
   "name": "python3"
  },
  "language_info": {
   "codemirror_mode": {
    "name": "ipython",
    "version": 3
   },
   "file_extension": ".py",
   "mimetype": "text/x-python",
   "name": "python",
   "nbconvert_exporter": "python",
   "pygments_lexer": "ipython3",
   "version": "3.11.7"
  }
 },
 "nbformat": 4,
 "nbformat_minor": 5
}
