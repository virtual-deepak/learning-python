{
 "cells": [
  {
   "cell_type": "markdown",
   "id": "8ee1f795",
   "metadata": {},
   "source": [
    "### Source: [Python collections course in Pluralsight](https://app.pluralsight.com/library/courses/python-collections/table-of-contents) by [Mateo Prigl](https://app.pluralsight.com/profile/author/mateo-prigl)"
   ]
  },
  {
   "cell_type": "markdown",
   "id": "a45ee1a7-5555-4a31-b573-1dc9b7e6fbf8",
   "metadata": {
    "slideshow": {
     "slide_type": "slide"
    }
   },
   "source": [
    "# deque - Use Cases"
   ]
  },
  {
   "cell_type": "markdown",
   "id": "471bee4e-1965-4741-a1a4-e4095826ed3e",
   "metadata": {
    "slideshow": {
     "slide_type": "slide"
    }
   },
   "source": [
    "## Maintaining a List of Recent Items\n",
    "\n",
    "`deque` with a fixed size (maxlen) is perfect for keeping a history of recent items seen in a stream or during processing."
   ]
  },
  {
   "cell_type": "code",
   "execution_count": 1,
   "id": "de3e9d9d-73b5-4fcc-a16c-d0d1eee21877",
   "metadata": {
    "slideshow": {
     "slide_type": "fragment"
    }
   },
   "outputs": [
    {
     "name": "stdout",
     "output_type": "stream",
     "text": [
      "Item 0 added, recent items: [0]\n",
      "Item 1 added, recent items: [0, 1]\n",
      "Item 2 added, recent items: [0, 1, 2]\n",
      "Item 3 added, recent items: [1, 2, 3]\n",
      "Item 4 added, recent items: [2, 3, 4]\n"
     ]
    }
   ],
   "source": [
    "from collections import deque\n",
    "\n",
    "recent_items = deque(maxlen=3)\n",
    "for i in range(5):\n",
    "    recent_items.append(i)\n",
    "    print(f\"Item {i} added, recent items: {list(recent_items)}\")"
   ]
  },
  {
   "cell_type": "markdown",
   "id": "e4947edb-1376-44a0-8339-5cb0c6a57983",
   "metadata": {
    "slideshow": {
     "slide_type": "slide"
    }
   },
   "source": [
    "## Implementing Queues\n",
    "\n",
    "Using a `deque` as a queue can be practical in a background task processing system where tasks are queued up and processed sequentially. Queues are linear data structures, opened at both ends and the operations are performed in First In First Out (FIFO) order."
   ]
  },
  {
   "cell_type": "code",
   "execution_count": 2,
   "id": "5112a209-5acb-4628-a7cb-ea6bd0b790fa",
   "metadata": {
    "slideshow": {
     "slide_type": "slide"
    }
   },
   "outputs": [
    {
     "name": "stdout",
     "output_type": "stream",
     "text": [
      "Processing task: task_1\n",
      "Processing task: task_2\n",
      "Processing task: task_3\n",
      "Processing task: task_4\n"
     ]
    }
   ],
   "source": [
    "from collections import deque\n",
    "import time\n",
    "\n",
    "def process_task(task):\n",
    "    print(\"Processing task:\", task)\n",
    "    time.sleep(0.5)  # Simulate time-consuming task processing\n",
    "\n",
    "task_queue = deque()\n",
    "\n",
    "# Simulate adding tasks to the queue\n",
    "for i in range(1, 5):\n",
    "    task_queue.append(f\"task_{i}\")\n",
    "\n",
    "# Process tasks in the queue\n",
    "while task_queue:\n",
    "    current_task = task_queue.popleft()\n",
    "    process_task(current_task)"
   ]
  },
  {
   "cell_type": "markdown",
   "id": "90a3d115-f719-4b82-ad32-cf21ba556683",
   "metadata": {
    "slideshow": {
     "slide_type": "slide"
    }
   },
   "source": [
    "## Implementing Stacks\n",
    "\n",
    "Stacks are linear data structures where both the addition of new elements and the removal of existing elements occur at the same end, following a Last In, First Out (LIFO) order."
   ]
  },
  {
   "cell_type": "code",
   "execution_count": 3,
   "id": "33319615-8f29-438b-b4e3-616592a0a001",
   "metadata": {
    "slideshow": {
     "slide_type": "slide"
    }
   },
   "outputs": [
    {
     "name": "stdout",
     "output_type": "stream",
     "text": [
      "Visiting: home.html\n",
      "Visiting: about.html\n",
      "Visiting: contact.html\n",
      "Going back from: contact.html\n",
      "Current page is now: about.html\n",
      "Going back from: about.html\n",
      "Current page is now: home.html\n",
      "Going back from: home.html\n",
      "No more pages in history.\n"
     ]
    }
   ],
   "source": [
    "from collections import deque\n",
    "\n",
    "class BrowserHistory:\n",
    "    def __init__(self):\n",
    "        self.pages = deque(maxlen=5)\n",
    "    \n",
    "    def visit_page(self, page_url):\n",
    "        \"\"\"Visit a new page and add it to the history.\"\"\"\n",
    "        self.pages.append(page_url)\n",
    "        print(\"Visiting:\", page_url)\n",
    "    \n",
    "    def go_back(self):\n",
    "        \"\"\"Go back to the previous page.\"\"\"\n",
    "        if self.pages:\n",
    "            current_page = self.pages.pop()\n",
    "            print(\"Going back from:\", current_page)\n",
    "            if self.pages:\n",
    "                print(\"Current page is now:\", self.pages[-1])\n",
    "            else:\n",
    "                print(\"No more pages in history.\")\n",
    "        else:\n",
    "            print(\"No pages in history.\")\n",
    "\n",
    "browser_history = BrowserHistory()\n",
    "browser_history.visit_page(\"home.html\")\n",
    "browser_history.visit_page(\"about.html\")\n",
    "browser_history.visit_page(\"contact.html\")\n",
    "\n",
    "browser_history.go_back()  # Going back from contact.html to about.html\n",
    "browser_history.go_back()  # Going back from about.html to home.html\n",
    "browser_history.go_back()  # No more pages in history"
   ]
  },
  {
   "cell_type": "markdown",
   "id": "05af780a-886c-429c-a815-7bb6db976c43",
   "metadata": {
    "slideshow": {
     "slide_type": "slide"
    }
   },
   "source": [
    "## Rotating Shift Schedule for Employees"
   ]
  },
  {
   "cell_type": "code",
   "execution_count": 4,
   "id": "95f06299-9c26-4625-aaf5-ec0565b730d7",
   "metadata": {
    "slideshow": {
     "slide_type": "fragment"
    }
   },
   "outputs": [
    {
     "name": "stdout",
     "output_type": "stream",
     "text": [
      "Week 1 schedule: ['Alice', 'Bob', 'Charlie']\n",
      "Week 2 schedule: ['Charlie', 'Alice', 'Bob']\n",
      "Week 3 schedule: ['Bob', 'Charlie', 'Alice']\n",
      "Week 4 schedule: ['Alice', 'Bob', 'Charlie']\n"
     ]
    }
   ],
   "source": [
    "from collections import deque\n",
    "\n",
    "# Initial weekly schedule for 3 employees\n",
    "schedule = deque([\"Alice\", \"Bob\", \"Charlie\"])\n",
    "\n",
    "# Simulate rotation for 4 weeks\n",
    "for week in range(1, 5):\n",
    "    print(f\"Week {week} schedule: {list(schedule)}\")\n",
    "    schedule.rotate(1)  # Rotate the schedule"
   ]
  },
  {
   "cell_type": "markdown",
   "id": "b5e49e04-75a2-469c-8318-789825196ae6",
   "metadata": {
    "slideshow": {
     "slide_type": "slide"
    }
   },
   "source": [
    "## Processing Elements from Both Ends"
   ]
  },
  {
   "cell_type": "code",
   "execution_count": 5,
   "id": "e76bf391-85db-4171-bec5-3ff8f1bc9ee4",
   "metadata": {
    "slideshow": {
     "slide_type": "slide"
    }
   },
   "outputs": [
    {
     "name": "stdout",
     "output_type": "stream",
     "text": [
      "Customer A added to the end of the waitlist.\n",
      "Customer B added to the end of the waitlist.\n",
      "VIP customer C added to the front of the waitlist.\n",
      "Customer D added to the end of the waitlist.\n",
      "Customer C is now being seated.\n",
      "Customer A is now being seated.\n"
     ]
    }
   ],
   "source": [
    "from collections import deque\n",
    "\n",
    "class RestaurantWaitlist:\n",
    "    def __init__(self):\n",
    "        self.waitlist = deque()\n",
    "\n",
    "    def arrive(self, name, vip=False):\n",
    "        if vip:\n",
    "            self.waitlist.appendleft(name)\n",
    "            print(f\"VIP customer {name} added to the front of the waitlist.\")\n",
    "        else:\n",
    "            self.waitlist.append(name)\n",
    "            print(f\"Customer {name} added to the end of the waitlist.\")\n",
    "\n",
    "    def seat_customer(self):\n",
    "        if self.waitlist:\n",
    "            name = self.waitlist.popleft()\n",
    "            print(f\"Customer {name} is now being seated.\")\n",
    "        else:\n",
    "            print(\"The waitlist is currently empty.\")\n",
    "\n",
    "# Example usage\n",
    "waitlist = RestaurantWaitlist()\n",
    "waitlist.arrive(\"A\")\n",
    "waitlist.arrive(\"B\")\n",
    "waitlist.arrive(\"C\", vip=True)  # VIP customer\n",
    "waitlist.arrive(\"D\")\n",
    "\n",
    "waitlist.seat_customer()  # Seats C first because they have VIP status\n",
    "waitlist.seat_customer()  # Then A, following the FIFO order for non-VIPs"
   ]
  },
  {
   "cell_type": "markdown",
   "id": "d6223979-88ac-418b-a479-b804ec953438",
   "metadata": {
    "slideshow": {
     "slide_type": "slide"
    }
   },
   "source": [
    "## Implementing a Sliding Window"
   ]
  },
  {
   "cell_type": "code",
   "execution_count": 6,
   "id": "b7237f97-9965-4803-8943-f161c60531e5",
   "metadata": {
    "slideshow": {
     "slide_type": "fragment"
    }
   },
   "outputs": [
    {
     "name": "stdout",
     "output_type": "stream",
     "text": [
      "5-hour Moving Average: [23.2, 23.8, 25.0, 26.0, 25.2, 24.2, 23.2, 21.4]\n"
     ]
    }
   ],
   "source": [
    "from collections import deque\n",
    "\n",
    "def moving_average(temperatures, n=5):\n",
    "    it = iter(temperatures)\n",
    "    window = deque(maxlen=n)\n",
    "    for temperature in it:\n",
    "        window.append(temperature)\n",
    "        if len(window) == n:\n",
    "            yield sum(window) / n\n",
    "\n",
    "# Example temperature data (e.g., hourly readings)\n",
    "temperatures = [22, 21, 23, 26, 24, 25, 27, 28, 22, 19, 20, 18]\n",
    "print(\"5-hour Moving Average:\", list(moving_average(temperatures)))"
   ]
  }
 ],
 "metadata": {
  "celltoolbar": "Slideshow",
  "kernelspec": {
   "display_name": "Python 3 (ipykernel)",
   "language": "python",
   "name": "python3"
  },
  "language_info": {
   "codemirror_mode": {
    "name": "ipython",
    "version": 3
   },
   "file_extension": ".py",
   "mimetype": "text/x-python",
   "name": "python",
   "nbconvert_exporter": "python",
   "pygments_lexer": "ipython3",
   "version": "3.11.7"
  }
 },
 "nbformat": 4,
 "nbformat_minor": 5
}
