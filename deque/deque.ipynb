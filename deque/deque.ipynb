{
 "cells": [
  {
   "cell_type": "markdown",
   "id": "e9b89463",
   "metadata": {},
   "source": [
    "### Source: [Python collections course in Pluralsight](https://app.pluralsight.com/library/courses/python-collections/table-of-contents) by [Mateo Prigl](https://app.pluralsight.com/profile/author/mateo-prigl)"
   ]
  },
  {
   "cell_type": "markdown",
   "id": "02ee10b8-2fff-43e9-a998-f7cb844237dd",
   "metadata": {
    "slideshow": {
     "slide_type": "slide"
    }
   },
   "source": [
    "# deque\n",
    "\n",
    "Deque (short for \"double-ended queue\") is a generalization of stacks and queues. A `deque` supports list-like methods, but it can append and pop elements from both sides."
   ]
  },
  {
   "cell_type": "markdown",
   "id": "a7c3d02f-4faa-4100-b085-d6aa02befb0a",
   "metadata": {
    "slideshow": {
     "slide_type": "slide"
    }
   },
   "source": [
    "## Creating a `deque`"
   ]
  },
  {
   "cell_type": "code",
   "execution_count": 1,
   "id": "6f8f3f4e-b222-457b-98b4-bbebf2def2e6",
   "metadata": {
    "slideshow": {
     "slide_type": "fragment"
    }
   },
   "outputs": [
    {
     "name": "stdout",
     "output_type": "stream",
     "text": [
      "deque([])\n",
      "deque([1, 2, 3])\n",
      "deque([1, 2, 3])\n",
      "deque([('a', 1), ('b', 2), ('c', 3)])\n"
     ]
    }
   ],
   "source": [
    "from collections import deque\n",
    "\n",
    "# Create an empty deque\n",
    "dq = deque()\n",
    "print(dq)\n",
    "\n",
    "# Initialize deque with an iterable\n",
    "dq = deque((1,2,3)) # tuple\n",
    "print(dq)\n",
    "dq = deque([1,2,3]) # list\n",
    "print(dq)\n",
    "dict1 = {\"a\": 1, \"b\": 2, \"c\": 3}\n",
    "dq = deque(dict1.items()) # dictionary view object\n",
    "print(dq)"
   ]
  },
  {
   "cell_type": "markdown",
   "id": "8f2a4a56-094f-4291-88d6-c4288ac7e4ab",
   "metadata": {
    "slideshow": {
     "slide_type": "slide"
    }
   },
   "source": [
    "## Appending and Popping Elements from Both Sides"
   ]
  },
  {
   "cell_type": "code",
   "execution_count": 2,
   "id": "a9adf09c-81e8-4896-8687-c03e44fdf334",
   "metadata": {
    "slideshow": {
     "slide_type": "fragment"
    }
   },
   "outputs": [
    {
     "name": "stdout",
     "output_type": "stream",
     "text": [
      "deque([0, 1, 2, 3])\n",
      "Popped element from the left: 0\n",
      "deque([1, 2])\n"
     ]
    }
   ],
   "source": [
    "from collections import deque\n",
    "\n",
    "# Append elements from both sides\n",
    "dq = deque([1])\n",
    "dq.append(2)\n",
    "dq.appendleft(0)\n",
    "dq.append(3)\n",
    "print(dq)\n",
    "\n",
    "# Pop elements from both sides\n",
    "dq.pop()\n",
    "popped_el = dq.popleft()\n",
    "print(\"Popped element from the left:\", popped_el)\n",
    "print(dq)"
   ]
  },
  {
   "cell_type": "markdown",
   "id": "ca515a80-eac6-4221-bcb2-e0faeb1fa8d2",
   "metadata": {
    "slideshow": {
     "slide_type": "slide"
    }
   },
   "source": [
    "#### Appending Left in `deque` Versus `list`"
   ]
  },
  {
   "cell_type": "code",
   "execution_count": 3,
   "id": "e401c7ef-1011-4567-885e-459fcf213450",
   "metadata": {
    "slideshow": {
     "slide_type": "fragment"
    }
   },
   "outputs": [
    {
     "name": "stdout",
     "output_type": "stream",
     "text": [
      "List left-append time: 1.6882097299967427\n",
      "Deque left-append time: 0.0025682999985292554\n"
     ]
    }
   ],
   "source": [
    "import timeit\n",
    "\n",
    "# Timing for left appending elements in a list O(n)\n",
    "list_time = timeit.timeit(\n",
    "    'for i in range(10000): lst.insert(0, i)',\n",
    "    setup='lst = []',\n",
    "    number=10\n",
    ")\n",
    "\n",
    "# Timing for left appending elements in a deque O(1)\n",
    "deque_time = timeit.timeit(\n",
    "    'for i in range(10000): deq.appendleft(i)',\n",
    "    setup='from collections import deque; deq = deque()',\n",
    "    number=10\n",
    ")\n",
    "\n",
    "print(f\"List left-append time: {list_time}\")\n",
    "print(f\"Deque left-append time: {deque_time}\")"
   ]
  },
  {
   "cell_type": "markdown",
   "id": "6c552e4e-0d6b-42e6-8e2a-1ae3fab9d8d7",
   "metadata": {
    "slideshow": {
     "slide_type": "slide"
    }
   },
   "source": [
    "## Accessing, Removing and Inserting `deque` Elements\n",
    "\n",
    "You can also use other sequence methods, such as: `clear`, `copy`, `count`, `index` and `reverse`."
   ]
  },
  {
   "cell_type": "code",
   "execution_count": 4,
   "id": "477ff0db-f84a-44fc-b318-00731eff16f1",
   "metadata": {
    "slideshow": {
     "slide_type": "slide"
    }
   },
   "outputs": [
    {
     "name": "stdout",
     "output_type": "stream",
     "text": [
      "numbers[5]: 6\n",
      "deque([1, 10, 2, 3, 4])\n"
     ]
    }
   ],
   "source": [
    "from collections import deque\n",
    "\n",
    "numbers = deque([1, 2, 3, 4, 5, 6])\n",
    "\n",
    "# Accessing the element by index - O(n)\n",
    "# (slicing is not supported)\n",
    "print(\"numbers[5]:\", numbers[5])\n",
    "\n",
    "# Removing an element with del\n",
    "del numbers[5]\n",
    "\n",
    "# Inserting an element at the specific position\n",
    "numbers.insert(1, 10)\n",
    "\n",
    "# Removing an element with remove()\n",
    "numbers.remove(5)\n",
    "\n",
    "print(numbers)"
   ]
  },
  {
   "cell_type": "markdown",
   "id": "b43c1400-e855-40a8-8f7b-31f49946a216",
   "metadata": {
    "slideshow": {
     "slide_type": "slide"
    }
   },
   "source": [
    "## Creating a Bounded `deque`\n",
    "\n",
    "Appending a new element will discard the element from the opposite end (if the `maxlen` is reached)."
   ]
  },
  {
   "cell_type": "code",
   "execution_count": 5,
   "id": "8eadbec3-2eba-428c-bd74-9d0c20a178dd",
   "metadata": {
    "slideshow": {
     "slide_type": "slide"
    }
   },
   "outputs": [
    {
     "name": "stdout",
     "output_type": "stream",
     "text": [
      "Maxlen: 5\n",
      "deque([0, 1, 2, 3], maxlen=5)\n",
      "After numbers.appendleft(-1):\t deque([-1, 0, 1, 2, 3], maxlen=5)\n",
      "After numbers.append(4):\t deque([0, 1, 2, 3, 4], maxlen=5)\n",
      "After numbers.append(5):\t deque([1, 2, 3, 4, 5], maxlen=5)\n",
      "After numbers.appendleft(0):\t deque([0, 1, 2, 3, 4], maxlen=5)\n"
     ]
    }
   ],
   "source": [
    "from collections import deque\n",
    "\n",
    "numbers = deque([0, 1, 2, 3], maxlen=5)\n",
    "print(\"Maxlen:\", numbers.maxlen)\n",
    "print(numbers)\n",
    "# Allowed, because the original deque has just 4 elements\n",
    "numbers.appendleft(-1)\n",
    "print(\"After numbers.appendleft(-1):\\t\", numbers)\n",
    "# This will discard the first number -1\n",
    "numbers.append(4)\n",
    "print(\"After numbers.append(4):\\t\", numbers)\n",
    "# This will discard the first number 0\n",
    "numbers.append(5)\n",
    "print(\"After numbers.append(5):\\t\", numbers)\n",
    "# This will discard the last number 5\n",
    "numbers.appendleft(0)\n",
    "print(\"After numbers.appendleft(0):\\t\", numbers)"
   ]
  },
  {
   "cell_type": "markdown",
   "id": "c971dc08-3530-4665-8b0b-8049a3769835",
   "metadata": {
    "slideshow": {
     "slide_type": "slide"
    }
   },
   "source": [
    "## Using Special `deque` Methods"
   ]
  },
  {
   "cell_type": "code",
   "execution_count": 6,
   "id": "bb72b219-90c6-4b59-8084-3a6aee8116c3",
   "metadata": {
    "slideshow": {
     "slide_type": "slide"
    }
   },
   "outputs": [
    {
     "name": "stdout",
     "output_type": "stream",
     "text": [
      "deque(['a', 'b', 'c'])\n",
      "letters.rotate():\t deque(['c', 'a', 'b'])\n",
      "letters.rotate(2):\t deque(['a', 'b', 'c'])\n",
      "letters.rotate(-1):\t deque(['b', 'c', 'a'])\n",
      "deque(['y', 'x', 'b', 'c', 'a', 'd', 'e'])\n"
     ]
    }
   ],
   "source": [
    "from collections import deque\n",
    "\n",
    "letters = deque([\"a\", \"b\", \"c\"])\n",
    "print(letters)\n",
    "\n",
    "# Rotate elements one step to the right\n",
    "letters.rotate()\n",
    "print(\"letters.rotate():\\t\", letters)\n",
    "# Rotate elements two steps to the right\n",
    "letters.rotate(2)\n",
    "print(\"letters.rotate(2):\\t\", letters)\n",
    "# Rotate elements one step to the left\n",
    "letters.rotate(-1)\n",
    "print(\"letters.rotate(-1):\\t\", letters)\n",
    "\n",
    "# Add multiple elements to the right\n",
    "letters.extend([\"d\", \"e\"])\n",
    "# Add multiple elements to the left\n",
    "letters.extendleft([\"x\", \"y\"])\n",
    "print(letters)"
   ]
  }
 ],
 "metadata": {
  "celltoolbar": "Slideshow",
  "kernelspec": {
   "display_name": "Python 3 (ipykernel)",
   "language": "python",
   "name": "python3"
  },
  "language_info": {
   "codemirror_mode": {
    "name": "ipython",
    "version": 3
   },
   "file_extension": ".py",
   "mimetype": "text/x-python",
   "name": "python",
   "nbconvert_exporter": "python",
   "pygments_lexer": "ipython3",
   "version": "3.11.7"
  }
 },
 "nbformat": 4,
 "nbformat_minor": 5
}
