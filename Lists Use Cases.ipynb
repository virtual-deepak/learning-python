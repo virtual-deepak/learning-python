{
 "cells": [
  {
   "cell_type": "markdown",
   "id": "f0f28674",
   "metadata": {
    "slideshow": {
     "slide_type": "slide"
    },
    "tags": []
   },
   "source": [
    "# Lists - Use Cases"
   ]
  },
  {
   "cell_type": "markdown",
   "id": "eb07362d",
   "metadata": {
    "slideshow": {
     "slide_type": "slide"
    },
    "tags": []
   },
   "source": [
    "## Prototyping and Education\n",
    "Lists are excellent for educational purposes and prototyping due to their simplicity and the intuitive way they map to a real-world concept of a sequence."
   ]
  },
  {
   "cell_type": "code",
   "execution_count": 1,
   "id": "5e05e56c",
   "metadata": {
    "slideshow": {
     "slide_type": "slide"
    },
    "tags": []
   },
   "outputs": [
    {
     "name": "stdout",
     "output_type": "stream",
     "text": [
      "Current Inventory:\n",
      "{'id': 1, 'name': 'T-shirt', 'quantity': 25, 'price': 15.99}\n",
      "{'id': 3, 'name': 'Socks', 'quantity': 50, 'price': 4.99}\n",
      "{'id': 4, 'name': 'Jacket', 'quantity': 15, 'price': 59.99}\n"
     ]
    }
   ],
   "source": [
    "# Inventory Management Example\n",
    "\n",
    "inventory = [\n",
    "    {\"id\": 1, \"name\": \"T-shirt\", \"quantity\": 25, \"price\": 15.99},\n",
    "    {\"id\": 2, \"name\": \"Jeans\", \"quantity\": 30, \"price\": 39.99},\n",
    "    {\"id\": 3, \"name\": \"Socks\", \"quantity\": 50, \"price\": 4.99}\n",
    "]\n",
    "\n",
    "def add_product(inventory, product):\n",
    "    inventory.append(product)\n",
    "\n",
    "def remove_product(inventory, product_id):\n",
    "    inventory[:] = [product for product in inventory if product[\"id\"] != product_id]\n",
    "\n",
    "\n",
    "add_product(inventory, {\"id\": 4, \"name\": \"Jacket\", \"quantity\": 15, \"price\": 59.99})\n",
    "\n",
    "remove_product(inventory, 2)\n",
    "\n",
    "print(\"Current Inventory:\")\n",
    "for product in inventory:\n",
    "    print(product)"
   ]
  },
  {
   "cell_type": "markdown",
   "id": "98f4ab41",
   "metadata": {
    "slideshow": {
     "slide_type": "slide"
    }
   },
   "source": [
    "## Medium-sized Ordered Collections\n",
    "\n",
    "The term \"medium size\" is somewhat subjective and depends on the context of the application and available system resources. Generally, a medium-sized collection in Python could range from a few hundred to a few thousand elements."
   ]
  },
  {
   "cell_type": "code",
   "execution_count": 2,
   "id": "0eb238d6",
   "metadata": {
    "slideshow": {
     "slide_type": "slide"
    }
   },
   "outputs": [
    {
     "name": "stdout",
     "output_type": "stream",
     "text": [
      "Current Playlist:\n",
      "Clair de Lune by Claude Debussy\n",
      "The Entertainer by Scott Joplin\n"
     ]
    }
   ],
   "source": [
    "# Playlist Management in a Music Streaming App\n",
    "\n",
    "playlist = []\n",
    "\n",
    "def add_song(playlist, song):\n",
    "    playlist.append(song)\n",
    "\n",
    "def remove_song(playlist, song_title):\n",
    "    playlist[:] = [song for song in playlist if song[\"title\"] != song_title]\n",
    "\n",
    "def move_song(playlist, song_title, new_position):\n",
    "    for i, song in enumerate(playlist):\n",
    "        if song[\"title\"] == song_title:\n",
    "            playlist.insert(new_position, playlist.pop(i))\n",
    "            break\n",
    "\n",
    "add_song(playlist, {\"title\": \"The Entertainer\", \"artist\": \"Scott Joplin\"})\n",
    "add_song(playlist, {\"title\": \"St. Louis Blues\", \"artist\": \"W.C. Handy\"})\n",
    "add_song(playlist, {\"title\": \"Clair de Lune\", \"artist\": \"Claude Debussy\"})\n",
    "move_song(playlist, \"Clair de Lune\", 0)\n",
    "remove_song(playlist, \"St. Louis Blues\")\n",
    "\n",
    "print(\"Current Playlist:\")\n",
    "for song in playlist:\n",
    "    print(f\"{song['title']} by {song['artist']}\")"
   ]
  },
  {
   "cell_type": "markdown",
   "id": "6ba68e75",
   "metadata": {
    "slideshow": {
     "slide_type": "slide"
    }
   },
   "source": [
    "## Data Collection Prior to Processing\n",
    "\n",
    "Lists are often used as a starting point for data collection because of their simplicity and flexibility.\n",
    "Imagine a scenario where you're collecting real-time sensor data for initial processing and analysis. In this case, the data is collected in a sequence (e.g. time-series data from sensors), and you need to perform operations like appending new data points, accessing recent values for quick analysis, and occasionally removing outdated data."
   ]
  },
  {
   "cell_type": "code",
   "execution_count": 3,
   "id": "02ea9f5c",
   "metadata": {
    "slideshow": {
     "slide_type": "slide"
    }
   },
   "outputs": [
    {
     "name": "stdout",
     "output_type": "stream",
     "text": [
      "Average of recent data: 24.95894668200042\n"
     ]
    }
   ],
   "source": [
    "sensor_data = []\n",
    "\n",
    "# Simulate receiving new data from a sensor\n",
    "def receive_sensor_data():\n",
    "    # This function would interface with actual sensor hardware in a real scenario\n",
    "    import random\n",
    "    return random.uniform(20, 30)  # Random temperature value between 20 and 30\n",
    "\n",
    "# Collect data\n",
    "for _ in range(1000):  # Simulate 1000 data points\n",
    "    new_data = receive_sensor_data()\n",
    "    sensor_data.append(new_data)\n",
    "\n",
    "\n",
    "recent_data = sensor_data[-100:]  # Get the last 100 data points for processing\n",
    "\n",
    "# Remove old data if necessary\n",
    "if len(sensor_data) > 1000:\n",
    "    sensor_data = sensor_data[-1000:]  # Keep only the most recent 1000 data points\n",
    "\n",
    "# Some processing\n",
    "average_recent = sum(recent_data) / len(recent_data)\n",
    "print(f\"Average of recent data: {average_recent}\")"
   ]
  },
  {
   "cell_type": "markdown",
   "id": "293d485a",
   "metadata": {
    "slideshow": {
     "slide_type": "slide"
    }
   },
   "source": [
    "## Frequent Read And Append Operations\n",
    "\n",
    "Lists are ideal for frequent read operations because they provide O(1) time complexity for accessing elements by index. This means that the time taken to access an element is constant and does not increase with the size of the list. However, if your primary operations involve modifying the list (like inserting or deleting elements, especially in the middle of the list), the performance can degrade since these operations have O(n) time complexity in lists. Other structures like or deque (from collections) can offer more efficient insertions and deletions.\n",
    "\n",
    "Appending to a list (adding to the end) is efficient because it generally has O(1) time complexity, making it fast. In contrast, removing items, especially from the beginning or the middle of a list, is less efficient (O(n)) because it requires shifting all the subsequent elements. "
   ]
  },
  {
   "cell_type": "code",
   "execution_count": 4,
   "id": "7261d39d",
   "metadata": {
    "slideshow": {
     "slide_type": "slide"
    }
   },
   "outputs": [
    {
     "name": "stdout",
     "output_type": "stream",
     "text": [
      "Recent Events:\n",
      "Event 90\n",
      "Event 91\n",
      "Event 92\n",
      "Event 93\n",
      "Event 94\n",
      "Event 95\n",
      "Event 96\n",
      "Event 97\n",
      "Event 98\n",
      "Event 99\n"
     ]
    }
   ],
   "source": [
    "# Real-time event logging example for a software application\n",
    "\n",
    "event_log = []\n",
    "\n",
    "def receive_event(event):\n",
    "    event_log.append(event)\n",
    "\n",
    "# Simulate receiving events\n",
    "for i in range(100):\n",
    "    event = f\"Event {i}\"\n",
    "    receive_event(event)\n",
    "\n",
    "\n",
    "recent_events = event_log[-10:]\n",
    "print(\"Recent Events:\")\n",
    "for event in recent_events:\n",
    "    print(event)"
   ]
  },
  {
   "cell_type": "markdown",
   "id": "f96c4aa8",
   "metadata": {
    "slideshow": {
     "slide_type": "slide"
    }
   },
   "source": [
    "### Time complexity demonstration of list operations"
   ]
  },
  {
   "cell_type": "code",
   "execution_count": 5,
   "id": "a1b8c9f9",
   "metadata": {
    "slideshow": {
     "slide_type": "slide"
    }
   },
   "outputs": [
    {
     "name": "stdout",
     "output_type": "stream",
     "text": [
      "Access time: 0.00015320000238716602 seconds\n",
      "Append time: 0.0004933999989589211 seconds\n",
      "Remove time: 4.4611273759983305 seconds\n",
      "Insert time: 0.05988969999816618 seconds\n"
     ]
    }
   ],
   "source": [
    "import timeit\n",
    "\n",
    "large_list = list(range(100000))\n",
    "\n",
    "def access_element():\n",
    "    _ = large_list[50000]\n",
    "\n",
    "def append_element():\n",
    "    large_list.append(\"new_element\")\n",
    "\n",
    "def remove_element():\n",
    "    large_list.remove(\"new_element\")\n",
    "\n",
    "def insert_element():\n",
    "    large_list.insert(50000, \"inserted_element\")\n",
    "\n",
    "access_time = timeit.timeit(access_element, number=1000)\n",
    "append_time = timeit.timeit(append_element, number=1000)\n",
    "remove_time = timeit.timeit(remove_element, number=1000)\n",
    "insert_time = timeit.timeit(insert_element, number=1000)\n",
    "\n",
    "print(f\"Access time: {access_time} seconds\")\n",
    "print(f\"Append time: {append_time} seconds\")\n",
    "print(f\"Remove time: {remove_time} seconds\")\n",
    "print(f\"Insert time: {insert_time} seconds\")"
   ]
  },
  {
   "cell_type": "markdown",
   "id": "adce5839-8404-475b-846b-495adeff3ce4",
   "metadata": {
    "slideshow": {
     "slide_type": "slide"
    }
   },
   "source": [
    "## Web Frameworks\n",
    "\n",
    "```python\n",
    "from flask import request\n",
    "\n",
    "@app.route(\"/login\", methods=[\"GET\", \"POST\"])\n",
    "def login():\n",
    "    if request.method == \"POST\":\n",
    "        return do_the_login()\n",
    "    else:\n",
    "        return show_the_login_form()\n",
    "```"
   ]
  },
  {
   "cell_type": "markdown",
   "id": "da08cdc9",
   "metadata": {
    "slideshow": {
     "slide_type": "slide"
    }
   },
   "source": [
    "\n",
    "## Pandas\n",
    "\n",
    "```python\n",
    "import pandas as pd\n",
    "\n",
    "# Define data as a list of lists\n",
    "data = [\n",
    "  [\"Alice\", 30],\n",
    "  [\"Bob\", 35],\n",
    "  [\"Charlie\", 25]\n",
    "]\n",
    "# Create a DataFrame using the data\n",
    "df = pd.DataFrame(data, columns=[\"Name\", \"Age\"])\n",
    "```"
   ]
  }
 ],
 "metadata": {
  "celltoolbar": "Slideshow",
  "kernelspec": {
   "display_name": "Python 3 (ipykernel)",
   "language": "python",
   "name": "python3"
  },
  "language_info": {
   "codemirror_mode": {
    "name": "ipython",
    "version": 3
   },
   "file_extension": ".py",
   "mimetype": "text/x-python",
   "name": "python",
   "nbconvert_exporter": "python",
   "pygments_lexer": "ipython3",
   "version": "3.11.7"
  }
 },
 "nbformat": 4,
 "nbformat_minor": 5
}
