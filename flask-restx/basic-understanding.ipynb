{
 "cells": [
  {
   "cell_type": "markdown",
   "metadata": {},
   "source": [
    "# Overview"
   ]
  },
  {
   "cell_type": "markdown",
   "metadata": {},
   "source": [
    "Flask-RESTx is a powerful extension of Flask framework. Complete toolkit for building modular, well-documented, and secure APIs. \n",
    "\n",
    "Here’s a summary of the key components:\n",
    "\n",
    "1. **Namespaces**: Organize your API.\n",
    "2. **Resources**: Define the HTTP methods for endpoints.\n",
    "3. **Models**: Manage input/output data and validation.\n",
    "4. **Swagger UI**: Automatically generate interactive documentation.\n",
    "5. **Error Handling**: Uniform error responses for easy debugging.\n",
    "6. **Security**: Protect your endpoints using JWT tokens or other authentication methods."
   ]
  },
  {
   "cell_type": "markdown",
   "metadata": {},
   "source": [
    "# Installation"
   ]
  },
  {
   "cell_type": "code",
   "execution_count": 2,
   "metadata": {},
   "outputs": [
    {
     "name": "stdout",
     "output_type": "stream",
     "text": [
      "Requirement already satisfied: flask-restx in c:\\tfs\\study\\learning-python\\.venv\\lib\\site-packages (1.3.0)\n",
      "Requirement already satisfied: aniso8601>=0.82 in c:\\tfs\\study\\learning-python\\.venv\\lib\\site-packages (from flask-restx) (9.0.1)\n",
      "Requirement already satisfied: jsonschema in c:\\tfs\\study\\learning-python\\.venv\\lib\\site-packages (from flask-restx) (4.23.0)\n",
      "Requirement already satisfied: Flask!=2.0.0,>=0.8 in c:\\tfs\\study\\learning-python\\.venv\\lib\\site-packages (from flask-restx) (3.0.3)\n",
      "Requirement already satisfied: werkzeug!=2.0.0 in c:\\tfs\\study\\learning-python\\.venv\\lib\\site-packages (from flask-restx) (3.0.4)\n",
      "Requirement already satisfied: pytz in c:\\tfs\\study\\learning-python\\.venv\\lib\\site-packages (from flask-restx) (2024.2)\n",
      "Requirement already satisfied: importlib-resources in c:\\tfs\\study\\learning-python\\.venv\\lib\\site-packages (from flask-restx) (6.4.5)\n",
      "Requirement already satisfied: Jinja2>=3.1.2 in c:\\tfs\\study\\learning-python\\.venv\\lib\\site-packages (from Flask!=2.0.0,>=0.8->flask-restx) (3.1.4)\n",
      "Requirement already satisfied: itsdangerous>=2.1.2 in c:\\tfs\\study\\learning-python\\.venv\\lib\\site-packages (from Flask!=2.0.0,>=0.8->flask-restx) (2.2.0)\n",
      "Requirement already satisfied: click>=8.1.3 in c:\\tfs\\study\\learning-python\\.venv\\lib\\site-packages (from Flask!=2.0.0,>=0.8->flask-restx) (8.1.7)\n",
      "Requirement already satisfied: blinker>=1.6.2 in c:\\tfs\\study\\learning-python\\.venv\\lib\\site-packages (from Flask!=2.0.0,>=0.8->flask-restx) (1.8.2)\n",
      "Requirement already satisfied: MarkupSafe>=2.1.1 in c:\\tfs\\study\\learning-python\\.venv\\lib\\site-packages (from werkzeug!=2.0.0->flask-restx) (2.1.5)\n",
      "Requirement already satisfied: attrs>=22.2.0 in c:\\tfs\\study\\learning-python\\.venv\\lib\\site-packages (from jsonschema->flask-restx) (24.2.0)\n",
      "Requirement already satisfied: jsonschema-specifications>=2023.03.6 in c:\\tfs\\study\\learning-python\\.venv\\lib\\site-packages (from jsonschema->flask-restx) (2023.12.1)\n",
      "Requirement already satisfied: referencing>=0.28.4 in c:\\tfs\\study\\learning-python\\.venv\\lib\\site-packages (from jsonschema->flask-restx) (0.35.1)\n",
      "Requirement already satisfied: rpds-py>=0.7.1 in c:\\tfs\\study\\learning-python\\.venv\\lib\\site-packages (from jsonschema->flask-restx) (0.20.0)\n",
      "Requirement already satisfied: colorama in c:\\tfs\\study\\learning-python\\.venv\\lib\\site-packages (from click>=8.1.3->Flask!=2.0.0,>=0.8->flask-restx) (0.4.6)\n",
      "Note: you may need to restart the kernel to use updated packages.\n"
     ]
    }
   ],
   "source": [
    "%pip install flask-restx"
   ]
  },
  {
   "cell_type": "markdown",
   "metadata": {},
   "source": [
    "# Setting Up a Basic Flask-RESTx Application"
   ]
  },
  {
   "cell_type": "code",
   "execution_count": 3,
   "metadata": {},
   "outputs": [
    {
     "name": "stdout",
     "output_type": "stream",
     "text": [
      " * Serving Flask app '__main__'\n",
      " * Debug mode: on\n"
     ]
    },
    {
     "name": "stderr",
     "output_type": "stream",
     "text": [
      "WARNING: This is a development server. Do not use it in a production deployment. Use a production WSGI server instead.\n",
      " * Running on http://127.0.0.1:5000\n",
      "Press CTRL+C to quit\n",
      " * Restarting with stat\n"
     ]
    },
    {
     "ename": "SystemExit",
     "evalue": "1",
     "output_type": "error",
     "traceback": [
      "An exception has occurred, use %tb to see the full traceback.\n",
      "\u001b[1;31mSystemExit\u001b[0m\u001b[1;31m:\u001b[0m 1\n"
     ]
    },
    {
     "name": "stderr",
     "output_type": "stream",
     "text": [
      "c:\\TFS\\Study\\learning-python\\.venv\\lib\\site-packages\\IPython\\core\\interactiveshell.py:3585: UserWarning: To exit: use 'exit', 'quit', or Ctrl-D.\n",
      "  warn(\"To exit: use 'exit', 'quit', or Ctrl-D.\", stacklevel=1)\n"
     ]
    }
   ],
   "source": [
    "from flask import Flask\n",
    "from flask_restx import Api, Resource\n",
    "\n",
    "app = Flask(__name__)\n",
    "api = Api(app)\n",
    "\n",
    "@api.route('/hello')\n",
    "class HelloWorld(Resource):\n",
    "    def get(self):\n",
    "        return {'hello': 'world'}\n",
    "\n",
    "if __name__ == '__main__':\n",
    "    app.run(debug=True)"
   ]
  },
  {
   "cell_type": "markdown",
   "metadata": {},
   "source": [
    "## Breakdown of Key Components:"
   ]
  },
  {
   "cell_type": "markdown",
   "metadata": {},
   "source": [
    "1. **Flask**: Flask provides the web framework.\n",
    "2. **Api Object**: `Api` is the base object that manages the API. It provides routing for your resources and serves as the foundation for building the API.\n",
    "3. **Resource**: A `Resource` represents an entity on the web, like a user or a task. It contains methods such as `get()`, `post()`, `put()`, `delete()` to handle various HTTP requests."
   ]
  },
  {
   "cell_type": "markdown",
   "metadata": {},
   "source": [
    "# Using Namespaces in Flask-RESTx"
   ]
  },
  {
   "cell_type": "markdown",
   "metadata": {},
   "source": [
    "**Namespaces** allow you to organize your API logically and avoid route conflicts. This is useful when building larger applications with multiple modules."
   ]
  },
  {
   "cell_type": "code",
   "execution_count": 4,
   "metadata": {},
   "outputs": [],
   "source": [
    "from flask_restx import Namespace, Resource\n",
    "\n",
    "# Define a new namespace\n",
    "user_ns = Namespace('users')\n",
    "\n",
    "@user_ns.route('/')\n",
    "class UserList(Resource):\n",
    "    def get(self):\n",
    "        return {'message': 'List of users'}\n",
    "\n",
    "@user_ns.route('/<int:id>')\n",
    "class User(Resource):\n",
    "    def get(self, id):\n",
    "        return {'message': f'User {id}'}\n",
    "\n",
    "api.add_namespace(user_ns, '/api')"
   ]
  },
  {
   "cell_type": "markdown",
   "metadata": {},
   "source": [
    "# Creating a Complete CRUD API with Flask-RESTx"
   ]
  },
  {
   "cell_type": "code",
   "execution_count": 6,
   "metadata": {},
   "outputs": [],
   "source": [
    "from flask_restx import fields\n",
    "\n",
    "# Define a model\n",
    "user_model = api.model('User', {\n",
    "    'id': fields.Integer,\n",
    "    'name': fields.String,\n",
    "    'age': fields.Integer\n",
    "})\n",
    "\n",
    "users = []\n",
    "\n",
    "@user_ns.route('/')\n",
    "class UserList(Resource):\n",
    "    @api.marshal_with(user_model)\n",
    "    def get(self):\n",
    "        return users\n",
    "\n",
    "    @api.expect(user_model)\n",
    "    def post(self):\n",
    "        new_user = api.payload\n",
    "        users.append(new_user)\n",
    "        return {'message': 'User added'}, 201\n",
    "\n",
    "@user_ns.route('/<int:id>')\n",
    "class User(Resource):\n",
    "    @api.marshal_with(user_model)\n",
    "    def get(self, id):\n",
    "        user = next((u for u in users if u['id'] == id), None)\n",
    "        if user:\n",
    "            return user\n",
    "        return {'message': 'User not found'}, 404\n",
    "\n",
    "    def delete(self, id):\n",
    "        global users\n",
    "        users = [u for u in users if u['id'] != id]\n",
    "        return {'message': 'User deleted'}, 204\n",
    "\n",
    "api.add_namespace(user_ns, '/api')"
   ]
  },
  {
   "cell_type": "markdown",
   "metadata": {},
   "source": [
    "1. `@api.marshal_with`: Defines the structure of the response data.\n",
    "2. `@api.expect`: Validates the input data.\n",
    "3. `HTTP Status Codes`: Each response returns an appropriate HTTP status (201 for resource creation, 204 for deletion, etc.)."
   ]
  },
  {
   "cell_type": "markdown",
   "metadata": {},
   "source": [
    "# Automatic Swagger Documentation\n",
    "Flask-RESTx automatically generates Swagger UI for the API. Swagger is an interface that allows developers and users to interact with the API via the browser.\n",
    "\n",
    "Simply run the application and go to: http://127.0.0.1:5000/"
   ]
  },
  {
   "cell_type": "markdown",
   "metadata": {},
   "source": [
    "# Error Handling in Flask-RESTx\n",
    "Flask-RESTx makes error handling simple and consistent by allowing custom error responses.\n",
    "This ensures that every error follows a standard structure, making it easier to debug and communicate issues to the user."
   ]
  },
  {
   "cell_type": "code",
   "execution_count": 7,
   "metadata": {},
   "outputs": [],
   "source": [
    "@user_ns.errorhandler(ValueError)\n",
    "def handle_value_error(error):\n",
    "    return {'message': str(error)}, 400"
   ]
  },
  {
   "cell_type": "markdown",
   "metadata": {},
   "source": [
    "# Flask-RESTx and Security\n",
    "Flask-RESTx supports authentication and authorization to secure your API:\n",
    "\n",
    "1. **Token-based Authentication**: JWT (JSON Web Token) is a common method.\n",
    "2. **Role-based Access Control (RBAC)**: Grant access to specific endpoints based on user roles."
   ]
  },
  {
   "cell_type": "code",
   "execution_count": 8,
   "metadata": {},
   "outputs": [
    {
     "ename": "ModuleNotFoundError",
     "evalue": "No module named 'flask_jwt_extended'",
     "output_type": "error",
     "traceback": [
      "\u001b[1;31m---------------------------------------------------------------------------\u001b[0m",
      "\u001b[1;31mModuleNotFoundError\u001b[0m                       Traceback (most recent call last)",
      "Cell \u001b[1;32mIn[8], line 1\u001b[0m\n\u001b[1;32m----> 1\u001b[0m \u001b[38;5;28;01mfrom\u001b[39;00m \u001b[38;5;21;01mflask_jwt_extended\u001b[39;00m \u001b[38;5;28;01mimport\u001b[39;00m JWTManager\n\u001b[0;32m      3\u001b[0m app\u001b[38;5;241m.\u001b[39mconfig[\u001b[38;5;124m'\u001b[39m\u001b[38;5;124mJWT_SECRET_KEY\u001b[39m\u001b[38;5;124m'\u001b[39m] \u001b[38;5;241m=\u001b[39m \u001b[38;5;124m'\u001b[39m\u001b[38;5;124msecret\u001b[39m\u001b[38;5;124m'\u001b[39m\n\u001b[0;32m      4\u001b[0m jwt \u001b[38;5;241m=\u001b[39m JWTManager(app)\n",
      "\u001b[1;31mModuleNotFoundError\u001b[0m: No module named 'flask_jwt_extended'"
     ]
    }
   ],
   "source": [
    "from flask_jwt_extended import JWTManager\n",
    "\n",
    "app.config['JWT_SECRET_KEY'] = 'secret'\n",
    "jwt = JWTManager(app)\n",
    "\n",
    "@api.route('/secure')\n",
    "class SecureResource(Resource):\n",
    "    @jwt_required()\n",
    "    def get(self):\n",
    "        return {'message': 'This is a secured route.'}"
   ]
  }
 ],
 "metadata": {
  "kernelspec": {
   "display_name": ".venv",
   "language": "python",
   "name": "python3"
  },
  "language_info": {
   "codemirror_mode": {
    "name": "ipython",
    "version": 3
   },
   "file_extension": ".py",
   "mimetype": "text/x-python",
   "name": "python",
   "nbconvert_exporter": "python",
   "pygments_lexer": "ipython3",
   "version": "3.10.9"
  }
 },
 "nbformat": 4,
 "nbformat_minor": 2
}
