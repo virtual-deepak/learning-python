{
 "cells": [
  {
   "cell_type": "markdown",
   "id": "de09ca5e",
   "metadata": {},
   "source": [
    "### Source [Python collections course in Pluralsight](https://app.pluralsight.com/library/courses/python-collections/table-of-contents) by [Mateo Prigl](https://app.pluralsight.com/profile/author/mateo-prigl)"
   ]
  },
  {
   "cell_type": "markdown",
   "id": "d8b15e73-16fa-4ee1-a247-92b29ff4a8b5",
   "metadata": {
    "editable": true,
    "slideshow": {
     "slide_type": ""
    },
    "tags": []
   },
   "source": [
    "# Sets - Use Cases"
   ]
  },
  {
   "cell_type": "markdown",
   "id": "0323df33-a96f-4808-818e-be5e893ff05b",
   "metadata": {},
   "source": [
    "## Removing Duplicates from a Sequence\n",
    "\n",
    "Sets automatically remove duplicate entries because they only allow unique elements. This makes them ideal for quickly removing duplicates from a list or other iterable."
   ]
  },
  {
   "cell_type": "code",
   "execution_count": 1,
   "id": "b81fbe7f-1e4b-4d5b-862d-9694829a1713",
   "metadata": {},
   "outputs": [
    {
     "name": "stdout",
     "output_type": "stream",
     "text": [
      "{'#tech', '#dev', '#pluralsight', '#python', '#coding'}\n"
     ]
    }
   ],
   "source": [
    "# Simulated raw data: a list of hashtags from various posts, including duplicates\n",
    "raw_hashtags = ['#python', '#dev', '#python', '#coding', '#tech', '#dev', '#coding', '#tech', '#pluralsight']\n",
    "\n",
    "# Removing duplicates by converting the list to a set\n",
    "unique_hashtags = set(raw_hashtags)\n",
    "print(unique_hashtags)"
   ]
  },
  {
   "cell_type": "markdown",
   "id": "2f0783ce-9e07-4bf7-ac80-3752789bdff1",
   "metadata": {},
   "source": [
    "## Membership Testing\n",
    "\n",
    "Sets offer O(1) average time complexity for checking if an element exists within them, making membership tests highly efficient."
   ]
  },
  {
   "cell_type": "code",
   "execution_count": 2,
   "id": "fee0ca57-2f9b-4205-98c6-6a7f6a1653af",
   "metadata": {},
   "outputs": [
    {
     "name": "stdout",
     "output_type": "stream",
     "text": [
      "List membership test time: 2.61710 seconds\n",
      "Set membership test time: 0.00002 seconds\n"
     ]
    }
   ],
   "source": [
    "import timeit\n",
    "\n",
    "# Simulating 1 million users\n",
    "user_ids = list(range(1, 1000001))\n",
    "# User ID to test for membership\n",
    "test_id = 999999\n",
    "\n",
    "user_ids_set = set(user_ids)\n",
    "\n",
    "# Membership testing function for the list\n",
    "def check_list():\n",
    "    return test_id in user_ids\n",
    "\n",
    "# Membership testing function for the set\n",
    "def check_set():\n",
    "    return test_id in user_ids_set\n",
    "\n",
    "list_time = timeit.timeit(check_list, number=100)\n",
    "set_time = timeit.timeit(check_set, number=100)\n",
    "\n",
    "print(f\"List membership test time: {list_time:.5f} seconds\")\n",
    "print(f\"Set membership test time: {set_time:.5f} seconds\")"
   ]
  },
  {
   "cell_type": "markdown",
   "id": "263271ed-bbe1-457c-8b53-df13f3ace3e3",
   "metadata": {},
   "source": [
    "## Performing Set Operations\n",
    "\n",
    "Sets support mathematical set operations like union, intersection, difference, and symmetric difference natively and efficiently."
   ]
  },
  {
   "cell_type": "code",
   "execution_count": 3,
   "id": "32742bd1-b753-407a-8d13-df73e7f9ad70",
   "metadata": {},
   "outputs": [
    {
     "name": "stdout",
     "output_type": "stream",
     "text": [
      "Common interests: {'traveling', 'cooking'}\n",
      "Unique to Group 1: {'reading', 'gardening'}\n",
      "Unique to Group 2: {'music', 'video games'}\n"
     ]
    }
   ],
   "source": [
    "# Analyzing results of a survey\n",
    "\n",
    "# Interests from two different age groups\n",
    "interests_group1 = {\"reading\", \"traveling\", \"cooking\", \"gardening\"}\n",
    "interests_group2 = {\"traveling\", \"music\", \"video games\", \"cooking\"}\n",
    "\n",
    "# Finding common interests\n",
    "common_interests = interests_group1.intersection(interests_group2)\n",
    "print(f\"Common interests: {common_interests}\")\n",
    "\n",
    "# Unique interests in group1\n",
    "unique_group1 = interests_group1.difference(interests_group2)\n",
    "print(f\"Unique to Group 1: {unique_group1}\")\n",
    "\n",
    "# Unique interests in group2\n",
    "unique_group2 = interests_group2.difference(interests_group1)\n",
    "print(f\"Unique to Group 2: {unique_group2}\")"
   ]
  }
 ],
 "metadata": {
  "kernelspec": {
   "display_name": "Python 3 (ipykernel)",
   "language": "python",
   "name": "python3"
  },
  "language_info": {
   "codemirror_mode": {
    "name": "ipython",
    "version": 3
   },
   "file_extension": ".py",
   "mimetype": "text/x-python",
   "name": "python",
   "nbconvert_exporter": "python",
   "pygments_lexer": "ipython3",
   "version": "3.11.7"
  }
 },
 "nbformat": 4,
 "nbformat_minor": 5
}
