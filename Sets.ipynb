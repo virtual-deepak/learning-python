{
 "cells": [
  {
   "cell_type": "markdown",
   "id": "f52ef9a8",
   "metadata": {},
   "source": [
    "### Source [Python collections course in Pluralsight](https://app.pluralsight.com/library/courses/python-collections/table-of-contents) by [Mateo Prigl](https://app.pluralsight.com/profile/author/mateo-prigl)"
   ]
  },
  {
   "cell_type": "markdown",
   "id": "fef557fa-d7e1-4e97-a7aa-0c74df7cf9e3",
   "metadata": {
    "slideshow": {
     "slide_type": "slide"
    },
    "tags": []
   },
   "source": [
    "# Sets\n",
    "\n",
    "- Used for storing a collection of unique elements\n",
    "- Dynamic\n",
    "- Elements cannot be mutable\n",
    "  - You cannot store lists or dictionary inside of a set\n",
    "- Unordered\n",
    "  -  They do not keep elements in order. \n",
    "  -  You cannot directly access elements with an index.\n",
    "  -  You cannot use slicing or any other sequence-like behavior.\n",
    "- Elements are unique\n",
    "- Can be passed to the len() function\n",
    "- Operations are O(1) time complexity"
   ]
  },
  {
   "cell_type": "markdown",
   "id": "d2e3430c-9332-4733-ad13-23ee2e53a1d3",
   "metadata": {
    "slideshow": {
     "slide_type": "slide"
    },
    "tags": []
   },
   "source": [
    "## Creating Sets\n",
    "\n",
    "Sets automatically removes duplicates, so each element is unique. Note that the empty curly braces `{}` will create an empty dictionary, not an empty set."
   ]
  },
  {
   "cell_type": "code",
   "execution_count": 1,
   "id": "bcc9431b-eeb0-4c57-8222-717b83e1d8c0",
   "metadata": {
    "slideshow": {
     "slide_type": "fragment"
    },
    "tags": []
   },
   "outputs": [
    {
     "name": "stdout",
     "output_type": "stream",
     "text": [
      "set()\n",
      "{'Python', 1, 2, 3}\n",
      "{1, 2, 3}\n"
     ]
    }
   ],
   "source": [
    "# Using the set constructor\n",
    "my_set = set()\n",
    "print(my_set) \n",
    "\n",
    "my_set = {1, 2, 3, \"Python\", 1, 2, 3}\n",
    "print(my_set)\n",
    "\n",
    "# Creating a set from an iterable\n",
    "my_set = set([1, 2, 3])\n",
    "print(my_set)"
   ]
  },
  {
   "cell_type": "markdown",
   "id": "ea4c0118-9a67-4afa-98e5-8dd92e668b60",
   "metadata": {
    "slideshow": {
     "slide_type": "slide"
    },
    "tags": []
   },
   "source": [
    "## Accessing Elements in a Set\n",
    "\n",
    "Elements in a set cannot be accessed by index because sets are unordered. However, you can iterate through a set using a for loop, or check if an element exists using the in keyword."
   ]
  },
  {
   "cell_type": "code",
   "execution_count": 2,
   "id": "5f265e74-5f9c-40df-a001-a3bb232e5c04",
   "metadata": {
    "slideshow": {
     "slide_type": "fragment"
    },
    "tags": []
   },
   "outputs": [
    {
     "name": "stdout",
     "output_type": "stream",
     "text": [
      "1\n",
      "2\n",
      "3\n",
      "4\n",
      "True\n",
      "False\n"
     ]
    }
   ],
   "source": [
    "my_set = {1, 2, 3, 4}\n",
    "\n",
    "for element in my_set:\n",
    "    print(element)\n",
    "\n",
    "print(1 in my_set)\n",
    "print(5 in my_set)"
   ]
  },
  {
   "cell_type": "markdown",
   "id": "596eb096-ea72-45a6-b630-6f27da9f95dc",
   "metadata": {
    "slideshow": {
     "slide_type": "slide"
    },
    "tags": []
   },
   "source": [
    "## Modifying Sets\n",
    "\n",
    "Sets are mutable, so you can add or remove elements after creation."
   ]
  },
  {
   "cell_type": "code",
   "execution_count": 3,
   "id": "927b32a5-b3d8-41bd-9d34-e14008e588e7",
   "metadata": {
    "slideshow": {
     "slide_type": "fragment"
    },
    "tags": []
   },
   "outputs": [
    {
     "name": "stdout",
     "output_type": "stream",
     "text": [
      "{1, 2, 3, 4, 'element'}\n",
      "{1, 2, 3, 4}\n"
     ]
    }
   ],
   "source": [
    "my_set = {1, 2, 3, 4}\n",
    "\n",
    "my_set.add(\"element\")\n",
    "print(my_set)\n",
    "\n",
    "my_set.remove(\"element\")\n",
    "my_set.discard(5) # Does not raise an error if the element is not found\n",
    "print(my_set)"
   ]
  },
  {
   "cell_type": "markdown",
   "id": "48ce9215-2bce-4fff-a0b2-c5239023c922",
   "metadata": {
    "slideshow": {
     "slide_type": "slide"
    },
    "tags": []
   },
   "source": [
    "## Set Operations\n",
    "All below operations can be used on more than 2 sets"
   ]
  },
  {
   "cell_type": "code",
   "execution_count": 4,
   "id": "222bcf06-10fa-4106-9d1d-8b069308538a",
   "metadata": {
    "slideshow": {
     "slide_type": "fragment"
    },
    "tags": []
   },
   "outputs": [
    {
     "name": "stdout",
     "output_type": "stream",
     "text": [
      "Set 1: {1, 2, 3}\n",
      "Set 2: {3, 4, 5}\n",
      "Union: {1, 2, 3, 4, 5}\n",
      "Intersection: {3}\n",
      "Difference: {1, 2}\n",
      "Symmetric Difference: {1, 2, 4, 5}\n"
     ]
    }
   ],
   "source": [
    "set1 = {1, 2, 3}\n",
    "set2 = {3, 4, 5}\n",
    "print(\"Set 1:\", set1)\n",
    "print(\"Set 2:\", set2)\n",
    "\n",
    "print(\"Union:\", set1 | set2) # Elements from both sets, but without duplicates\n",
    "print(\"Intersection:\", set1 & set2) # Only elements that appear in both sets\n",
    "print(\"Difference:\", set1 - set2) # Only elements from the first set that don't appear in the second set\n",
    "print(\"Symmetric Difference:\", set1 ^ set2) # Elements from both sets, but without the intersection elements\n",
    "\n",
    "# There are also methods that achieve the same results as operators, but use a function call syntax\n",
    "# These methods can also accept any iterable as an argument, while operators can only compare sets\n",
    "# print(set1.union(set2))\n",
    "# print(set1.intersection(set2))\n",
    "# print(set1.difference(set2))\n",
    "# print(set1.symmetric_difference(set2))"
   ]
  },
  {
   "cell_type": "code",
   "execution_count": 5,
   "id": "2ed693fb-1637-40cc-b791-fe256dbd7627",
   "metadata": {
    "slideshow": {
     "slide_type": "slide"
    },
    "tags": []
   },
   "outputs": [],
   "source": [
    "# Augmented assignment operators\n",
    "# Instead of returning a new set as a result of an operator, these operators modify the first set to match the result of the operation\n",
    "# set1 |= set2\n",
    "# set1 &= set2\n",
    "# set1 -= set2\n",
    "# set1 ^= set2"
   ]
  },
  {
   "cell_type": "markdown",
   "id": "0169b8da-0604-4947-bf3f-fb4abe1a2718",
   "metadata": {
    "slideshow": {
     "slide_type": "slide"
    },
    "tags": []
   },
   "source": [
    "## Checking for Subsets and Supersets\n"
   ]
  },
  {
   "cell_type": "code",
   "execution_count": 6,
   "id": "87daa6d2-e944-4308-8f82-6fe969e5c34a",
   "metadata": {
    "scrolled": true,
    "slideshow": {
     "slide_type": "fragment"
    },
    "tags": []
   },
   "outputs": [
    {
     "name": "stdout",
     "output_type": "stream",
     "text": [
      "setA is a subset of setB: True\n",
      "setB is a superset of setA: True\n",
      "setA has no intersection with setC: True\n",
      "setA has no intersection with setB: False\n"
     ]
    }
   ],
   "source": [
    "setA = {1, 2, 3}\n",
    "setB = {1, 2, 3, 4, 5}\n",
    "setC = {10, 11, 12}\n",
    "\n",
    "print(\"setA is a subset of setB:\", setA.issubset(setB)) # True, because all elements of setA are in setB\n",
    "# You can also use\n",
    "# setA <= setB\n",
    "# or to get a proper subset (subset is only a subset if both sets are not identical)\n",
    "# setA < setB\n",
    "\n",
    "print(\"setB is a superset of setA:\", setB.issuperset(setA))  # True, because setB contains all elements of setA\n",
    "# You can also use\n",
    "# setB >= setA\n",
    "# or to get a proper subset (superset is only a superset if both sets are not identical)\n",
    "# setB > setA\n",
    "\n",
    "# Two sets are disjoint when they have no elements in common. They have no intersection\n",
    "print(\"setA has no intersection with setC:\", setA.isdisjoint(setC))\n",
    "print(\"setA has no intersection with setB:\", setA.isdisjoint(setB))"
   ]
  },
  {
   "cell_type": "markdown",
   "id": "84cbfe74-217f-4526-b202-b3557a5a7680",
   "metadata": {
    "slideshow": {
     "slide_type": "slide"
    },
    "tags": []
   },
   "source": [
    "## Frozen Sets\n",
    "\n",
    "Frozen sets are immutable sets."
   ]
  },
  {
   "cell_type": "code",
   "execution_count": 7,
   "id": "40b00bb4-3a4a-4679-8c9c-901e777cc362",
   "metadata": {
    "slideshow": {
     "slide_type": "fragment"
    },
    "tags": []
   },
   "outputs": [
    {
     "name": "stdout",
     "output_type": "stream",
     "text": [
      "Error: 'frozenset' object has no attribute 'add'\n"
     ]
    }
   ],
   "source": [
    "my_set = frozenset([1, 2, 3])\n",
    "\n",
    "try:\n",
    "    my_set.add(4)\n",
    "except AttributeError as error:\n",
    "    print(f\"Error: {error}\")"
   ]
  }
 ],
 "metadata": {
  "celltoolbar": "Slideshow",
  "kernelspec": {
   "display_name": "Python 3 (ipykernel)",
   "language": "python",
   "name": "python3"
  },
  "language_info": {
   "codemirror_mode": {
    "name": "ipython",
    "version": 3
   },
   "file_extension": ".py",
   "mimetype": "text/x-python",
   "name": "python",
   "nbconvert_exporter": "python",
   "pygments_lexer": "ipython3",
   "version": "3.11.7"
  }
 },
 "nbformat": 4,
 "nbformat_minor": 5
}
