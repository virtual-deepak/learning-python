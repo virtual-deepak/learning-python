{
 "cells": [
  {
   "cell_type": "code",
   "execution_count": 2,
   "metadata": {},
   "outputs": [],
   "source": [
    "\n",
    "import numpy as np\n"
   ]
  },
  {
   "cell_type": "code",
   "execution_count": 3,
   "metadata": {},
   "outputs": [
    {
     "name": "stdout",
     "output_type": "stream",
     "text": [
      "[[ 1  2  3]\n",
      " [11 22 33]\n",
      " [ 4  5  6]\n",
      " [ 8  9 10]\n",
      " [20 30 40]]\n"
     ]
    }
   ],
   "source": [
    "arr = np.array([[1, 2, 3], [11, 22, 33], [4, 5, 6], [8, 9, 10], [20, 30, 40]])\n",
    "print(arr)"
   ]
  },
  {
   "cell_type": "code",
   "execution_count": 4,
   "metadata": {},
   "outputs": [
    {
     "name": "stdout",
     "output_type": "stream",
     "text": [
      "Total Sum of the matrix from left to right: 204\n"
     ]
    }
   ],
   "source": [
    "sum = arr.sum(axis=None)\n",
    "print(f\"Total Sum of the matrix from left to right: {sum}\")"
   ]
  },
  {
   "cell_type": "code",
   "execution_count": 5,
   "metadata": {},
   "outputs": [
    {
     "name": "stdout",
     "output_type": "stream",
     "text": [
      "Sum of the matrix column-wise: [44 68 92]\n"
     ]
    }
   ],
   "source": [
    "sum = arr.sum(axis=0)\n",
    "print(f\"Sum of the matrix column-wise: {sum}\")"
   ]
  },
  {
   "cell_type": "code",
   "execution_count": 6,
   "metadata": {},
   "outputs": [
    {
     "name": "stdout",
     "output_type": "stream",
     "text": [
      "Sum of the matrix row-wise: [ 6 66 15 27 90]\n"
     ]
    }
   ],
   "source": [
    "sum = arr.sum(axis=1)\n",
    "print(f\"Sum of the matrix row-wise: {sum}\")"
   ]
  },
  {
   "cell_type": "code",
   "execution_count": 7,
   "metadata": {},
   "outputs": [
    {
     "name": "stdout",
     "output_type": "stream",
     "text": [
      "[[-0.17315268  0.97039336 -0.74131849]\n",
      " [-0.45442301 -1.00232067  1.41846285]]\n"
     ]
    }
   ],
   "source": [
    "arr = np.random.randn(2, 3)\n",
    "print(arr)"
   ]
  },
  {
   "cell_type": "code",
   "execution_count": 10,
   "metadata": {},
   "outputs": [
    {
     "name": "stdout",
     "output_type": "stream",
     "text": [
      "[[ 6  9]\n",
      " [12 15]]\n"
     ]
    }
   ],
   "source": [
    "# Matrix (2D) mupltipled with scalar or vector (1D)\n",
    "arr = np.array([[2, 3],[4, 5]])\n",
    "arr = np.dot(arr, 3)\n",
    "print(arr)"
   ]
  },
  {
   "cell_type": "code",
   "execution_count": 11,
   "metadata": {},
   "outputs": [
    {
     "name": "stdout",
     "output_type": "stream",
     "text": [
      "[[41 67]\n",
      " [53 87]]\n"
     ]
    }
   ],
   "source": [
    "# This is the matrix multiplication as shape is (2D)\n",
    "A = np.array([[6, 7],\n",
    "      [8, 9]])\n",
    "      \n",
    "B = np.array([[1, 3],\n",
    "      [5, 7]])\n",
    "\n",
    "print(np.dot(A,B))"
   ]
  },
  {
   "cell_type": "code",
   "execution_count": 19,
   "metadata": {},
   "outputs": [
    {
     "name": "stdout",
     "output_type": "stream",
     "text": [
      "[[1]\n",
      " [2]\n",
      " [3]]\n",
      "[[4]\n",
      " [5]\n",
      " [6]]\n",
      "Result: [[32]]\n"
     ]
    }
   ],
   "source": [
    "# Both are 1D. Conflict between matrix and vectors. Dot product is always between vectors.  \n",
    "# Hence they will be treated as vectors and not matrices.\n",
    "A = np.array([[1], [2], [3]])\n",
    "print(A)\n",
    "B = np.array(([4], [5], [6]))\n",
    "print(B)\n",
    "print(f\"Result: {np.dot(A.T, B)}\")"
   ]
  },
  {
   "cell_type": "code",
   "execution_count": null,
   "metadata": {},
   "outputs": [],
   "source": []
  }
 ],
 "metadata": {
  "kernelspec": {
   "display_name": ".venv",
   "language": "python",
   "name": "python3"
  },
  "language_info": {
   "codemirror_mode": {
    "name": "ipython",
    "version": 3
   },
   "file_extension": ".py",
   "mimetype": "text/x-python",
   "name": "python",
   "nbconvert_exporter": "python",
   "pygments_lexer": "ipython3",
   "version": "3.10.9"
  }
 },
 "nbformat": 4,
 "nbformat_minor": 2
}
